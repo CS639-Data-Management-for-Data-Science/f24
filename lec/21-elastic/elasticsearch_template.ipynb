{
 "cells": [
  {
   "cell_type": "markdown",
   "id": "b9bff378-38b4-47fe-857d-1e2f1b52f3a1",
   "metadata": {},
   "source": [
    "# Elasticsearch 2"
   ]
  },
  {
   "cell_type": "code",
   "execution_count": null,
   "id": "f124a0ca-ea67-44c9-a651-189f2e838c50",
   "metadata": {},
   "outputs": [],
   "source": [
    "import os\n",
    "from elasticsearch import Elasticsearch, helpers, NotFoundError\n",
    "import json\n",
    "from datetime import datetime"
   ]
  },
  {
   "cell_type": "code",
   "execution_count": null,
   "id": "012cc7c4-d944-44d6-8e59-58fc25b4577b",
   "metadata": {},
   "outputs": [],
   "source": [
    "elastic_user = \"elastic\"\n",
    "elastic_pwd = \"EBYMFova\""
   ]
  },
  {
   "cell_type": "code",
   "execution_count": null,
   "id": "112640aa-1a76-40e0-961e-dc53ae61cf14",
   "metadata": {},
   "outputs": [],
   "source": [
    "client = Elasticsearch(\"http://localhost:9200\", \\\n",
    "                       basic_auth=(elastic_user, elastic_pwd))  "
   ]
  },
  {
   "cell_type": "code",
   "execution_count": null,
   "id": "d59cbd16-772c-498a-a267-c780427cad7e",
   "metadata": {},
   "outputs": [],
   "source": [
    "client.info()"
   ]
  },
  {
   "cell_type": "markdown",
   "id": "29b8aa3e-86db-4dfe-b56a-2a9d9344a5a9",
   "metadata": {},
   "source": [
    "### Elasticsearch Python API\n",
    "\n",
    "- documentation: https://www.elastic.co/guide/en/elasticsearch/client/python-api/current/index.html"
   ]
  },
  {
   "cell_type": "markdown",
   "id": "62e3f6b7-d221-4beb-b8f5-63ee7007b9c2",
   "metadata": {},
   "source": [
    "### Indexing a document"
   ]
  },
  {
   "cell_type": "code",
   "execution_count": null,
   "id": "744d4526-989a-4b75-9d15-3024707104aa",
   "metadata": {},
   "outputs": [],
   "source": [
    "doc = {\n",
    "    'author': 'Meenakshi Syamkumar',\n",
    "    'text': 'Hope you have been enjoying CS639!',\n",
    "    'timestamp': datetime.now(),\n",
    "}\n"
   ]
  },
  {
   "cell_type": "code",
   "execution_count": null,
   "id": "7abee774-abfe-4843-ac91-50558e04b227",
   "metadata": {},
   "outputs": [],
   "source": [
    "doc = {\n",
    "    'author': 'Meenakshi Syamkumar',\n",
    "    'text': 'It is time we learn how to handle unstructured data!',\n",
    "    'timestamp': datetime.now(),\n",
    "}\n"
   ]
  },
  {
   "cell_type": "markdown",
   "id": "e313e752-8413-416a-8b23-f83007cc6c83",
   "metadata": {},
   "source": [
    "### Getting a document"
   ]
  },
  {
   "cell_type": "code",
   "execution_count": null,
   "id": "a1ffef39-b626-4cbc-8fa9-57ad14e808ec",
   "metadata": {},
   "outputs": [],
   "source": []
  },
  {
   "cell_type": "code",
   "execution_count": null,
   "id": "f0c73440-0045-479f-866e-20cc1164eaac",
   "metadata": {},
   "outputs": [],
   "source": [
    "print(resp['_source'])"
   ]
  },
  {
   "cell_type": "code",
   "execution_count": null,
   "id": "69641693-158c-4011-9822-32bd3e462301",
   "metadata": {},
   "outputs": [],
   "source": [
    "resp = client.get(index=\"test-index\", id=2)\n",
    "print(resp)"
   ]
  },
  {
   "cell_type": "markdown",
   "id": "42fcfb2d-75fc-44bd-a097-5e70a62d7ac1",
   "metadata": {},
   "source": [
    "### Searching for all matching documents\n",
    "\n",
    "- documentation: https://www.elastic.co/guide/en/elasticsearch/reference/current/query-dsl-match-all-query.html"
   ]
  },
  {
   "cell_type": "code",
   "execution_count": null,
   "id": "a18b496b-1737-46a7-84b6-ffd32a5080b1",
   "metadata": {},
   "outputs": [],
   "source": [
    "resp =\n",
    "resp"
   ]
  },
  {
   "cell_type": "markdown",
   "id": "1913c85b-5ecc-448c-ad6d-145f3fc930f3",
   "metadata": {},
   "source": [
    "### Deleting a document"
   ]
  },
  {
   "cell_type": "code",
   "execution_count": null,
   "id": "c2e365ca-2a3d-4e7c-8d67-4f3a2bbdf424",
   "metadata": {},
   "outputs": [],
   "source": []
  },
  {
   "cell_type": "code",
   "execution_count": null,
   "id": "82150ca3-e514-42eb-a03c-17d4b1b6a186",
   "metadata": {},
   "outputs": [],
   "source": [
    "resp = client.search(index=\"test-index\", query={\"match_all\": {}})\n",
    "resp"
   ]
  },
  {
   "cell_type": "markdown",
   "id": "5e570d38-5db8-498f-b05c-4918f947b8c4",
   "metadata": {},
   "source": [
    "### New York City Restaurants JSON dataset"
   ]
  },
  {
   "cell_type": "code",
   "execution_count": null,
   "id": "01c4af69-0f2b-454b-8020-e7fbd847e0c1",
   "metadata": {},
   "outputs": [],
   "source": [
    "nyc_index = \"nyc_restaurants\""
   ]
  },
  {
   "cell_type": "code",
   "execution_count": null,
   "id": "54060472-0daa-4191-b000-d70082724a05",
   "metadata": {},
   "outputs": [],
   "source": [
    "# delete index\n"
   ]
  },
  {
   "cell_type": "code",
   "execution_count": null,
   "id": "9e44300a-7994-44c1-9631-49f3a738355d",
   "metadata": {},
   "outputs": [],
   "source": [
    "# create index\n",
    "client.indices.create(index=nyc_index)"
   ]
  },
  {
   "cell_type": "code",
   "execution_count": null,
   "id": "6d86a187-8148-4623-807d-9b430bbeaa11",
   "metadata": {},
   "outputs": [],
   "source": [
    "json_data_dir = \"data/json\"\n",
    "json_files = [f for f in os.listdir(json_data_dir) if \".json\" in f]\n",
    "json_files"
   ]
  },
  {
   "cell_type": "markdown",
   "id": "d62d010b-1c25-4c3a-b8e4-4312d68d84cc",
   "metadata": {},
   "source": [
    "### Bulk loading JSON using `bulk` method\n",
    "\n",
    "```\n",
    "operations = [\n",
    "    {\"index\": {\"_index\": \"my_index\", \"_id\": \"1\"}},\n",
    "    {\"field1\": \"value1\", \"field2\": \"value2\"},\n",
    "    {\"index\": {\"_index\": \"my_index\", \"_id\": \"2\"}},\n",
    "    {\"field1\": \"value3\", \"field2\": \"value4\"},\n",
    "    ...\n",
    "]\n",
    "response = client.bulk(operations=operations)\n",
    "```\n",
    "documentation: https://www.elastic.co/guide/en/elasticsearch/reference/current/docs-bulk.html"
   ]
  },
  {
   "cell_type": "code",
   "execution_count": null,
   "id": "22be459e-958b-40de-9b76-54245d91dd2e",
   "metadata": {},
   "outputs": [],
   "source": []
  },
  {
   "cell_type": "markdown",
   "id": "f7b07af3-31cb-491e-b048-11e9dac1cbe1",
   "metadata": {},
   "source": [
    "### `get_mappings` method\n",
    "\n",
    "- Retrieves the mapping definition of an index or indices.\n",
    "- The mapping defines how the documents and fields within the index are structured, specifying data types (like text, keyword, integer, etc.) and configurations like analyzers and index settings."
   ]
  },
  {
   "cell_type": "code",
   "execution_count": null,
   "id": "c40444f7-4326-40ed-aeaa-3073ba35cfbe",
   "metadata": {},
   "outputs": [],
   "source": []
  },
  {
   "cell_type": "markdown",
   "id": "7edcefa5-47b8-4199-943e-6c055db65c06",
   "metadata": {},
   "source": [
    "### Bulk loading JSON using `helpers.bulk` method\n",
    "\n",
    "```\n",
    "operations = [\n",
    "    {\"index\": \"my_index\", \"_source\": {\"field1\": \"value1\", \"field2\": \"value2\"}},\n",
    "    {\"index\": \"my_index\", \"_source\": {\"field1\": \"value3\", \"field2\": \"value4\"}},\n",
    "    ...\n",
    "]\n",
    "response = helpers.bulk(client, operations)\n",
    "```\n",
    "documentation: https://elasticsearch-py.readthedocs.io/en/latest/helpers.html"
   ]
  },
  {
   "cell_type": "code",
   "execution_count": null,
   "id": "776a3027-09df-449e-b283-3ccca6e46350",
   "metadata": {},
   "outputs": [],
   "source": [
    "# delete index\n",
    "try:\n",
    "    client.indices.delete(index=nyc_index)\n",
    "except NotFoundError as e:\n",
    "    print(\"Index doesn't exist!\")"
   ]
  },
  {
   "cell_type": "code",
   "execution_count": null,
   "id": "7f43a3ca-8d13-4b8a-9f4c-c566610a9bb1",
   "metadata": {},
   "outputs": [],
   "source": [
    "client.indices.create(index=nyc_index)"
   ]
  },
  {
   "cell_type": "code",
   "execution_count": null,
   "id": "c047484d-4845-4fe5-9784-45e23f047824",
   "metadata": {},
   "outputs": [],
   "source": []
  },
  {
   "cell_type": "markdown",
   "id": "e70c7520-7e48-4750-8b58-87b3721d7b44",
   "metadata": {},
   "source": [
    "### Full Query DSL (Domain Specific Language)"
   ]
  },
  {
   "cell_type": "markdown",
   "id": "f439b45d-1d0f-4dc5-b129-fe7a45e27fd8",
   "metadata": {},
   "source": [
    "### `search` method\n",
    "\n",
    "- Allows you to execute a search query and get back search hits that match the query. You can provide search queries using the q query string parameter or request body.\n",
    "- documentation: https://www.elastic.co/guide/en/elasticsearch/reference/current/search-search.html"
   ]
  },
  {
   "cell_type": "markdown",
   "id": "2829be55-afd9-417b-ace7-3186308de54a",
   "metadata": {},
   "source": [
    "#### (Simple search) Q1: Find all restaurants in Manhattan that were subject to inspection."
   ]
  },
  {
   "cell_type": "code",
   "execution_count": null,
   "id": "b2d2a416-3e3f-4588-ab3e-520420806030",
   "metadata": {},
   "outputs": [],
   "source": [
    "\n",
    "\n",
    "for hit in response['hits']['hits']:\n",
    "    print(hit['_source']['DBA'], hit['_source']['BORO'], \\\n",
    "         hit['_source']['BUILDING'], hit['_source']['STREET'])"
   ]
  },
  {
   "cell_type": "markdown",
   "id": "6d3b3068-ccf7-4ce4-975a-eb2964b2acb7",
   "metadata": {},
   "source": [
    "#### (Simple search) Q2: Find all inspected \"Pizza\" restaurants."
   ]
  },
  {
   "cell_type": "code",
   "execution_count": null,
   "id": "b6bfd7e4-8cc0-41d2-8d1b-7dfe0a11ebf6",
   "metadata": {},
   "outputs": [],
   "source": [
    "\n",
    "for hit in response['hits']['hits']:\n",
    "    print(hit['_source']['DBA'])"
   ]
  },
  {
   "cell_type": "markdown",
   "id": "a9ef23c7-0885-4232-8182-1b92b8e34a47",
   "metadata": {},
   "source": [
    "#### (Fuzzy search) Q3: Find all inspected restaurants whose names are similar to \"Mamma Mia\"."
   ]
  },
  {
   "cell_type": "code",
   "execution_count": null,
   "id": "c2c2583c-4fb8-4def-a2da-99d53e2b9618",
   "metadata": {},
   "outputs": [],
   "source": [
    "\n",
    "\n",
    "for hit in response['hits']['hits']:\n",
    "    print(hit['_source']['DBA'])"
   ]
  },
  {
   "cell_type": "markdown",
   "id": "96922b79-7afe-4ae1-a487-25702233165d",
   "metadata": {},
   "source": [
    "#### (Phrase match search) Q4: Find all inspected restaurants whose violations that have the phrase \"food worker\"."
   ]
  },
  {
   "cell_type": "code",
   "execution_count": null,
   "id": "868a85f6-4d55-43d7-8b38-d5369053ffd3",
   "metadata": {},
   "outputs": [],
   "source": [
    "\n",
    "for hit in response['hits']['hits']:\n",
    "    print(hit['_source']['DBA'], \\\n",
    "         hit['_source']['VIOLATION DESCRIPTION'])"
   ]
  },
  {
   "cell_type": "markdown",
   "id": "8774442d-7fbc-4c0b-ae7a-7224f343145b",
   "metadata": {},
   "source": [
    "#### (Multi field match search) Q5: Find all restaurants that have \"Pizza\" or \"Pasta\" in either their name or their \"CUISINE DESCRIPTION\"."
   ]
  },
  {
   "cell_type": "code",
   "execution_count": null,
   "id": "31789ae5-74e9-41e8-a540-299280664985",
   "metadata": {},
   "outputs": [],
   "source": [
    "\n",
    "\n",
    "for hit in response['hits']['hits']:\n",
    "    print(f\"{hit['_source']['DBA']}: {hit['_source']['CUISINE DESCRIPTION']}\")"
   ]
  }
 ],
 "metadata": {
  "kernelspec": {
   "display_name": "Python 3 (ipykernel)",
   "language": "python",
   "name": "python3"
  },
  "language_info": {
   "codemirror_mode": {
    "name": "ipython",
    "version": 3
   },
   "file_extension": ".py",
   "mimetype": "text/x-python",
   "name": "python",
   "nbconvert_exporter": "python",
   "pygments_lexer": "ipython3",
   "version": "3.10.12"
  }
 },
 "nbformat": 4,
 "nbformat_minor": 5
}
