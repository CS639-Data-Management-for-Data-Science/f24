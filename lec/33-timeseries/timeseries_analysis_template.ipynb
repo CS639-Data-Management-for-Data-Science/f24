{
 "cells": [
  {
   "cell_type": "code",
   "execution_count": null,
   "id": "701eb825-7b07-4b8d-a395-25b01f56b585",
   "metadata": {},
   "outputs": [],
   "source": [
    "!pip install plotly --upgrade\n",
    "!pip install statsmodels"
   ]
  },
  {
   "cell_type": "code",
   "execution_count": null,
   "id": "dfbb7190-37fc-4f77-bfad-ce72237d92bd",
   "metadata": {},
   "outputs": [],
   "source": [
    "import pandas as pd\n",
    "import numpy as np\n",
    "import matplotlib.pyplot as plt\n",
    "import plotly.express as px\n",
    "import os"
   ]
  },
  {
   "cell_type": "markdown",
   "id": "32ab9956-1d5b-4a31-809b-7a21ea86160b",
   "metadata": {},
   "source": [
    "### Retailrocket recommender system dataset\n",
    "\n",
    "Source: https://www.kaggle.com/retailrocket/ecommerce-dataset"
   ]
  },
  {
   "cell_type": "markdown",
   "id": "35f6d898-108e-46e4-8ea2-0628fc5375ea",
   "metadata": {},
   "source": [
    "Load the dataset files."
   ]
  },
  {
   "cell_type": "code",
   "execution_count": null,
   "id": "bcca2cd5-7f27-485d-80b7-68d1e24f4c3f",
   "metadata": {},
   "outputs": [],
   "source": [
    "events = pd.read_csv(os.path.join('data', 'events.csv'))\n",
    "item_properties = pd.read_csv(os.path.join('data', 'item_properties_part1.csv'))\n",
    "category_tree = pd.read_csv(os.path.join('data', 'category_tree.csv'))"
   ]
  },
  {
   "cell_type": "code",
   "execution_count": null,
   "id": "01fd0ab3-0f87-4cae-ae6a-28cf289498f1",
   "metadata": {},
   "outputs": [],
   "source": [
    "events"
   ]
  },
  {
   "cell_type": "code",
   "execution_count": null,
   "id": "8f3deb63-562e-43cb-a981-aa74bf7405d2",
   "metadata": {},
   "outputs": [],
   "source": [
    "item_properties"
   ]
  },
  {
   "cell_type": "code",
   "execution_count": null,
   "id": "827fffa1-1b9d-4fb8-bb33-4eee8fc7302b",
   "metadata": {},
   "outputs": [],
   "source": [
    "category_tree"
   ]
  },
  {
   "cell_type": "markdown",
   "id": "c706bcfc-6e7f-4013-9c10-0ccc26b57529",
   "metadata": {},
   "source": [
    "## Exploratory Data Analysis (EDA)\n",
    "\n",
    "EDA is about understanding the data and forming hypotheses about it. \n",
    "\n",
    "- Visualizing Data: Histograms, scatter plots, box plots, etc., to understand distributions and relationships.\n",
    "- Summary Statistics: Calculating mean, median, mode, standard deviation, and correlation to gain insights into the dataset.\n",
    "- Detecting Outliers: Identifying values that deviate significantly from the rest of the data.\n",
    "- Assessing Data Types and Structure: Checking data types, unique values, and identifying missing values."
   ]
  },
  {
   "cell_type": "markdown",
   "id": "365066a7-5136-4931-a544-918df526dc8e",
   "metadata": {},
   "source": [
    "#### Q1: How many events happen on average per day?"
   ]
  },
  {
   "cell_type": "code",
   "execution_count": null,
   "id": "802dcf8c-813e-4246-920b-a5b8b8919d71",
   "metadata": {},
   "outputs": [],
   "source": [
    "events['event_datetime'] = pd.to_datetime(events['timestamp'], unit='ms')\n",
    "events['event_date'] = events['event_datetime'].dt.date\n",
    "events"
   ]
  },
  {
   "cell_type": "code",
   "execution_count": null,
   "id": "51b898e0-14cc-4467-b6b5-2356d5e08830",
   "metadata": {},
   "outputs": [],
   "source": []
  },
  {
   "cell_type": "markdown",
   "id": "c5632c1a-b1fb-4637-a994-c3980853cede",
   "metadata": {},
   "source": [
    "#### Q2: Calculate the count of each unique property corresponding to \"addtocart\" items."
   ]
  },
  {
   "cell_type": "code",
   "execution_count": null,
   "id": "53a7dea3-50fe-4cbb-980f-509df52956dc",
   "metadata": {},
   "outputs": [],
   "source": [
    "events"
   ]
  },
  {
   "cell_type": "code",
   "execution_count": null,
   "id": "4963c33c-b716-4e86-8344-ac4130bb8246",
   "metadata": {},
   "outputs": [],
   "source": [
    "item_properties"
   ]
  },
  {
   "cell_type": "code",
   "execution_count": null,
   "id": "abe5d3b2-77bb-4bda-9e1e-7e9ca166b919",
   "metadata": {},
   "outputs": [],
   "source": []
  },
  {
   "cell_type": "code",
   "execution_count": null,
   "id": "c4845d40-27c1-4fbc-bc52-df7d7f6700e2",
   "metadata": {},
   "outputs": [],
   "source": []
  },
  {
   "cell_type": "code",
   "execution_count": null,
   "id": "a7eb185b-6aa3-45d7-b226-3309d87d7bab",
   "metadata": {},
   "outputs": [],
   "source": []
  },
  {
   "cell_type": "markdown",
   "id": "3b98e646-e9c0-4b6c-80c9-67824f3c2aff",
   "metadata": {},
   "source": [
    "### Correlation Methods\n",
    "\n",
    "In EDA, various correlation methods are used to understand the relationship between numerical variables. \n",
    "\n",
    "#### What is correlation? \n",
    "\n",
    "The variables are said to be correlated if the changes in one variable results in a corresponding change in another variable.\n",
    "\n",
    "#### Pearson correlation (Linear relationship)\n",
    "\n",
    "Pearson correlation coefficientmeasures the strength of a relationship between two variables and their association with one another (linear correlation).\n",
    "\n",
    "#### Spearman correlation (Monotonic relationship)\n",
    "\n",
    "Spearman correlation enables us to assess the monotonic relationship between between two ranked variables. That is, how well the relationship between two variables could be represented using a monotonic function.\n",
    "\n",
    "- The Spearman Rank Correlation can take a value from +1 to -1 where:\n",
    "    - +1 means a perfect association\n",
    "    - 0 means that there is no association\n",
    "    - -1 means a perfect negative association\n",
    "- Further description of the correlation\n",
    "    - .00-.19 \"very weak\"\n",
    "    - .20-.39 \"weak\"\n",
    "    - .40-.59 \"moderate\"\n",
    "    - .60-.79 \"strong\"\n",
    "    - .80-1.0 \"very strong\"\n",
    "\n",
    "#### Kendall's Tau correlation\n",
    "Kendall's tau is a measure of the correspondence between two rankings\n",
    "\n",
    "#### Which correlation type should you choose?\n",
    "\n",
    "- Use Pearson for linear relationships when data assumptions are met.\n",
    "- Use Spearman for ordinal data or when data isn't linear.\n",
    "- Use Kendall's Tau for smaller datasets and many rank ties\n",
    "\n",
    "#### Readings:\n",
    "\n",
    "1. https://www.simplilearn.com/tutorials/statistics-tutorial/spearmans-rank-correlation#:~:text=Spearman's%20rank%20correlation%20measures%20the,represented%20using%20a%20monotonic%20function. \n",
    "2. https://www.simplilearn.com/tutorials/statistics-tutorial/pearson-correlation-coefficient-in-statistics#pearsons_correlation_coefficient\n",
    "3. https://datatab.net/tutorial/pearson-correlation\n",
    "4. https://datatab.net/tutorial/spearman-correlation\n",
    "5. https://datatab.net/tutorial/dispersion-parameter"
   ]
  },
  {
   "cell_type": "markdown",
   "id": "f992fa1a-e3cf-4575-a08b-f88a87d4a7f4",
   "metadata": {},
   "source": [
    "#### Q3: What is the Spearman correlation between the number of \"view\" events and the number of \"addtocart\" events per item?"
   ]
  },
  {
   "cell_type": "code",
   "execution_count": null,
   "id": "511d0115-56f4-4798-b728-c0cd684d8221",
   "metadata": {},
   "outputs": [],
   "source": [
    "# Filter 'view' and 'addtocart' events\n",
    "view_events = \n",
    "addtocart_events = "
   ]
  },
  {
   "cell_type": "code",
   "execution_count": null,
   "id": "2c5003f4-f645-4d89-a95c-b2264c4a6b24",
   "metadata": {},
   "outputs": [],
   "source": [
    "# Item count\n",
    "view_counts = \n",
    "addtocart_counts = "
   ]
  },
  {
   "cell_type": "code",
   "execution_count": null,
   "id": "b2607b63-0086-49ce-b45d-602ff0db6701",
   "metadata": {},
   "outputs": [],
   "source": [
    "view_df = \n",
    "addtocart_df = "
   ]
  },
  {
   "cell_type": "code",
   "execution_count": null,
   "id": "db43961d-f262-4d51-8d71-e64df330577e",
   "metadata": {},
   "outputs": [],
   "source": [
    "merged_df = "
   ]
  },
  {
   "cell_type": "code",
   "execution_count": null,
   "id": "8045e138-5baf-4055-b4c4-6991774516ef",
   "metadata": {},
   "outputs": [],
   "source": [
    "spearman_corr = \n",
    "spearman_corr"
   ]
  },
  {
   "cell_type": "markdown",
   "id": "84b03989-1d8d-4264-be34-14952acc3bdf",
   "metadata": {},
   "source": [
    "#### Q4: What is the Pearson correlation between the number of \"view\" events and the number of \"addtocart\" events per item?"
   ]
  },
  {
   "cell_type": "code",
   "execution_count": null,
   "id": "5621b346-f6e2-4523-beba-86fd061fa5c9",
   "metadata": {},
   "outputs": [],
   "source": [
    "pearson_corr = \n",
    "pearson_corr"
   ]
  },
  {
   "cell_type": "markdown",
   "id": "d8badf06-dea9-4672-9851-79440d627c9d",
   "metadata": {},
   "source": [
    "#### Q5: What is the Kendall's Tau correlation between the number of \"view\" events and the number of \"addtocart\" events per item?"
   ]
  },
  {
   "cell_type": "code",
   "execution_count": null,
   "id": "26a2e88a-8c57-4338-84c5-bcaea5f08696",
   "metadata": {},
   "outputs": [],
   "source": [
    "kendall_tau_corr = \n",
    "kendall_tau_corr"
   ]
  },
  {
   "cell_type": "markdown",
   "id": "0f0b38a0-6193-40b9-9206-e01d6dd9e6ce",
   "metadata": {},
   "source": [
    "#### Q6: Create a scatter plot with ordinary least squares' trend line to show correlation between the number of \"view\" events and the number of \"addtocart\" events per item. "
   ]
  },
  {
   "cell_type": "code",
   "execution_count": null,
   "id": "ed20d0ed-e833-4318-b4aa-a8bebdac2fc6",
   "metadata": {},
   "outputs": [],
   "source": []
  },
  {
   "cell_type": "code",
   "execution_count": null,
   "id": "dc1c6431-452f-48bc-92f6-d1c39502ee2c",
   "metadata": {},
   "outputs": [],
   "source": [
    "events"
   ]
  },
  {
   "cell_type": "markdown",
   "id": "16be9022-1ae1-44e3-ac82-92f7d687bcc0",
   "metadata": {},
   "source": [
    "#### Q7: Plot a line chart of the number of events (view, transaction, etc.) over time, color-coded by the event type."
   ]
  },
  {
   "cell_type": "code",
   "execution_count": null,
   "id": "3af8339f-41d4-40c5-95b6-59ea6d115bfc",
   "metadata": {},
   "outputs": [],
   "source": []
  },
  {
   "cell_type": "markdown",
   "id": "dca78d27-08e1-4f8e-9aca-18f93c83ded9",
   "metadata": {},
   "source": [
    "#### pandas `resample` method\n",
    "\n",
    "Documentation: https://pandas.pydata.org/docs/reference/api/pandas.DataFrame.resample.html"
   ]
  },
  {
   "cell_type": "markdown",
   "id": "6b9908a3-513c-49c9-ad00-c5a471d362da",
   "metadata": {},
   "source": [
    "#### Q8: Calculate the monthly count number of events and create a line chart."
   ]
  },
  {
   "cell_type": "code",
   "execution_count": null,
   "id": "bc06e9f5-b3df-4095-ab2f-2bbb302c7d0b",
   "metadata": {},
   "outputs": [],
   "source": [
    "\n",
    "\n",
    "fig = px.line(\n",
    "    monthly_avg, \n",
    "    x='event_datetime', \n",
    "    y='event_count', \n",
    "    color='year', \n",
    "    title=\"Monthly total event counts\",\n",
    "    labels={'event_datetime': 'Month', 'event_count': 'Average Events', 'year': 'Year'}\n",
    ")\n",
    "fig.show()"
   ]
  },
  {
   "cell_type": "markdown",
   "id": "e7998f2b-4acc-4f8b-a51e-a8273123e663",
   "metadata": {},
   "source": [
    "#### Q9: Calculate the total number of events per day of the week for each year and visualize the trend with a line chart."
   ]
  },
  {
   "cell_type": "code",
   "execution_count": null,
   "id": "9c207985-0040-4dad-a1bc-a954fc5c50d9",
   "metadata": {},
   "outputs": [],
   "source": [
    "\n",
    "fig = px.line(\n",
    "    events_v2, \n",
    "    x=\"dayofweek\", \n",
    "    y=\"event_count\", \n",
    "    color=\"year\", \n",
    "    title=\"Total events per day of the week\",\n",
    "    labels={'dayofweek': 'Day of Week (1=Monday, 7=Sunday)', 'event_count': 'Total Events'}\n",
    ")\n",
    "fig.show()"
   ]
  },
  {
   "cell_type": "code",
   "execution_count": null,
   "id": "1106e0e5-8d3f-44e8-81e2-bba11352f719",
   "metadata": {},
   "outputs": [],
   "source": [
    "events"
   ]
  },
  {
   "cell_type": "markdown",
   "id": "2f641cbe-1be6-4ce0-877b-f7f30a11fa90",
   "metadata": {},
   "source": [
    "#### Q10: Aggregate the number of events per day and plot the trend for the total number of events over time."
   ]
  },
  {
   "cell_type": "code",
   "execution_count": null,
   "id": "fbaf9e39-5629-47ca-9d6f-caef1eb452df",
   "metadata": {},
   "outputs": [],
   "source": [
    "\n",
    "fig = px.line(\n",
    "    events_per_day, \n",
    "    x='event_datetime', \n",
    "    y='event_count', \n",
    "    title=\"Total events per day\", \n",
    "    labels={'event_datetime': 'Date', 'event_count': 'Total Events'}\n",
    ")\n",
    "fig.show()"
   ]
  },
  {
   "cell_type": "code",
   "execution_count": null,
   "id": "5e7e6650-1485-48fe-877f-6065e6b9e2ea",
   "metadata": {},
   "outputs": [],
   "source": []
  }
 ],
 "metadata": {
  "kernelspec": {
   "display_name": "Python 3 (ipykernel)",
   "language": "python",
   "name": "python3"
  },
  "language_info": {
   "codemirror_mode": {
    "name": "ipython",
    "version": 3
   },
   "file_extension": ".py",
   "mimetype": "text/x-python",
   "name": "python",
   "nbconvert_exporter": "python",
   "pygments_lexer": "ipython3",
   "version": "3.10.12"
  }
 },
 "nbformat": 4,
 "nbformat_minor": 5
}
