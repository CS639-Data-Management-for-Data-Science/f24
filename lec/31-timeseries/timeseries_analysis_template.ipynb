{
 "cells": [
  {
   "cell_type": "code",
   "execution_count": null,
   "id": "dfbb7190-37fc-4f77-bfad-ce72237d92bd",
   "metadata": {},
   "outputs": [],
   "source": [
    "import pandas as pd\n",
    "import numpy as np\n",
    "import matplotlib.pyplot as plt\n",
    "import os"
   ]
  },
  {
   "cell_type": "markdown",
   "id": "32ab9956-1d5b-4a31-809b-7a21ea86160b",
   "metadata": {},
   "source": [
    "### Retailrocket recommender system dataset\n",
    "\n",
    "Source: https://www.kaggle.com/retailrocket/ecommerce-dataset"
   ]
  },
  {
   "cell_type": "markdown",
   "id": "35f6d898-108e-46e4-8ea2-0628fc5375ea",
   "metadata": {},
   "source": [
    "Load the dataset files."
   ]
  },
  {
   "cell_type": "code",
   "execution_count": null,
   "id": "bcca2cd5-7f27-485d-80b7-68d1e24f4c3f",
   "metadata": {},
   "outputs": [],
   "source": [
    "events = \n",
    "item_properties = pd.read_csv(os.path.join('data', 'item_properties_part1.csv'))\n",
    "category_tree = pd.read_csv(os.path.join('data', 'category_tree.csv'))"
   ]
  },
  {
   "cell_type": "code",
   "execution_count": null,
   "id": "01fd0ab3-0f87-4cae-ae6a-28cf289498f1",
   "metadata": {},
   "outputs": [],
   "source": [
    "events"
   ]
  },
  {
   "cell_type": "code",
   "execution_count": null,
   "id": "8f3deb63-562e-43cb-a981-aa74bf7405d2",
   "metadata": {},
   "outputs": [],
   "source": [
    "item_properties"
   ]
  },
  {
   "cell_type": "code",
   "execution_count": null,
   "id": "827fffa1-1b9d-4fb8-bb33-4eee8fc7302b",
   "metadata": {},
   "outputs": [],
   "source": [
    "category_tree"
   ]
  },
  {
   "cell_type": "markdown",
   "id": "d247313f-9bcf-4acb-8c3d-ae91f8763e6f",
   "metadata": {},
   "source": [
    "## Exploratory Data Analysis (EDA)\n",
    "\n",
    "EDA is about understanding the data and forming hypotheses about it. \n",
    "\n",
    "- Visualizing Data: Histograms, scatter plots, box plots, etc., to understand distributions and relationships.\n",
    "- Summary Statistics: Calculating mean, median, mode, standard deviation, and correlation to gain insights into the dataset.\n",
    "- Detecting Outliers: Identifying values that deviate significantly from the rest of the data.\n",
    "- Assessing Data Types and Structure: Checking data types, unique values, and identifying missing values."
   ]
  },
  {
   "cell_type": "markdown",
   "id": "147aefbf-6d7a-4d02-99b4-17d9fe30da97",
   "metadata": {},
   "source": [
    "#### Q1: Convert timestamp into corresponding date."
   ]
  },
  {
   "cell_type": "code",
   "execution_count": null,
   "id": "004d909b-d7fe-44dc-8405-7aa29fbec036",
   "metadata": {},
   "outputs": [],
   "source": [
    "# Convert timestamp to datetime (milliseconds to seconds)\n"
   ]
  },
  {
   "cell_type": "code",
   "execution_count": null,
   "id": "8f2ccdb9-a11c-4069-8855-7d06f30bec55",
   "metadata": {},
   "outputs": [],
   "source": []
  },
  {
   "cell_type": "markdown",
   "id": "bc85172a-2a44-47ac-88c6-5edd3c2949a5",
   "metadata": {},
   "source": [
    "#### Q2: Computer total count of each event type (`views`, `addtocart`, `transaction`) per item per day."
   ]
  },
  {
   "cell_type": "code",
   "execution_count": null,
   "id": "76a669c4-8400-4955-91fb-24ae345a3370",
   "metadata": {},
   "outputs": [],
   "source": []
  },
  {
   "cell_type": "code",
   "execution_count": null,
   "id": "4aea8fc8-69ca-4b1d-a3d9-fe57a2537505",
   "metadata": {},
   "outputs": [],
   "source": []
  },
  {
   "cell_type": "code",
   "execution_count": null,
   "id": "8782bbbd-5b63-45a4-9dff-0c24ba4a7203",
   "metadata": {},
   "outputs": [],
   "source": []
  },
  {
   "cell_type": "markdown",
   "id": "84ec2f34-f9fc-4e5a-bff2-82bd372830f6",
   "metadata": {},
   "source": [
    "#### Q3: Compute top 10 items with the highest number of `view` events."
   ]
  },
  {
   "cell_type": "code",
   "execution_count": null,
   "id": "1fa1dd5a-b748-4cc2-908d-b22299beec5c",
   "metadata": {},
   "outputs": [],
   "source": []
  },
  {
   "cell_type": "code",
   "execution_count": null,
   "id": "7fd1fa49-25de-476b-bfba-7fd94a83b1d9",
   "metadata": {},
   "outputs": [],
   "source": []
  },
  {
   "cell_type": "markdown",
   "id": "9eb44c1a-5290-4d5f-adce-c95cb602d570",
   "metadata": {},
   "source": [
    "#### Q4: What is the distribution of event types (view, purchase, etc.) in the events dataset?"
   ]
  },
  {
   "cell_type": "code",
   "execution_count": null,
   "id": "cdb9f9ef-1478-4805-838b-305a19b8f277",
   "metadata": {},
   "outputs": [],
   "source": []
  },
  {
   "cell_type": "markdown",
   "id": "c1ee88c2-0d10-4961-ba24-5d81e6479a09",
   "metadata": {},
   "source": [
    "#### Q5: How many different items are in the dataset?"
   ]
  },
  {
   "cell_type": "code",
   "execution_count": null,
   "id": "0940fd68-86b0-4e95-b370-2771e8576762",
   "metadata": {},
   "outputs": [],
   "source": []
  },
  {
   "cell_type": "markdown",
   "id": "d4ec7f50-75e2-4143-a15e-32980ef2bd8e",
   "metadata": {},
   "source": [
    "#### Q6: What is the average number of events per visitor?"
   ]
  },
  {
   "cell_type": "code",
   "execution_count": null,
   "id": "e4889241-1217-4142-be69-3e1df8a4d3c3",
   "metadata": {},
   "outputs": [],
   "source": []
  },
  {
   "cell_type": "markdown",
   "id": "688568dd-b76b-42f2-8703-31426d296305",
   "metadata": {},
   "source": [
    "#### Q7: How many unique transactions are in the dataset?"
   ]
  },
  {
   "cell_type": "code",
   "execution_count": null,
   "id": "b798978d-1591-4be5-af6d-6e9872528d0e",
   "metadata": {},
   "outputs": [],
   "source": []
  },
  {
   "cell_type": "markdown",
   "id": "d4360373-d38d-4daa-b142-839837f3b6ed",
   "metadata": {},
   "source": [
    "#### Q8: What is the distribution of transactions?"
   ]
  },
  {
   "cell_type": "code",
   "execution_count": null,
   "id": "1df04faa-7875-4275-83f7-142631c543c3",
   "metadata": {},
   "outputs": [],
   "source": []
  },
  {
   "cell_type": "markdown",
   "id": "efeecc7f-b5c4-4204-8c26-0e8d665913c3",
   "metadata": {},
   "source": [
    "#### Q9: How many events happen on average per day?"
   ]
  },
  {
   "cell_type": "code",
   "execution_count": null,
   "id": "5e52d353-e1d0-4c31-a2f7-d117bf7daeb8",
   "metadata": {},
   "outputs": [],
   "source": []
  },
  {
   "cell_type": "markdown",
   "id": "1d310082-90a3-4256-b0c5-f006a0e8282c",
   "metadata": {},
   "source": [
    "#### Q10: Left join `events` with `item_properties`."
   ]
  },
  {
   "cell_type": "code",
   "execution_count": null,
   "id": "b4c73737-de62-4a1a-8b07-3bad2af7e699",
   "metadata": {},
   "outputs": [],
   "source": []
  },
  {
   "cell_type": "markdown",
   "id": "af90dbac-976b-4af2-a754-83da7f48d1e1",
   "metadata": {},
   "source": [
    "#### Q11: Convert `parentid` column to `int32` type."
   ]
  },
  {
   "cell_type": "code",
   "execution_count": null,
   "id": "6152bc87-407a-46f7-90ab-2fd7251dc7e8",
   "metadata": {},
   "outputs": [],
   "source": [
    "category_tree"
   ]
  },
  {
   "cell_type": "code",
   "execution_count": null,
   "id": "c611e0bf-3ec2-4edb-bab6-ace49200fdb6",
   "metadata": {},
   "outputs": [],
   "source": [
    "category_tree_v2 = \n",
    "category_tree_v3 = \n",
    "category_tree_v4 = "
   ]
  },
  {
   "cell_type": "code",
   "execution_count": null,
   "id": "459d637f-37db-41ac-b486-fa6e0db74d65",
   "metadata": {},
   "outputs": [],
   "source": []
  },
  {
   "cell_type": "markdown",
   "id": "2902c01d-4929-4e16-8293-6c2bd58d45df",
   "metadata": {},
   "source": [
    "## Data imputation\n",
    "\n",
    "a process that replaces missing values in a dataset with estimated values\n",
    "\n",
    "### Handling missing values with `category_tree`"
   ]
  },
  {
   "cell_type": "markdown",
   "id": "2a1049b3-32df-4142-aa37-0979850ed55f",
   "metadata": {},
   "source": [
    "#### Option 1: Fill `NaN` with a placeholder value (e.g., -1 or another integer)"
   ]
  },
  {
   "cell_type": "code",
   "execution_count": null,
   "id": "ba9f19d6-201c-4960-890d-23f411e6402c",
   "metadata": {},
   "outputs": [],
   "source": []
  },
  {
   "cell_type": "markdown",
   "id": "c7996cb9-d4f8-4982-81d1-bc0bb4bdd15a",
   "metadata": {},
   "source": [
    "#### Option 2: Drop rows with `NaN` in the `parentid `column"
   ]
  },
  {
   "cell_type": "code",
   "execution_count": null,
   "id": "cff3811b-4ce0-4c9a-b46d-0209a30f4b1e",
   "metadata": {},
   "outputs": [],
   "source": []
  },
  {
   "cell_type": "markdown",
   "id": "795453cb-83c1-4f88-95b3-ed61f98f47d3",
   "metadata": {},
   "source": [
    "#### Option 3: Use `Int32` (nullable integer type)"
   ]
  },
  {
   "cell_type": "code",
   "execution_count": null,
   "id": "c16b86e4-9c84-4b16-9af2-b3cd914e3063",
   "metadata": {},
   "outputs": [],
   "source": []
  },
  {
   "cell_type": "markdown",
   "id": "939d51c6-d30c-4bc7-909e-8428e2323530",
   "metadata": {},
   "source": [
    "### Interpolation\n",
    "\n",
    "Interpolation is a technique that can be useful for handling missing values, particularly when the missing data is assumed to follow a pattern or trend based on the existing values in the dataset. This is often the case with time series or ordered data, where the missing values are assumed to lie between known values. Interpolation fills in these gaps by estimating the missing data points using existing values.\n",
    "\n",
    "When **NOT** to Use Interpolation:\n",
    "- Large gaps: If the data has large gaps between observations, interpolation might not provide meaningful or reliable estimates.\n",
    "- Randomness in missing values: If the missing values are random or don't follow any pattern (Missing Completely at Random - MCAR), interpolation may not be appropriate, as it assumes a relationship between values.\n",
    "- Categorical or non-numeric data: Interpolation is typically used for continuous numerical data. For categorical or binary data, interpolation is not suitable.\n",
    "\n",
    "**TopHat question**"
   ]
  },
  {
   "cell_type": "code",
   "execution_count": null,
   "id": "614094a1-c683-4639-9730-671f28cf4377",
   "metadata": {},
   "outputs": [],
   "source": [
    "np.random.seed(639)\n",
    "\n",
    "date_range = pd.date_range(start='2024-01-01', periods=60, freq='D')\n",
    "sales_data = np.random.normal(loc=200, scale=20, size=len(date_range))\n",
    "sales_data[::5] = np.nan  # missing value every 5th day\n",
    "\n",
    "df = pd.DataFrame({\n",
    "    'date': date_range,\n",
    "    'sales': sales_data\n",
    "})\n",
    "print(df.head())\n",
    "\n",
    "plt.figure(figsize=(10, 6))\n",
    "plt.plot(df['date'], df['sales'], marker='o', linestyle='-', color='black')\n",
    "plt.xticks(rotation=45)\n",
    "plt.ylabel('Sales')\n",
    "plt.grid(True)\n",
    "plt.show()"
   ]
  },
  {
   "cell_type": "markdown",
   "id": "d281264f-8257-488c-a682-9465f271fabf",
   "metadata": {},
   "source": [
    "### Linear interpolation\n",
    "\n",
    "- Assumption: the missing data points lie along a straight line between the known data points.\n",
    "- Linear interpolation commonly used for time series where changes are expected to be linear between data points.\n",
    "- When to use: when the relationship between consecutive values is roughly linear or changes gradually."
   ]
  },
  {
   "cell_type": "code",
   "execution_count": null,
   "id": "466baa12-f3f4-4347-b39c-c93ebdc86a22",
   "metadata": {},
   "outputs": [],
   "source": [
    "\n",
    "\n",
    "plt.figure(figsize=(10, 6))\n",
    "plt.plot(df['date'], df['sales'], marker='o', linestyle='-', label='Interpolated Sales', color='orange')\n",
    "plt.xticks(rotation=45)\n",
    "plt.legend()\n",
    "plt.grid(True)\n",
    "plt.show()"
   ]
  },
  {
   "cell_type": "markdown",
   "id": "76d2bdf4-1048-44f7-bf98-5fa1faa6a8d5",
   "metadata": {},
   "source": [
    "### Polynomial interpolation\n",
    "\n",
    "- Polynomial interpolation fits a polynomial curve through the known data points and uses it to estimate the missing values.\n",
    "- When to use: when the data shows a nonlinear relationship between points (for example, seasonal effects or periodic patterns)."
   ]
  },
  {
   "cell_type": "code",
   "execution_count": null,
   "id": "f17df91f-c94b-4df3-a6cc-3ce0bdac8e72",
   "metadata": {},
   "outputs": [],
   "source": [
    "\n",
    "plt.figure(figsize=(10, 6))\n",
    "plt.plot(df['date'], df['sales'], marker='o', linestyle='-', label='Interpolated Sales', color='orange')\n",
    "plt.xticks(rotation=45)\n",
    "plt.legend()\n",
    "plt.grid(True)\n",
    "plt.show()"
   ]
  },
  {
   "cell_type": "markdown",
   "id": "330dc155-a468-439b-b466-55cf27fbe640",
   "metadata": {},
   "source": [
    "#### Why do both methods produced the same result?\n",
    "\n",
    "- Polynomial interpolation of order 2 fits a quadratic function (a parabola) between the two surrounding data points.\n",
    "- A quadratic function can curve, but for the simple case where the data points are relatively close to each other and do not exhibit any highly nonlinear or curving behavior, the quadratic curve might end up being very similar to the straight line in terms of interpolation.\n",
    "- When there are only two points surrounding the missing value (as is typical with simple time series data), the quadratic interpolation will essentially behave like a linear interpolation because a second-degree polynomial (a parabola) that passes through two points is uniquely determined by those two points and does not \"bend\" between them in a noticeable way."
   ]
  },
  {
   "cell_type": "code",
   "execution_count": null,
   "id": "72189d66-40e3-4fe6-93c3-1a960b507b24",
   "metadata": {},
   "outputs": [],
   "source": [
    "# Non-linear timeseries - sine curve\n",
    "np.random.seed(42)\n",
    "date_range = pd.date_range(start='2024-01-01', periods=60, freq='D')\n",
    "sales_data = 100 + 50 * np.sin(np.linspace(0, 3 * np.pi, len(date_range)))\n",
    "\n",
    "# Introduce missing values randomly\n",
    "missing_indices = np.random.choice(range(len(sales_data)), size=18, replace=False)\n",
    "sales_data[missing_indices] = np.nan\n",
    "\n",
    "df = pd.DataFrame({\n",
    "    'date': date_range,\n",
    "    'sales': sales_data\n",
    "})\n",
    "\n",
    "plt.figure(figsize=(10, 6))\n",
    "plt.plot(df['date'], df['sales'], marker='o', linestyle='-', label='Original Sales with Missing Values')\n",
    "plt.xticks(rotation=45)\n",
    "plt.ylabel('Sales')\n",
    "plt.grid(True)"
   ]
  },
  {
   "cell_type": "code",
   "execution_count": null,
   "id": "71800e4e-079c-4626-951d-6c3f4e2c5794",
   "metadata": {},
   "outputs": [],
   "source": [
    "# Interpolate using linear method\n",
    "\n",
    "# Interpolate using polynomial method (order 2)\n",
    "\n",
    "plt.figure(figsize=(10, 6))\n",
    "plt.plot(df['date'], df['sales_linear'], marker='o', linestyle='-', label='Interpolated Sales (Linear)', color='orange')\n",
    "plt.plot(df['date'], df['sales_polynomial'], marker='x', linestyle='-', label='Interpolated Sales (Polynomial)', color='green')\n",
    "plt.legend()\n",
    "plt.title('Linear vs Polynomial Interpolation on Nonlinear Data')\n",
    "plt.grid(True)\n",
    "plt.show()"
   ]
  },
  {
   "cell_type": "markdown",
   "id": "54ff649e-680f-4a39-a0e0-4692ca3aa4d8",
   "metadata": {},
   "source": [
    "### Spline interpolation\n",
    "\n",
    "- Spline interpolation fits a smooth curve (a piecewise polynomial, typically cubic) through the known data points and estimates the missing values.\n",
    "- When to use: when the data exhibits a smooth, nonlinear trend (often used for time series with cycles or seasonal patterns).\n",
    "\n",
    "### Spline vs Polynomial\n",
    "\n",
    "- When to use spline interpolation: when you need smooth, piecewise fits, especially when the data is non-linear or has noise. It's ideal for smooth, continuous data that needs to be modeled accurately across a range of values.\n",
    "- When to use polynomial interpolation: when you have a simple, small dataset, and you want a single polynomial that fits all points exactly. Avoid polynomial interpolation with large or noisy datasets because it can cause overfitting and oscillations."
   ]
  },
  {
   "cell_type": "code",
   "execution_count": null,
   "id": "468db259-1ff3-47cb-a3c0-338a5de2ef4b",
   "metadata": {},
   "outputs": [],
   "source": [
    "np.random.seed(639)\n",
    "date_range = pd.date_range(start='2024-01-01', periods=60, freq='D')\n",
    "sales_data = 100 * np.sin(np.linspace(0, 3 * np.pi, len(date_range))) \n",
    "\n",
    "# Introduce missing values randomly\n",
    "missing_indices = np.random.choice(range(5, len(sales_data), 5), size=10, replace=False)\n",
    "sales_data[missing_indices] = np.nan\n",
    "\n",
    "df = pd.DataFrame({\n",
    "    'date': date_range,\n",
    "    'sales': sales_data\n",
    "})\n",
    "\n",
    "plt.figure(figsize=(10, 6))\n",
    "plt.plot(df['date'], df['sales'], marker='o', linestyle='-', label='Original Sales with Missing Values', color='blue')\n",
    "plt.xticks(rotation=45)\n",
    "plt.ylabel('Sales')\n",
    "plt.grid(True)\n",
    "\n",
    "# Interpolate using cubic spline method\n",
    "\n",
    "\n",
    "plt.plot(df['date'], df['sales_spline'], marker='x', linestyle='-', label='Interpolated Sales (Spline)', color='green')\n",
    "plt.legend()\n",
    "plt.title('Spline Interpolation on Sinusoidal Data')\n",
    "plt.show()"
   ]
  },
  {
   "cell_type": "code",
   "execution_count": null,
   "id": "7032c708-fe62-4f0f-950a-958ebd3361ac",
   "metadata": {},
   "outputs": [],
   "source": []
  }
 ],
 "metadata": {
  "kernelspec": {
   "display_name": "Python 3 (ipykernel)",
   "language": "python",
   "name": "python3"
  },
  "language_info": {
   "codemirror_mode": {
    "name": "ipython",
    "version": 3
   },
   "file_extension": ".py",
   "mimetype": "text/x-python",
   "name": "python",
   "nbconvert_exporter": "python",
   "pygments_lexer": "ipython3",
   "version": "3.10.12"
  }
 },
 "nbformat": 4,
 "nbformat_minor": 5
}
