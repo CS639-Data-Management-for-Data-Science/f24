{
  "nbformat": 4,
  "nbformat_minor": 0,
  "metadata": {
    "colab": {
      "provenance": [],
      "gpuType": "T4"
    },
    "kernelspec": {
      "name": "python3",
      "display_name": "Python 3"
    },
    "language_info": {
      "name": "python"
    },
    "accelerator": "GPU",
    "widgets": {
      "application/vnd.jupyter.widget-state+json": {
        "b008edeb99db4a41aa921d904287bce6": {
          "model_module": "@jupyter-widgets/controls",
          "model_name": "VBoxModel",
          "model_module_version": "1.5.0",
          "state": {
            "_dom_classes": [],
            "_model_module": "@jupyter-widgets/controls",
            "_model_module_version": "1.5.0",
            "_model_name": "VBoxModel",
            "_view_count": null,
            "_view_module": "@jupyter-widgets/controls",
            "_view_module_version": "1.5.0",
            "_view_name": "VBoxView",
            "box_style": "",
            "children": [],
            "layout": "IPY_MODEL_f3bdc2d499b7453ca567999a733b3f7d"
          }
        },
        "5abdcf06443c4ef39b262ba7da9e0265": {
          "model_module": "@jupyter-widgets/controls",
          "model_name": "HTMLModel",
          "model_module_version": "1.5.0",
          "state": {
            "_dom_classes": [],
            "_model_module": "@jupyter-widgets/controls",
            "_model_module_version": "1.5.0",
            "_model_name": "HTMLModel",
            "_view_count": null,
            "_view_module": "@jupyter-widgets/controls",
            "_view_module_version": "1.5.0",
            "_view_name": "HTMLView",
            "description": "",
            "description_tooltip": null,
            "layout": "IPY_MODEL_91df22819c404720a25bb739dc0ff417",
            "placeholder": "​",
            "style": "IPY_MODEL_9fca9fca8a324a6297d6b4573e6480c0",
            "value": "<center> <img\nsrc=https://huggingface.co/front/assets/huggingface_logo-noborder.svg\nalt='Hugging Face'> <br> Copy a token from <a\nhref=\"https://huggingface.co/settings/tokens\" target=\"_blank\">your Hugging Face\ntokens page</a> and paste it below. <br> Immediately click login after copying\nyour token or it might be stored in plain text in this notebook file. </center>"
          }
        },
        "f41e5a2e6c334efd97a35848b45f81a2": {
          "model_module": "@jupyter-widgets/controls",
          "model_name": "PasswordModel",
          "model_module_version": "1.5.0",
          "state": {
            "_dom_classes": [],
            "_model_module": "@jupyter-widgets/controls",
            "_model_module_version": "1.5.0",
            "_model_name": "PasswordModel",
            "_view_count": null,
            "_view_module": "@jupyter-widgets/controls",
            "_view_module_version": "1.5.0",
            "_view_name": "PasswordView",
            "continuous_update": true,
            "description": "Token:",
            "description_tooltip": null,
            "disabled": false,
            "layout": "IPY_MODEL_6aa8ba9ba4514483a10380f8c9e20b54",
            "placeholder": "​",
            "style": "IPY_MODEL_673065a3837a4c85aba51635c365a7e4",
            "value": ""
          }
        },
        "8a4f8b6ca8244c36a07f337211fecc10": {
          "model_module": "@jupyter-widgets/controls",
          "model_name": "CheckboxModel",
          "model_module_version": "1.5.0",
          "state": {
            "_dom_classes": [],
            "_model_module": "@jupyter-widgets/controls",
            "_model_module_version": "1.5.0",
            "_model_name": "CheckboxModel",
            "_view_count": null,
            "_view_module": "@jupyter-widgets/controls",
            "_view_module_version": "1.5.0",
            "_view_name": "CheckboxView",
            "description": "Add token as git credential?",
            "description_tooltip": null,
            "disabled": false,
            "indent": true,
            "layout": "IPY_MODEL_00db1114eaf6463da7309d1a12b48f33",
            "style": "IPY_MODEL_74719961617346b9978cbcf35e7632d6",
            "value": true
          }
        },
        "de758dbbd63647afba9c2ea45e4f1169": {
          "model_module": "@jupyter-widgets/controls",
          "model_name": "ButtonModel",
          "model_module_version": "1.5.0",
          "state": {
            "_dom_classes": [],
            "_model_module": "@jupyter-widgets/controls",
            "_model_module_version": "1.5.0",
            "_model_name": "ButtonModel",
            "_view_count": null,
            "_view_module": "@jupyter-widgets/controls",
            "_view_module_version": "1.5.0",
            "_view_name": "ButtonView",
            "button_style": "",
            "description": "Login",
            "disabled": false,
            "icon": "",
            "layout": "IPY_MODEL_b318e9e6cfd44c7db90b07c79d0f1170",
            "style": "IPY_MODEL_db825a17d9944980bfe42e90acc97314",
            "tooltip": ""
          }
        },
        "1056d9ab680d438aa4e74d2315cf0f14": {
          "model_module": "@jupyter-widgets/controls",
          "model_name": "HTMLModel",
          "model_module_version": "1.5.0",
          "state": {
            "_dom_classes": [],
            "_model_module": "@jupyter-widgets/controls",
            "_model_module_version": "1.5.0",
            "_model_name": "HTMLModel",
            "_view_count": null,
            "_view_module": "@jupyter-widgets/controls",
            "_view_module_version": "1.5.0",
            "_view_name": "HTMLView",
            "description": "",
            "description_tooltip": null,
            "layout": "IPY_MODEL_916ccf1b726e427b8d8948342a1467f9",
            "placeholder": "​",
            "style": "IPY_MODEL_073170646fa24fd2a835e9340535c389",
            "value": "\n<b>Pro Tip:</b> If you don't already have one, you can create a dedicated\n'notebooks' token with 'write' access, that you can then easily reuse for all\nnotebooks. </center>"
          }
        },
        "f3bdc2d499b7453ca567999a733b3f7d": {
          "model_module": "@jupyter-widgets/base",
          "model_name": "LayoutModel",
          "model_module_version": "1.2.0",
          "state": {
            "_model_module": "@jupyter-widgets/base",
            "_model_module_version": "1.2.0",
            "_model_name": "LayoutModel",
            "_view_count": null,
            "_view_module": "@jupyter-widgets/base",
            "_view_module_version": "1.2.0",
            "_view_name": "LayoutView",
            "align_content": null,
            "align_items": "center",
            "align_self": null,
            "border": null,
            "bottom": null,
            "display": "flex",
            "flex": null,
            "flex_flow": "column",
            "grid_area": null,
            "grid_auto_columns": null,
            "grid_auto_flow": null,
            "grid_auto_rows": null,
            "grid_column": null,
            "grid_gap": null,
            "grid_row": null,
            "grid_template_areas": null,
            "grid_template_columns": null,
            "grid_template_rows": null,
            "height": null,
            "justify_content": null,
            "justify_items": null,
            "left": null,
            "margin": null,
            "max_height": null,
            "max_width": null,
            "min_height": null,
            "min_width": null,
            "object_fit": null,
            "object_position": null,
            "order": null,
            "overflow": null,
            "overflow_x": null,
            "overflow_y": null,
            "padding": null,
            "right": null,
            "top": null,
            "visibility": null,
            "width": "50%"
          }
        },
        "91df22819c404720a25bb739dc0ff417": {
          "model_module": "@jupyter-widgets/base",
          "model_name": "LayoutModel",
          "model_module_version": "1.2.0",
          "state": {
            "_model_module": "@jupyter-widgets/base",
            "_model_module_version": "1.2.0",
            "_model_name": "LayoutModel",
            "_view_count": null,
            "_view_module": "@jupyter-widgets/base",
            "_view_module_version": "1.2.0",
            "_view_name": "LayoutView",
            "align_content": null,
            "align_items": null,
            "align_self": null,
            "border": null,
            "bottom": null,
            "display": null,
            "flex": null,
            "flex_flow": null,
            "grid_area": null,
            "grid_auto_columns": null,
            "grid_auto_flow": null,
            "grid_auto_rows": null,
            "grid_column": null,
            "grid_gap": null,
            "grid_row": null,
            "grid_template_areas": null,
            "grid_template_columns": null,
            "grid_template_rows": null,
            "height": null,
            "justify_content": null,
            "justify_items": null,
            "left": null,
            "margin": null,
            "max_height": null,
            "max_width": null,
            "min_height": null,
            "min_width": null,
            "object_fit": null,
            "object_position": null,
            "order": null,
            "overflow": null,
            "overflow_x": null,
            "overflow_y": null,
            "padding": null,
            "right": null,
            "top": null,
            "visibility": null,
            "width": null
          }
        },
        "9fca9fca8a324a6297d6b4573e6480c0": {
          "model_module": "@jupyter-widgets/controls",
          "model_name": "DescriptionStyleModel",
          "model_module_version": "1.5.0",
          "state": {
            "_model_module": "@jupyter-widgets/controls",
            "_model_module_version": "1.5.0",
            "_model_name": "DescriptionStyleModel",
            "_view_count": null,
            "_view_module": "@jupyter-widgets/base",
            "_view_module_version": "1.2.0",
            "_view_name": "StyleView",
            "description_width": ""
          }
        },
        "6aa8ba9ba4514483a10380f8c9e20b54": {
          "model_module": "@jupyter-widgets/base",
          "model_name": "LayoutModel",
          "model_module_version": "1.2.0",
          "state": {
            "_model_module": "@jupyter-widgets/base",
            "_model_module_version": "1.2.0",
            "_model_name": "LayoutModel",
            "_view_count": null,
            "_view_module": "@jupyter-widgets/base",
            "_view_module_version": "1.2.0",
            "_view_name": "LayoutView",
            "align_content": null,
            "align_items": null,
            "align_self": null,
            "border": null,
            "bottom": null,
            "display": null,
            "flex": null,
            "flex_flow": null,
            "grid_area": null,
            "grid_auto_columns": null,
            "grid_auto_flow": null,
            "grid_auto_rows": null,
            "grid_column": null,
            "grid_gap": null,
            "grid_row": null,
            "grid_template_areas": null,
            "grid_template_columns": null,
            "grid_template_rows": null,
            "height": null,
            "justify_content": null,
            "justify_items": null,
            "left": null,
            "margin": null,
            "max_height": null,
            "max_width": null,
            "min_height": null,
            "min_width": null,
            "object_fit": null,
            "object_position": null,
            "order": null,
            "overflow": null,
            "overflow_x": null,
            "overflow_y": null,
            "padding": null,
            "right": null,
            "top": null,
            "visibility": null,
            "width": null
          }
        },
        "673065a3837a4c85aba51635c365a7e4": {
          "model_module": "@jupyter-widgets/controls",
          "model_name": "DescriptionStyleModel",
          "model_module_version": "1.5.0",
          "state": {
            "_model_module": "@jupyter-widgets/controls",
            "_model_module_version": "1.5.0",
            "_model_name": "DescriptionStyleModel",
            "_view_count": null,
            "_view_module": "@jupyter-widgets/base",
            "_view_module_version": "1.2.0",
            "_view_name": "StyleView",
            "description_width": ""
          }
        },
        "00db1114eaf6463da7309d1a12b48f33": {
          "model_module": "@jupyter-widgets/base",
          "model_name": "LayoutModel",
          "model_module_version": "1.2.0",
          "state": {
            "_model_module": "@jupyter-widgets/base",
            "_model_module_version": "1.2.0",
            "_model_name": "LayoutModel",
            "_view_count": null,
            "_view_module": "@jupyter-widgets/base",
            "_view_module_version": "1.2.0",
            "_view_name": "LayoutView",
            "align_content": null,
            "align_items": null,
            "align_self": null,
            "border": null,
            "bottom": null,
            "display": null,
            "flex": null,
            "flex_flow": null,
            "grid_area": null,
            "grid_auto_columns": null,
            "grid_auto_flow": null,
            "grid_auto_rows": null,
            "grid_column": null,
            "grid_gap": null,
            "grid_row": null,
            "grid_template_areas": null,
            "grid_template_columns": null,
            "grid_template_rows": null,
            "height": null,
            "justify_content": null,
            "justify_items": null,
            "left": null,
            "margin": null,
            "max_height": null,
            "max_width": null,
            "min_height": null,
            "min_width": null,
            "object_fit": null,
            "object_position": null,
            "order": null,
            "overflow": null,
            "overflow_x": null,
            "overflow_y": null,
            "padding": null,
            "right": null,
            "top": null,
            "visibility": null,
            "width": null
          }
        },
        "74719961617346b9978cbcf35e7632d6": {
          "model_module": "@jupyter-widgets/controls",
          "model_name": "DescriptionStyleModel",
          "model_module_version": "1.5.0",
          "state": {
            "_model_module": "@jupyter-widgets/controls",
            "_model_module_version": "1.5.0",
            "_model_name": "DescriptionStyleModel",
            "_view_count": null,
            "_view_module": "@jupyter-widgets/base",
            "_view_module_version": "1.2.0",
            "_view_name": "StyleView",
            "description_width": ""
          }
        },
        "b318e9e6cfd44c7db90b07c79d0f1170": {
          "model_module": "@jupyter-widgets/base",
          "model_name": "LayoutModel",
          "model_module_version": "1.2.0",
          "state": {
            "_model_module": "@jupyter-widgets/base",
            "_model_module_version": "1.2.0",
            "_model_name": "LayoutModel",
            "_view_count": null,
            "_view_module": "@jupyter-widgets/base",
            "_view_module_version": "1.2.0",
            "_view_name": "LayoutView",
            "align_content": null,
            "align_items": null,
            "align_self": null,
            "border": null,
            "bottom": null,
            "display": null,
            "flex": null,
            "flex_flow": null,
            "grid_area": null,
            "grid_auto_columns": null,
            "grid_auto_flow": null,
            "grid_auto_rows": null,
            "grid_column": null,
            "grid_gap": null,
            "grid_row": null,
            "grid_template_areas": null,
            "grid_template_columns": null,
            "grid_template_rows": null,
            "height": null,
            "justify_content": null,
            "justify_items": null,
            "left": null,
            "margin": null,
            "max_height": null,
            "max_width": null,
            "min_height": null,
            "min_width": null,
            "object_fit": null,
            "object_position": null,
            "order": null,
            "overflow": null,
            "overflow_x": null,
            "overflow_y": null,
            "padding": null,
            "right": null,
            "top": null,
            "visibility": null,
            "width": null
          }
        },
        "db825a17d9944980bfe42e90acc97314": {
          "model_module": "@jupyter-widgets/controls",
          "model_name": "ButtonStyleModel",
          "model_module_version": "1.5.0",
          "state": {
            "_model_module": "@jupyter-widgets/controls",
            "_model_module_version": "1.5.0",
            "_model_name": "ButtonStyleModel",
            "_view_count": null,
            "_view_module": "@jupyter-widgets/base",
            "_view_module_version": "1.2.0",
            "_view_name": "StyleView",
            "button_color": null,
            "font_weight": ""
          }
        },
        "916ccf1b726e427b8d8948342a1467f9": {
          "model_module": "@jupyter-widgets/base",
          "model_name": "LayoutModel",
          "model_module_version": "1.2.0",
          "state": {
            "_model_module": "@jupyter-widgets/base",
            "_model_module_version": "1.2.0",
            "_model_name": "LayoutModel",
            "_view_count": null,
            "_view_module": "@jupyter-widgets/base",
            "_view_module_version": "1.2.0",
            "_view_name": "LayoutView",
            "align_content": null,
            "align_items": null,
            "align_self": null,
            "border": null,
            "bottom": null,
            "display": null,
            "flex": null,
            "flex_flow": null,
            "grid_area": null,
            "grid_auto_columns": null,
            "grid_auto_flow": null,
            "grid_auto_rows": null,
            "grid_column": null,
            "grid_gap": null,
            "grid_row": null,
            "grid_template_areas": null,
            "grid_template_columns": null,
            "grid_template_rows": null,
            "height": null,
            "justify_content": null,
            "justify_items": null,
            "left": null,
            "margin": null,
            "max_height": null,
            "max_width": null,
            "min_height": null,
            "min_width": null,
            "object_fit": null,
            "object_position": null,
            "order": null,
            "overflow": null,
            "overflow_x": null,
            "overflow_y": null,
            "padding": null,
            "right": null,
            "top": null,
            "visibility": null,
            "width": null
          }
        },
        "073170646fa24fd2a835e9340535c389": {
          "model_module": "@jupyter-widgets/controls",
          "model_name": "DescriptionStyleModel",
          "model_module_version": "1.5.0",
          "state": {
            "_model_module": "@jupyter-widgets/controls",
            "_model_module_version": "1.5.0",
            "_model_name": "DescriptionStyleModel",
            "_view_count": null,
            "_view_module": "@jupyter-widgets/base",
            "_view_module_version": "1.2.0",
            "_view_name": "StyleView",
            "description_width": ""
          }
        },
        "923415d434024c64a0c1826001b0757a": {
          "model_module": "@jupyter-widgets/controls",
          "model_name": "LabelModel",
          "model_module_version": "1.5.0",
          "state": {
            "_dom_classes": [],
            "_model_module": "@jupyter-widgets/controls",
            "_model_module_version": "1.5.0",
            "_model_name": "LabelModel",
            "_view_count": null,
            "_view_module": "@jupyter-widgets/controls",
            "_view_module_version": "1.5.0",
            "_view_name": "LabelView",
            "description": "",
            "description_tooltip": null,
            "layout": "IPY_MODEL_140ab6165e544fe9be39d526dea521f2",
            "placeholder": "​",
            "style": "IPY_MODEL_8af5b103d2f24c5b864a0e6d5a9d8744",
            "value": "Connecting..."
          }
        },
        "140ab6165e544fe9be39d526dea521f2": {
          "model_module": "@jupyter-widgets/base",
          "model_name": "LayoutModel",
          "model_module_version": "1.2.0",
          "state": {
            "_model_module": "@jupyter-widgets/base",
            "_model_module_version": "1.2.0",
            "_model_name": "LayoutModel",
            "_view_count": null,
            "_view_module": "@jupyter-widgets/base",
            "_view_module_version": "1.2.0",
            "_view_name": "LayoutView",
            "align_content": null,
            "align_items": null,
            "align_self": null,
            "border": null,
            "bottom": null,
            "display": null,
            "flex": null,
            "flex_flow": null,
            "grid_area": null,
            "grid_auto_columns": null,
            "grid_auto_flow": null,
            "grid_auto_rows": null,
            "grid_column": null,
            "grid_gap": null,
            "grid_row": null,
            "grid_template_areas": null,
            "grid_template_columns": null,
            "grid_template_rows": null,
            "height": null,
            "justify_content": null,
            "justify_items": null,
            "left": null,
            "margin": null,
            "max_height": null,
            "max_width": null,
            "min_height": null,
            "min_width": null,
            "object_fit": null,
            "object_position": null,
            "order": null,
            "overflow": null,
            "overflow_x": null,
            "overflow_y": null,
            "padding": null,
            "right": null,
            "top": null,
            "visibility": null,
            "width": null
          }
        },
        "8af5b103d2f24c5b864a0e6d5a9d8744": {
          "model_module": "@jupyter-widgets/controls",
          "model_name": "DescriptionStyleModel",
          "model_module_version": "1.5.0",
          "state": {
            "_model_module": "@jupyter-widgets/controls",
            "_model_module_version": "1.5.0",
            "_model_name": "DescriptionStyleModel",
            "_view_count": null,
            "_view_module": "@jupyter-widgets/base",
            "_view_module_version": "1.2.0",
            "_view_name": "StyleView",
            "description_width": ""
          }
        },
        "f62c7b5a86a341d7845ec1b081df53ee": {
          "model_module": "@jupyter-widgets/controls",
          "model_name": "HBoxModel",
          "model_module_version": "1.5.0",
          "state": {
            "_dom_classes": [],
            "_model_module": "@jupyter-widgets/controls",
            "_model_module_version": "1.5.0",
            "_model_name": "HBoxModel",
            "_view_count": null,
            "_view_module": "@jupyter-widgets/controls",
            "_view_module_version": "1.5.0",
            "_view_name": "HBoxView",
            "box_style": "",
            "children": [
              "IPY_MODEL_22f1b3ffa4f74c38974a3e15ef4275ac",
              "IPY_MODEL_7fa6c0199dc64920889d20b8bf6b1932",
              "IPY_MODEL_5a347bc9274f45308d2b6619e6e72270"
            ],
            "layout": "IPY_MODEL_3e86111a42024026ad16144d6ad92014"
          }
        },
        "22f1b3ffa4f74c38974a3e15ef4275ac": {
          "model_module": "@jupyter-widgets/controls",
          "model_name": "HTMLModel",
          "model_module_version": "1.5.0",
          "state": {
            "_dom_classes": [],
            "_model_module": "@jupyter-widgets/controls",
            "_model_module_version": "1.5.0",
            "_model_name": "HTMLModel",
            "_view_count": null,
            "_view_module": "@jupyter-widgets/controls",
            "_view_module_version": "1.5.0",
            "_view_name": "HTMLView",
            "description": "",
            "description_tooltip": null,
            "layout": "IPY_MODEL_7fe336cd1e6b4061ab1747fd526eea40",
            "placeholder": "​",
            "style": "IPY_MODEL_1fecbbab16af46e292c906fc90f806c5",
            "value": "Map: 100%"
          }
        },
        "7fa6c0199dc64920889d20b8bf6b1932": {
          "model_module": "@jupyter-widgets/controls",
          "model_name": "FloatProgressModel",
          "model_module_version": "1.5.0",
          "state": {
            "_dom_classes": [],
            "_model_module": "@jupyter-widgets/controls",
            "_model_module_version": "1.5.0",
            "_model_name": "FloatProgressModel",
            "_view_count": null,
            "_view_module": "@jupyter-widgets/controls",
            "_view_module_version": "1.5.0",
            "_view_name": "ProgressView",
            "bar_style": "success",
            "description": "",
            "description_tooltip": null,
            "layout": "IPY_MODEL_9ea387131ed54f07b176c4815c6e3971",
            "max": 1,
            "min": 0,
            "orientation": "horizontal",
            "style": "IPY_MODEL_de5f9ee37be746549e08815e9e274bfc",
            "value": 1
          }
        },
        "5a347bc9274f45308d2b6619e6e72270": {
          "model_module": "@jupyter-widgets/controls",
          "model_name": "HTMLModel",
          "model_module_version": "1.5.0",
          "state": {
            "_dom_classes": [],
            "_model_module": "@jupyter-widgets/controls",
            "_model_module_version": "1.5.0",
            "_model_name": "HTMLModel",
            "_view_count": null,
            "_view_module": "@jupyter-widgets/controls",
            "_view_module_version": "1.5.0",
            "_view_name": "HTMLView",
            "description": "",
            "description_tooltip": null,
            "layout": "IPY_MODEL_16849a634d004b46b842d814a6a8c040",
            "placeholder": "​",
            "style": "IPY_MODEL_7cbb4f70dddc4c85b2d84450d8f5e053",
            "value": " 1/1 [00:00&lt;00:00, 21.14 examples/s]"
          }
        },
        "3e86111a42024026ad16144d6ad92014": {
          "model_module": "@jupyter-widgets/base",
          "model_name": "LayoutModel",
          "model_module_version": "1.2.0",
          "state": {
            "_model_module": "@jupyter-widgets/base",
            "_model_module_version": "1.2.0",
            "_model_name": "LayoutModel",
            "_view_count": null,
            "_view_module": "@jupyter-widgets/base",
            "_view_module_version": "1.2.0",
            "_view_name": "LayoutView",
            "align_content": null,
            "align_items": null,
            "align_self": null,
            "border": null,
            "bottom": null,
            "display": null,
            "flex": null,
            "flex_flow": null,
            "grid_area": null,
            "grid_auto_columns": null,
            "grid_auto_flow": null,
            "grid_auto_rows": null,
            "grid_column": null,
            "grid_gap": null,
            "grid_row": null,
            "grid_template_areas": null,
            "grid_template_columns": null,
            "grid_template_rows": null,
            "height": null,
            "justify_content": null,
            "justify_items": null,
            "left": null,
            "margin": null,
            "max_height": null,
            "max_width": null,
            "min_height": null,
            "min_width": null,
            "object_fit": null,
            "object_position": null,
            "order": null,
            "overflow": null,
            "overflow_x": null,
            "overflow_y": null,
            "padding": null,
            "right": null,
            "top": null,
            "visibility": null,
            "width": null
          }
        },
        "7fe336cd1e6b4061ab1747fd526eea40": {
          "model_module": "@jupyter-widgets/base",
          "model_name": "LayoutModel",
          "model_module_version": "1.2.0",
          "state": {
            "_model_module": "@jupyter-widgets/base",
            "_model_module_version": "1.2.0",
            "_model_name": "LayoutModel",
            "_view_count": null,
            "_view_module": "@jupyter-widgets/base",
            "_view_module_version": "1.2.0",
            "_view_name": "LayoutView",
            "align_content": null,
            "align_items": null,
            "align_self": null,
            "border": null,
            "bottom": null,
            "display": null,
            "flex": null,
            "flex_flow": null,
            "grid_area": null,
            "grid_auto_columns": null,
            "grid_auto_flow": null,
            "grid_auto_rows": null,
            "grid_column": null,
            "grid_gap": null,
            "grid_row": null,
            "grid_template_areas": null,
            "grid_template_columns": null,
            "grid_template_rows": null,
            "height": null,
            "justify_content": null,
            "justify_items": null,
            "left": null,
            "margin": null,
            "max_height": null,
            "max_width": null,
            "min_height": null,
            "min_width": null,
            "object_fit": null,
            "object_position": null,
            "order": null,
            "overflow": null,
            "overflow_x": null,
            "overflow_y": null,
            "padding": null,
            "right": null,
            "top": null,
            "visibility": null,
            "width": null
          }
        },
        "1fecbbab16af46e292c906fc90f806c5": {
          "model_module": "@jupyter-widgets/controls",
          "model_name": "DescriptionStyleModel",
          "model_module_version": "1.5.0",
          "state": {
            "_model_module": "@jupyter-widgets/controls",
            "_model_module_version": "1.5.0",
            "_model_name": "DescriptionStyleModel",
            "_view_count": null,
            "_view_module": "@jupyter-widgets/base",
            "_view_module_version": "1.2.0",
            "_view_name": "StyleView",
            "description_width": ""
          }
        },
        "9ea387131ed54f07b176c4815c6e3971": {
          "model_module": "@jupyter-widgets/base",
          "model_name": "LayoutModel",
          "model_module_version": "1.2.0",
          "state": {
            "_model_module": "@jupyter-widgets/base",
            "_model_module_version": "1.2.0",
            "_model_name": "LayoutModel",
            "_view_count": null,
            "_view_module": "@jupyter-widgets/base",
            "_view_module_version": "1.2.0",
            "_view_name": "LayoutView",
            "align_content": null,
            "align_items": null,
            "align_self": null,
            "border": null,
            "bottom": null,
            "display": null,
            "flex": null,
            "flex_flow": null,
            "grid_area": null,
            "grid_auto_columns": null,
            "grid_auto_flow": null,
            "grid_auto_rows": null,
            "grid_column": null,
            "grid_gap": null,
            "grid_row": null,
            "grid_template_areas": null,
            "grid_template_columns": null,
            "grid_template_rows": null,
            "height": null,
            "justify_content": null,
            "justify_items": null,
            "left": null,
            "margin": null,
            "max_height": null,
            "max_width": null,
            "min_height": null,
            "min_width": null,
            "object_fit": null,
            "object_position": null,
            "order": null,
            "overflow": null,
            "overflow_x": null,
            "overflow_y": null,
            "padding": null,
            "right": null,
            "top": null,
            "visibility": null,
            "width": null
          }
        },
        "de5f9ee37be746549e08815e9e274bfc": {
          "model_module": "@jupyter-widgets/controls",
          "model_name": "ProgressStyleModel",
          "model_module_version": "1.5.0",
          "state": {
            "_model_module": "@jupyter-widgets/controls",
            "_model_module_version": "1.5.0",
            "_model_name": "ProgressStyleModel",
            "_view_count": null,
            "_view_module": "@jupyter-widgets/base",
            "_view_module_version": "1.2.0",
            "_view_name": "StyleView",
            "bar_color": null,
            "description_width": ""
          }
        },
        "16849a634d004b46b842d814a6a8c040": {
          "model_module": "@jupyter-widgets/base",
          "model_name": "LayoutModel",
          "model_module_version": "1.2.0",
          "state": {
            "_model_module": "@jupyter-widgets/base",
            "_model_module_version": "1.2.0",
            "_model_name": "LayoutModel",
            "_view_count": null,
            "_view_module": "@jupyter-widgets/base",
            "_view_module_version": "1.2.0",
            "_view_name": "LayoutView",
            "align_content": null,
            "align_items": null,
            "align_self": null,
            "border": null,
            "bottom": null,
            "display": null,
            "flex": null,
            "flex_flow": null,
            "grid_area": null,
            "grid_auto_columns": null,
            "grid_auto_flow": null,
            "grid_auto_rows": null,
            "grid_column": null,
            "grid_gap": null,
            "grid_row": null,
            "grid_template_areas": null,
            "grid_template_columns": null,
            "grid_template_rows": null,
            "height": null,
            "justify_content": null,
            "justify_items": null,
            "left": null,
            "margin": null,
            "max_height": null,
            "max_width": null,
            "min_height": null,
            "min_width": null,
            "object_fit": null,
            "object_position": null,
            "order": null,
            "overflow": null,
            "overflow_x": null,
            "overflow_y": null,
            "padding": null,
            "right": null,
            "top": null,
            "visibility": null,
            "width": null
          }
        },
        "7cbb4f70dddc4c85b2d84450d8f5e053": {
          "model_module": "@jupyter-widgets/controls",
          "model_name": "DescriptionStyleModel",
          "model_module_version": "1.5.0",
          "state": {
            "_model_module": "@jupyter-widgets/controls",
            "_model_module_version": "1.5.0",
            "_model_name": "DescriptionStyleModel",
            "_view_count": null,
            "_view_module": "@jupyter-widgets/base",
            "_view_module_version": "1.2.0",
            "_view_name": "StyleView",
            "description_width": ""
          }
        },
        "9f82763ebf1c47dcb504d0721e106223": {
          "model_module": "@jupyter-widgets/controls",
          "model_name": "HBoxModel",
          "model_module_version": "1.5.0",
          "state": {
            "_dom_classes": [],
            "_model_module": "@jupyter-widgets/controls",
            "_model_module_version": "1.5.0",
            "_model_name": "HBoxModel",
            "_view_count": null,
            "_view_module": "@jupyter-widgets/controls",
            "_view_module_version": "1.5.0",
            "_view_name": "HBoxView",
            "box_style": "",
            "children": [
              "IPY_MODEL_f7af0ae3ee3d4fc281f111a420a5da19",
              "IPY_MODEL_4e0d6a36dbfb4a34aaf95e9e77e3490c",
              "IPY_MODEL_c275edfec0284032b32b1204afa722f1"
            ],
            "layout": "IPY_MODEL_ee0e09b18a8e4f668e64a02fe17a3e45"
          }
        },
        "f7af0ae3ee3d4fc281f111a420a5da19": {
          "model_module": "@jupyter-widgets/controls",
          "model_name": "HTMLModel",
          "model_module_version": "1.5.0",
          "state": {
            "_dom_classes": [],
            "_model_module": "@jupyter-widgets/controls",
            "_model_module_version": "1.5.0",
            "_model_name": "HTMLModel",
            "_view_count": null,
            "_view_module": "@jupyter-widgets/controls",
            "_view_module_version": "1.5.0",
            "_view_name": "HTMLView",
            "description": "",
            "description_tooltip": null,
            "layout": "IPY_MODEL_73d3cd5b9ba94fa5be02a452387e8714",
            "placeholder": "​",
            "style": "IPY_MODEL_71f40611eb1c42a694aae7d8877e3311",
            "value": "Map: 100%"
          }
        },
        "4e0d6a36dbfb4a34aaf95e9e77e3490c": {
          "model_module": "@jupyter-widgets/controls",
          "model_name": "FloatProgressModel",
          "model_module_version": "1.5.0",
          "state": {
            "_dom_classes": [],
            "_model_module": "@jupyter-widgets/controls",
            "_model_module_version": "1.5.0",
            "_model_name": "FloatProgressModel",
            "_view_count": null,
            "_view_module": "@jupyter-widgets/controls",
            "_view_module_version": "1.5.0",
            "_view_name": "ProgressView",
            "bar_style": "success",
            "description": "",
            "description_tooltip": null,
            "layout": "IPY_MODEL_6e9ac1bd5b274699adcdc47046f1a0de",
            "max": 1,
            "min": 0,
            "orientation": "horizontal",
            "style": "IPY_MODEL_847b8eb09c354908bcd0e58974d44e36",
            "value": 1
          }
        },
        "c275edfec0284032b32b1204afa722f1": {
          "model_module": "@jupyter-widgets/controls",
          "model_name": "HTMLModel",
          "model_module_version": "1.5.0",
          "state": {
            "_dom_classes": [],
            "_model_module": "@jupyter-widgets/controls",
            "_model_module_version": "1.5.0",
            "_model_name": "HTMLModel",
            "_view_count": null,
            "_view_module": "@jupyter-widgets/controls",
            "_view_module_version": "1.5.0",
            "_view_name": "HTMLView",
            "description": "",
            "description_tooltip": null,
            "layout": "IPY_MODEL_827fb27730104cf9b47945eaa626e653",
            "placeholder": "​",
            "style": "IPY_MODEL_17b388ed9e8b400abac3de2320f51a5f",
            "value": " 1/1 [00:00&lt;00:00, 42.36 examples/s]"
          }
        },
        "ee0e09b18a8e4f668e64a02fe17a3e45": {
          "model_module": "@jupyter-widgets/base",
          "model_name": "LayoutModel",
          "model_module_version": "1.2.0",
          "state": {
            "_model_module": "@jupyter-widgets/base",
            "_model_module_version": "1.2.0",
            "_model_name": "LayoutModel",
            "_view_count": null,
            "_view_module": "@jupyter-widgets/base",
            "_view_module_version": "1.2.0",
            "_view_name": "LayoutView",
            "align_content": null,
            "align_items": null,
            "align_self": null,
            "border": null,
            "bottom": null,
            "display": null,
            "flex": null,
            "flex_flow": null,
            "grid_area": null,
            "grid_auto_columns": null,
            "grid_auto_flow": null,
            "grid_auto_rows": null,
            "grid_column": null,
            "grid_gap": null,
            "grid_row": null,
            "grid_template_areas": null,
            "grid_template_columns": null,
            "grid_template_rows": null,
            "height": null,
            "justify_content": null,
            "justify_items": null,
            "left": null,
            "margin": null,
            "max_height": null,
            "max_width": null,
            "min_height": null,
            "min_width": null,
            "object_fit": null,
            "object_position": null,
            "order": null,
            "overflow": null,
            "overflow_x": null,
            "overflow_y": null,
            "padding": null,
            "right": null,
            "top": null,
            "visibility": null,
            "width": null
          }
        },
        "73d3cd5b9ba94fa5be02a452387e8714": {
          "model_module": "@jupyter-widgets/base",
          "model_name": "LayoutModel",
          "model_module_version": "1.2.0",
          "state": {
            "_model_module": "@jupyter-widgets/base",
            "_model_module_version": "1.2.0",
            "_model_name": "LayoutModel",
            "_view_count": null,
            "_view_module": "@jupyter-widgets/base",
            "_view_module_version": "1.2.0",
            "_view_name": "LayoutView",
            "align_content": null,
            "align_items": null,
            "align_self": null,
            "border": null,
            "bottom": null,
            "display": null,
            "flex": null,
            "flex_flow": null,
            "grid_area": null,
            "grid_auto_columns": null,
            "grid_auto_flow": null,
            "grid_auto_rows": null,
            "grid_column": null,
            "grid_gap": null,
            "grid_row": null,
            "grid_template_areas": null,
            "grid_template_columns": null,
            "grid_template_rows": null,
            "height": null,
            "justify_content": null,
            "justify_items": null,
            "left": null,
            "margin": null,
            "max_height": null,
            "max_width": null,
            "min_height": null,
            "min_width": null,
            "object_fit": null,
            "object_position": null,
            "order": null,
            "overflow": null,
            "overflow_x": null,
            "overflow_y": null,
            "padding": null,
            "right": null,
            "top": null,
            "visibility": null,
            "width": null
          }
        },
        "71f40611eb1c42a694aae7d8877e3311": {
          "model_module": "@jupyter-widgets/controls",
          "model_name": "DescriptionStyleModel",
          "model_module_version": "1.5.0",
          "state": {
            "_model_module": "@jupyter-widgets/controls",
            "_model_module_version": "1.5.0",
            "_model_name": "DescriptionStyleModel",
            "_view_count": null,
            "_view_module": "@jupyter-widgets/base",
            "_view_module_version": "1.2.0",
            "_view_name": "StyleView",
            "description_width": ""
          }
        },
        "6e9ac1bd5b274699adcdc47046f1a0de": {
          "model_module": "@jupyter-widgets/base",
          "model_name": "LayoutModel",
          "model_module_version": "1.2.0",
          "state": {
            "_model_module": "@jupyter-widgets/base",
            "_model_module_version": "1.2.0",
            "_model_name": "LayoutModel",
            "_view_count": null,
            "_view_module": "@jupyter-widgets/base",
            "_view_module_version": "1.2.0",
            "_view_name": "LayoutView",
            "align_content": null,
            "align_items": null,
            "align_self": null,
            "border": null,
            "bottom": null,
            "display": null,
            "flex": null,
            "flex_flow": null,
            "grid_area": null,
            "grid_auto_columns": null,
            "grid_auto_flow": null,
            "grid_auto_rows": null,
            "grid_column": null,
            "grid_gap": null,
            "grid_row": null,
            "grid_template_areas": null,
            "grid_template_columns": null,
            "grid_template_rows": null,
            "height": null,
            "justify_content": null,
            "justify_items": null,
            "left": null,
            "margin": null,
            "max_height": null,
            "max_width": null,
            "min_height": null,
            "min_width": null,
            "object_fit": null,
            "object_position": null,
            "order": null,
            "overflow": null,
            "overflow_x": null,
            "overflow_y": null,
            "padding": null,
            "right": null,
            "top": null,
            "visibility": null,
            "width": null
          }
        },
        "847b8eb09c354908bcd0e58974d44e36": {
          "model_module": "@jupyter-widgets/controls",
          "model_name": "ProgressStyleModel",
          "model_module_version": "1.5.0",
          "state": {
            "_model_module": "@jupyter-widgets/controls",
            "_model_module_version": "1.5.0",
            "_model_name": "ProgressStyleModel",
            "_view_count": null,
            "_view_module": "@jupyter-widgets/base",
            "_view_module_version": "1.2.0",
            "_view_name": "StyleView",
            "bar_color": null,
            "description_width": ""
          }
        },
        "827fb27730104cf9b47945eaa626e653": {
          "model_module": "@jupyter-widgets/base",
          "model_name": "LayoutModel",
          "model_module_version": "1.2.0",
          "state": {
            "_model_module": "@jupyter-widgets/base",
            "_model_module_version": "1.2.0",
            "_model_name": "LayoutModel",
            "_view_count": null,
            "_view_module": "@jupyter-widgets/base",
            "_view_module_version": "1.2.0",
            "_view_name": "LayoutView",
            "align_content": null,
            "align_items": null,
            "align_self": null,
            "border": null,
            "bottom": null,
            "display": null,
            "flex": null,
            "flex_flow": null,
            "grid_area": null,
            "grid_auto_columns": null,
            "grid_auto_flow": null,
            "grid_auto_rows": null,
            "grid_column": null,
            "grid_gap": null,
            "grid_row": null,
            "grid_template_areas": null,
            "grid_template_columns": null,
            "grid_template_rows": null,
            "height": null,
            "justify_content": null,
            "justify_items": null,
            "left": null,
            "margin": null,
            "max_height": null,
            "max_width": null,
            "min_height": null,
            "min_width": null,
            "object_fit": null,
            "object_position": null,
            "order": null,
            "overflow": null,
            "overflow_x": null,
            "overflow_y": null,
            "padding": null,
            "right": null,
            "top": null,
            "visibility": null,
            "width": null
          }
        },
        "17b388ed9e8b400abac3de2320f51a5f": {
          "model_module": "@jupyter-widgets/controls",
          "model_name": "DescriptionStyleModel",
          "model_module_version": "1.5.0",
          "state": {
            "_model_module": "@jupyter-widgets/controls",
            "_model_module_version": "1.5.0",
            "_model_name": "DescriptionStyleModel",
            "_view_count": null,
            "_view_module": "@jupyter-widgets/base",
            "_view_module_version": "1.2.0",
            "_view_name": "StyleView",
            "description_width": ""
          }
        }
      }
    }
  },
  "cells": [
    {
      "cell_type": "markdown",
      "source": [
        "# Large Language Model Meta AI [(LLaMA)](https://ai.meta.com/blog/large-language-model-llama-meta-ai/)\n",
        "\n",
        "Smaller, more performant models such as LLaMA enable others in the research community who don’t have access to large amounts of infrastructure to study these models, further democratizing access in this important, fast-changing field.\n",
        "\n",
        "## Pre-trained LLM: `Llama-3.2-1B-Instruct` model\n",
        "\n",
        "### GPU availability\n",
        "\n",
        "- Please make sure to change \"Change runtime type\" to \"T4 GPU\""
      ],
      "metadata": {
        "id": "WuHsmf27S4re"
      }
    },
    {
      "cell_type": "code",
      "execution_count": 42,
      "metadata": {
        "colab": {
          "base_uri": "https://localhost:8080/"
        },
        "id": "CPY8WRfaSuqY",
        "outputId": "9e153f73-926e-415f-8c17-113e24155857"
      },
      "outputs": [
        {
          "output_type": "stream",
          "name": "stdout",
          "text": [
            "GPU available: True\n",
            "GPU name: Tesla T4\n"
          ]
        }
      ],
      "source": [
        "import torch\n",
        "print(\"GPU available:\", torch.cuda.is_available())\n",
        "print(\"GPU name:\", torch.cuda.get_device_name(0) if torch.cuda.is_available() else \"No GPU\")"
      ]
    },
    {
      "cell_type": "markdown",
      "source": [
        "### Login to HuggingFace using \"Read\" access token"
      ],
      "metadata": {
        "id": "TeLoDt1pTXjz"
      }
    },
    {
      "cell_type": "code",
      "source": [
        "from huggingface_hub import login\n",
        "login()"
      ],
      "metadata": {
        "colab": {
          "base_uri": "https://localhost:8080/",
          "height": 17,
          "referenced_widgets": [
            "b008edeb99db4a41aa921d904287bce6",
            "5abdcf06443c4ef39b262ba7da9e0265",
            "f41e5a2e6c334efd97a35848b45f81a2",
            "8a4f8b6ca8244c36a07f337211fecc10",
            "de758dbbd63647afba9c2ea45e4f1169",
            "1056d9ab680d438aa4e74d2315cf0f14",
            "f3bdc2d499b7453ca567999a733b3f7d",
            "91df22819c404720a25bb739dc0ff417",
            "9fca9fca8a324a6297d6b4573e6480c0",
            "6aa8ba9ba4514483a10380f8c9e20b54",
            "673065a3837a4c85aba51635c365a7e4",
            "00db1114eaf6463da7309d1a12b48f33",
            "74719961617346b9978cbcf35e7632d6",
            "b318e9e6cfd44c7db90b07c79d0f1170",
            "db825a17d9944980bfe42e90acc97314",
            "916ccf1b726e427b8d8948342a1467f9",
            "073170646fa24fd2a835e9340535c389",
            "923415d434024c64a0c1826001b0757a",
            "140ab6165e544fe9be39d526dea521f2",
            "8af5b103d2f24c5b864a0e6d5a9d8744"
          ]
        },
        "id": "PbKq5_8vTZYC",
        "outputId": "e7aaa60a-4ada-4a81-d4fa-7cf0c9e45bec"
      },
      "execution_count": 43,
      "outputs": [
        {
          "output_type": "display_data",
          "data": {
            "text/plain": [
              "VBox(children=(HTML(value='<center> <img\\nsrc=https://huggingface.co/front/assets/huggingface_logo-noborder.sv…"
            ],
            "application/vnd.jupyter.widget-view+json": {
              "version_major": 2,
              "version_minor": 0,
              "model_id": "b008edeb99db4a41aa921d904287bce6"
            }
          },
          "metadata": {}
        }
      ]
    },
    {
      "cell_type": "markdown",
      "source": [
        "### Module installation"
      ],
      "metadata": {
        "id": "QawVsgZKTjRk"
      }
    },
    {
      "cell_type": "code",
      "source": [
        "!pip install bitsandbytes>=0.39.0\n",
        "!pip install --upgrade accelerate transformers datasets peft trl"
      ],
      "metadata": {
        "colab": {
          "base_uri": "https://localhost:8080/"
        },
        "id": "jBU4KkAGTbU9",
        "outputId": "b2259177-e4a9-4f85-da8b-5dc186e3c333"
      },
      "execution_count": 44,
      "outputs": [
        {
          "output_type": "stream",
          "name": "stdout",
          "text": [
            "Requirement already satisfied: accelerate in /usr/local/lib/python3.10/dist-packages (1.1.1)\n",
            "Requirement already satisfied: transformers in /usr/local/lib/python3.10/dist-packages (4.46.3)\n",
            "Requirement already satisfied: datasets in /usr/local/lib/python3.10/dist-packages (3.1.0)\n",
            "Requirement already satisfied: peft in /usr/local/lib/python3.10/dist-packages (0.13.2)\n",
            "Requirement already satisfied: trl in /usr/local/lib/python3.10/dist-packages (0.12.1)\n",
            "Requirement already satisfied: huggingface-hub>=0.21.0 in /usr/local/lib/python3.10/dist-packages (from accelerate) (0.26.2)\n",
            "Requirement already satisfied: numpy<3.0.0,>=1.17 in /usr/local/lib/python3.10/dist-packages (from accelerate) (1.26.4)\n",
            "Requirement already satisfied: packaging>=20.0 in /usr/local/lib/python3.10/dist-packages (from accelerate) (24.2)\n",
            "Requirement already satisfied: psutil in /usr/local/lib/python3.10/dist-packages (from accelerate) (5.9.5)\n",
            "Requirement already satisfied: pyyaml in /usr/local/lib/python3.10/dist-packages (from accelerate) (6.0.2)\n",
            "Requirement already satisfied: safetensors>=0.4.3 in /usr/local/lib/python3.10/dist-packages (from accelerate) (0.4.5)\n",
            "Requirement already satisfied: torch>=1.10.0 in /usr/local/lib/python3.10/dist-packages (from accelerate) (2.5.1+cu121)\n",
            "Requirement already satisfied: filelock in /usr/local/lib/python3.10/dist-packages (from transformers) (3.16.1)\n",
            "Requirement already satisfied: regex!=2019.12.17 in /usr/local/lib/python3.10/dist-packages (from transformers) (2024.9.11)\n",
            "Requirement already satisfied: requests in /usr/local/lib/python3.10/dist-packages (from transformers) (2.32.3)\n",
            "Requirement already satisfied: tokenizers<0.21,>=0.20 in /usr/local/lib/python3.10/dist-packages (from transformers) (0.20.3)\n",
            "Requirement already satisfied: tqdm>=4.27 in /usr/local/lib/python3.10/dist-packages (from transformers) (4.66.6)\n",
            "Requirement already satisfied: pyarrow>=15.0.0 in /usr/local/lib/python3.10/dist-packages (from datasets) (17.0.0)\n",
            "Requirement already satisfied: dill<0.3.9,>=0.3.0 in /usr/local/lib/python3.10/dist-packages (from datasets) (0.3.8)\n",
            "Requirement already satisfied: pandas in /usr/local/lib/python3.10/dist-packages (from datasets) (2.2.2)\n",
            "Requirement already satisfied: xxhash in /usr/local/lib/python3.10/dist-packages (from datasets) (3.5.0)\n",
            "Requirement already satisfied: multiprocess<0.70.17 in /usr/local/lib/python3.10/dist-packages (from datasets) (0.70.16)\n",
            "Requirement already satisfied: fsspec<=2024.9.0,>=2023.1.0 in /usr/local/lib/python3.10/dist-packages (from fsspec[http]<=2024.9.0,>=2023.1.0->datasets) (2024.9.0)\n",
            "Requirement already satisfied: aiohttp in /usr/local/lib/python3.10/dist-packages (from datasets) (3.11.2)\n",
            "Requirement already satisfied: rich in /usr/local/lib/python3.10/dist-packages (from trl) (13.9.4)\n",
            "Requirement already satisfied: aiohappyeyeballs>=2.3.0 in /usr/local/lib/python3.10/dist-packages (from aiohttp->datasets) (2.4.3)\n",
            "Requirement already satisfied: aiosignal>=1.1.2 in /usr/local/lib/python3.10/dist-packages (from aiohttp->datasets) (1.3.1)\n",
            "Requirement already satisfied: attrs>=17.3.0 in /usr/local/lib/python3.10/dist-packages (from aiohttp->datasets) (24.2.0)\n",
            "Requirement already satisfied: frozenlist>=1.1.1 in /usr/local/lib/python3.10/dist-packages (from aiohttp->datasets) (1.5.0)\n",
            "Requirement already satisfied: multidict<7.0,>=4.5 in /usr/local/lib/python3.10/dist-packages (from aiohttp->datasets) (6.1.0)\n",
            "Requirement already satisfied: propcache>=0.2.0 in /usr/local/lib/python3.10/dist-packages (from aiohttp->datasets) (0.2.0)\n",
            "Requirement already satisfied: yarl<2.0,>=1.17.0 in /usr/local/lib/python3.10/dist-packages (from aiohttp->datasets) (1.17.2)\n",
            "Requirement already satisfied: async-timeout<6.0,>=4.0 in /usr/local/lib/python3.10/dist-packages (from aiohttp->datasets) (4.0.3)\n",
            "Requirement already satisfied: typing-extensions>=3.7.4.3 in /usr/local/lib/python3.10/dist-packages (from huggingface-hub>=0.21.0->accelerate) (4.12.2)\n",
            "Requirement already satisfied: charset-normalizer<4,>=2 in /usr/local/lib/python3.10/dist-packages (from requests->transformers) (3.4.0)\n",
            "Requirement already satisfied: idna<4,>=2.5 in /usr/local/lib/python3.10/dist-packages (from requests->transformers) (3.10)\n",
            "Requirement already satisfied: urllib3<3,>=1.21.1 in /usr/local/lib/python3.10/dist-packages (from requests->transformers) (2.2.3)\n",
            "Requirement already satisfied: certifi>=2017.4.17 in /usr/local/lib/python3.10/dist-packages (from requests->transformers) (2024.8.30)\n",
            "Requirement already satisfied: networkx in /usr/local/lib/python3.10/dist-packages (from torch>=1.10.0->accelerate) (3.4.2)\n",
            "Requirement already satisfied: jinja2 in /usr/local/lib/python3.10/dist-packages (from torch>=1.10.0->accelerate) (3.1.4)\n",
            "Requirement already satisfied: sympy==1.13.1 in /usr/local/lib/python3.10/dist-packages (from torch>=1.10.0->accelerate) (1.13.1)\n",
            "Requirement already satisfied: mpmath<1.4,>=1.1.0 in /usr/local/lib/python3.10/dist-packages (from sympy==1.13.1->torch>=1.10.0->accelerate) (1.3.0)\n",
            "Requirement already satisfied: python-dateutil>=2.8.2 in /usr/local/lib/python3.10/dist-packages (from pandas->datasets) (2.8.2)\n",
            "Requirement already satisfied: pytz>=2020.1 in /usr/local/lib/python3.10/dist-packages (from pandas->datasets) (2024.2)\n",
            "Requirement already satisfied: tzdata>=2022.7 in /usr/local/lib/python3.10/dist-packages (from pandas->datasets) (2024.2)\n",
            "Requirement already satisfied: markdown-it-py>=2.2.0 in /usr/local/lib/python3.10/dist-packages (from rich->trl) (3.0.0)\n",
            "Requirement already satisfied: pygments<3.0.0,>=2.13.0 in /usr/local/lib/python3.10/dist-packages (from rich->trl) (2.18.0)\n",
            "Requirement already satisfied: mdurl~=0.1 in /usr/local/lib/python3.10/dist-packages (from markdown-it-py>=2.2.0->rich->trl) (0.1.2)\n",
            "Requirement already satisfied: six>=1.5 in /usr/local/lib/python3.10/dist-packages (from python-dateutil>=2.8.2->pandas->datasets) (1.16.0)\n",
            "Requirement already satisfied: MarkupSafe>=2.0 in /usr/local/lib/python3.10/dist-packages (from jinja2->torch>=1.10.0->accelerate) (3.0.2)\n"
          ]
        }
      ]
    },
    {
      "cell_type": "code",
      "source": [
        "from transformers import AutoTokenizer, AutoModelForCausalLM, BitsAndBytesConfig"
      ],
      "metadata": {
        "id": "SL5IHcCqTlBf"
      },
      "execution_count": 46,
      "outputs": []
    },
    {
      "cell_type": "markdown",
      "source": [
        "Model and device settings"
      ],
      "metadata": {
        "id": "I2LPcf7OUad5"
      }
    },
    {
      "cell_type": "code",
      "source": [
        "model_id = \"meta-llama/Llama-3.2-1B-Instruct\"\n",
        "device = torch.device(\"cuda\" if torch.cuda.is_available() else \"cpu\")\n",
        "device"
      ],
      "metadata": {
        "colab": {
          "base_uri": "https://localhost:8080/"
        },
        "id": "nceokKI4Tx5e",
        "outputId": "b65f0df3-8d3c-4779-c655-805c6cd140d4"
      },
      "execution_count": 47,
      "outputs": [
        {
          "output_type": "execute_result",
          "data": {
            "text/plain": [
              "device(type='cuda')"
            ]
          },
          "metadata": {},
          "execution_count": 47
        }
      ]
    },
    {
      "cell_type": "markdown",
      "source": [
        "### Tokenizer\n",
        "\n",
        "A tokenizer transforms human-readable text into a sequence of numerical tokens that represent the text in a format that machine learning models can process. This process includes:\n",
        "\n",
        "1. Splitting text into tokens:\n",
        "Tokens can be words, subwords, characters, or other units depending on the tokenizer type.\n",
        "2. Mapping tokens to IDs:\n",
        "Each token is mapped to a unique numerical ID using the model's predefined vocabulary.\n",
        "\n",
        "#### Special token management\n",
        "\n",
        "Settings for special cases like beginning-of-sentence, end-of-sequence, etc.\n",
        "\n",
        "Optional reading: https://huggingface.co/docs/transformers/main/en/main_classes/tokenizer#tokenizer."
      ],
      "metadata": {
        "id": "etwLwGH5T-vf"
      }
    },
    {
      "cell_type": "code",
      "source": [
        "tokenizer = AutoTokenizer.from_pretrained(model_id)\n",
        "tokenizer.pad_token_id = tokenizer.eos_token_id"
      ],
      "metadata": {
        "id": "sYdh7mYRUAZm"
      },
      "execution_count": 48,
      "outputs": []
    },
    {
      "cell_type": "markdown",
      "source": [
        "### Model quantization\n",
        "\n",
        "Model quantization reduces the precision of model weights and computations, optimizing for resource efficiency without significant loss in performance.\n",
        "\n",
        "#### 4-bit precision quantization\n",
        "Prupose:\n",
        "- Reduce memory usage by representing model weights with fewer bits.\n",
        "- Decrease computational requirements during inference or fine-tuning.\n",
        "\n",
        "#### Quantization format: NF4 (Normalized Float 4)\n",
        "\n",
        "- A quantization technique that normalizes values for better dynamic range representation.\n",
        "- NF4 is particularly effective for LLMs as it helps preserve numerical accuracy even with lower precision.\n",
        "\n",
        "#### Brain Floating Point 16\n",
        "\n",
        "- A 16-bit format with a wider range compared to standard float16.\n",
        "- Provides a good balance between precision and performance, particularly in large-scale models and hardware like GPUs or TPUs that optimize for bfloat16."
      ],
      "metadata": {
        "id": "c0Sbdb6CUgcM"
      }
    },
    {
      "cell_type": "code",
      "source": [
        "bnb_config = BitsAndBytesConfig(\n",
        "    load_in_4bit=True, bnb_4bit_quant_type=\"nf4\",\n",
        "    bnb_4bit_compute_dtype=torch.bfloat16\n",
        ")"
      ],
      "metadata": {
        "id": "IHUdCSfDUf29"
      },
      "execution_count": 49,
      "outputs": []
    },
    {
      "cell_type": "markdown",
      "source": [
        "Loading the model"
      ],
      "metadata": {
        "id": "Wj9ULMcXUvQY"
      }
    },
    {
      "cell_type": "code",
      "source": [
        "model = AutoModelForCausalLM.from_pretrained(\n",
        "    model_id,\n",
        "    quantization_config=bnb_config,\n",
        "    low_cpu_mem_usage=True\n",
        ")\n",
        "model.to(device)"
      ],
      "metadata": {
        "colab": {
          "base_uri": "https://localhost:8080/"
        },
        "id": "g2XA63jvUo1y",
        "outputId": "1519d6b8-d35b-4567-9f55-e923a2999b24"
      },
      "execution_count": 50,
      "outputs": [
        {
          "output_type": "stream",
          "name": "stderr",
          "text": [
            "WARNING:accelerate.big_modeling:You shouldn't move a model that is dispatched using accelerate hooks.\n"
          ]
        },
        {
          "output_type": "execute_result",
          "data": {
            "text/plain": [
              "LlamaForCausalLM(\n",
              "  (model): LlamaModel(\n",
              "    (embed_tokens): Embedding(128256, 2048)\n",
              "    (layers): ModuleList(\n",
              "      (0-15): 16 x LlamaDecoderLayer(\n",
              "        (self_attn): LlamaSdpaAttention(\n",
              "          (q_proj): Linear4bit(in_features=2048, out_features=2048, bias=False)\n",
              "          (k_proj): Linear4bit(in_features=2048, out_features=512, bias=False)\n",
              "          (v_proj): Linear4bit(in_features=2048, out_features=512, bias=False)\n",
              "          (o_proj): Linear4bit(in_features=2048, out_features=2048, bias=False)\n",
              "          (rotary_emb): LlamaRotaryEmbedding()\n",
              "        )\n",
              "        (mlp): LlamaMLP(\n",
              "          (gate_proj): Linear4bit(in_features=2048, out_features=8192, bias=False)\n",
              "          (up_proj): Linear4bit(in_features=2048, out_features=8192, bias=False)\n",
              "          (down_proj): Linear4bit(in_features=8192, out_features=2048, bias=False)\n",
              "          (act_fn): SiLU()\n",
              "        )\n",
              "        (input_layernorm): LlamaRMSNorm((2048,), eps=1e-05)\n",
              "        (post_attention_layernorm): LlamaRMSNorm((2048,), eps=1e-05)\n",
              "      )\n",
              "    )\n",
              "    (norm): LlamaRMSNorm((2048,), eps=1e-05)\n",
              "    (rotary_emb): LlamaRotaryEmbedding()\n",
              "  )\n",
              "  (lm_head): Linear(in_features=2048, out_features=128256, bias=False)\n",
              ")"
            ]
          },
          "metadata": {},
          "execution_count": 50
        }
      ]
    },
    {
      "cell_type": "markdown",
      "source": [
        "### Prompting\n",
        "\n",
        "* Use the tokenizer's [encode() method ](https://huggingface.co/docs/transformers/en/main_classes/tokenizer#transformers.PreTrainedTokenizer.encode) to tokenize the model input (your prompt).\n",
        "* Use the model's [generate() method](https://huggingface.co/docs/transformers/en/main_classes/text_generation#transformers.GenerationConfig) to generate output.\n",
        "* Use the tokenizer's [decode() method](https://huggingface.co/docs/transformers/en/main_classes/tokenizer#transformers.PreTrainedTokenizer.decode) to convert model output into human-readable text."
      ],
      "metadata": {
        "id": "A_kzyBWiV4y2"
      }
    },
    {
      "cell_type": "code",
      "source": [
        "def generate_response(prompt, max_new_tokens=100):\n",
        "    inputs = tokenizer(prompt, return_tensors=\"pt\").to(device)\n",
        "    outputs = model.generate(**inputs, max_new_tokens=max_new_tokens, pad_token_id=tokenizer.eos_token_id)\n",
        "    return tokenizer.decode(outputs[0], skip_special_tokens=True)"
      ],
      "metadata": {
        "id": "bOr8WQf7UzfN"
      },
      "execution_count": 51,
      "outputs": []
    },
    {
      "cell_type": "markdown",
      "source": [
        "### `max_new_tokens`\n",
        "\n",
        "The `max_new_tokens` parameter in the specifies the maximum number of tokens that the model is allowed to generate for the response.\n",
        "\n",
        "Increasing `max_new_tokens` will allow the model to generate longer output. But it might lead to the model producing overly long or repetitive outputs. In addition, generating more tokens requires more computation, increasing inference time and memory usage.\n",
        "\n",
        "Decreasing `max_new_tokens` will limit the response to fewer tokens, resulting in shorter outputs. It will enable the model to constrain verbosity, ensuring concise answers for tasks requiring brief responses. But it might lead to omission of useful details, making the output less informative."
      ],
      "metadata": {
        "id": "tQMmekJtlXku"
      }
    },
    {
      "cell_type": "code",
      "source": [
        "prompt = \"What is unique about University of Wisconsin-Madison Computer Sciences department?\"\n",
        "response = generate_response(prompt, max_new_tokens=150)\n",
        "print(response)"
      ],
      "metadata": {
        "colab": {
          "base_uri": "https://localhost:8080/"
        },
        "id": "huTzh-MKXy7C",
        "outputId": "403300e5-d6ec-45b9-89d6-ce044b83b96f"
      },
      "execution_count": null,
      "outputs": [
        {
          "output_type": "stream",
          "name": "stdout",
          "text": [
            "What is unique about University of Wisconsin-Madison Computer Sciences department? \n",
            "\n",
            "Here are some unique aspects of the Computer Science department at University of Wisconsin-Madison:\n",
            "\n",
            "1. **High-Performance Computing (HPC) Research**: UW-Madison is known for its expertise in HPC research, which involves developing and applying innovative technologies to solve complex computational problems. This field has significant implications for various fields, including medicine, finance, and climate modeling.\n",
            "\n",
            "2. **Data Science and Machine Learning**: The department offers a wide range of courses and research opportunities in data science and machine learning, which are essential for tackling big data challenges in industry, academia, and government.\n",
            "\n",
            "3. **Cybersecurity**: The Computer Science department at UW-Madison has a strong focus on cybersecurity, which involves developing effective strategies for protecting\n"
          ]
        }
      ]
    },
    {
      "cell_type": "markdown",
      "source": [
        "### Hallucination\n",
        "\n",
        "AI hallucination is a phenomenon wherein an LLM perceives patterns or objects that are nonexistent or imperceptible to human observers, creating outputs that are nonsensical or altogether inaccurate.\n",
        "\n",
        "AI hallucinations are similar to how humans sometimes see figures in the clouds or faces on the moon. In the case of AI, these misinterpretations occur due to various factors, including overfitting, training data bias/inaccuracy and high model complexity.\n",
        "\n",
        "Hallucinations typically occur due to lack of sufficient training data, lack of verification, overgeneralization, poor prompt design, etc."
      ],
      "metadata": {
        "id": "7N3wccgWafdi"
      }
    },
    {
      "cell_type": "code",
      "source": [
        "prompt = \"Who is the chair of University of Wisconsin-Madison Computer Sciences department?\"\n",
        "response = generate_response(prompt, max_new_tokens=200)\n",
        "print(response)"
      ],
      "metadata": {
        "colab": {
          "base_uri": "https://localhost:8080/"
        },
        "id": "iEcWr59GZkGn",
        "outputId": "7f0f0be9-b4ba-4bf1-86d9-c772d91b4936"
      },
      "execution_count": null,
      "outputs": [
        {
          "output_type": "stream",
          "name": "stdout",
          "text": [
            "Who is the chair of University of Wisconsin-Madison Computer Sciences department? \n",
            "I am unable to find the information for the current chair of the University of Wisconsin-Madison Computer Sciences department. \n",
            "However, I can provide you with the information for the previous chairs. \n",
            "The current chair of the University of Wisconsin-Madison Computer Sciences department is Dr. David S. Lee. He is an American computer scientist and the current chair since 2017. He received his Ph.D. in computer science from the University of Wisconsin-Madison in 1984. He is also a professor of computer science at the university. \n",
            "\n",
            "The previous chair of the University of Wisconsin-Madison Computer Sciences department was Dr. David S. Lee's predecessor, Dr. David S. Lee's predecessor was Dr. David S. Lee's predecessor, Dr. David S. Lee's predecessor was Dr. David S. Lee's predecessor, Dr. David S. Lee's predecessor was Dr. David S. Lee's predecessor, Dr. David S. Lee's predecessor was Dr\n"
          ]
        }
      ]
    },
    {
      "cell_type": "code",
      "source": [
        "prompt = \"\"\"\n",
        "Who is the chair of University of Wisconsin-Madison Computer Sciences department?\n",
        "If you are unsure about the chair of the University of Wisconsin-Madison Computer Sciences department,\n",
        "respond with 'I do not know.'\n",
        "\"\"\"\n",
        "response = generate_response(prompt, max_new_tokens=300)\n",
        "print(response)"
      ],
      "metadata": {
        "colab": {
          "base_uri": "https://localhost:8080/"
        },
        "id": "oRtwUKfQadGh",
        "outputId": "3585f151-23a7-4e16-f22e-3061fc6569a8"
      },
      "execution_count": null,
      "outputs": [
        {
          "output_type": "stream",
          "name": "stdout",
          "text": [
            "Who is the chair of University of Wisconsin-Madison Computer Sciences department? If you are unsure about the chair of the University of Wisconsin-Madison Computer Sciences department, respond with 'I do not know.' Please keep in mind that the information is up to date as of the cut-off date of 01 March 2023. \n",
            "\n",
            "As of 01 March 2023, I am unable to verify who is the chair of the University of Wisconsin-Madison Computer Sciences department. I do not know.\n"
          ]
        }
      ]
    },
    {
      "cell_type": "markdown",
      "source": [
        "### Chat templates\n",
        "\n",
        "- Documentation: https://huggingface.co/docs/transformers/main/en/chat_templating"
      ],
      "metadata": {
        "id": "Wlp-c7ghbcv_"
      }
    },
    {
      "cell_type": "code",
      "source": [
        "def apply_chat_template(system_prompt, prompt, max_new_tokens=100):\n",
        "    messages = [{\"role\": \"system\",\n",
        "                \"content\": system_prompt},\n",
        "                {\"role\": \"user\", \"content\": prompt}]\n",
        "    inputs = tokenizer.apply_chat_template(messages, tokenize=True, add_generation_prompt=True, return_tensors=\"pt\").to(device)\n",
        "    outputs = model.generate(inputs, max_new_tokens=max_new_tokens, pad_token_id=tokenizer.eos_token_id)\n",
        "    return tokenizer.decode(outputs[0], skip_special_tokens=True)"
      ],
      "metadata": {
        "id": "Qhhmj9ZXbfUk"
      },
      "execution_count": 68,
      "outputs": []
    },
    {
      "cell_type": "code",
      "source": [
        "prompt = \"Can you tell me how to play the guitar?\"\n",
        "\n",
        "response = generate_response(prompt, max_new_tokens=200)\n",
        "print(response)"
      ],
      "metadata": {
        "colab": {
          "base_uri": "https://localhost:8080/"
        },
        "id": "gDPXieb9caRm",
        "outputId": "8c66d28c-2fcc-4011-b6a5-52c467c15589"
      },
      "execution_count": null,
      "outputs": [
        {
          "output_type": "stream",
          "name": "stdout",
          "text": [
            "Can you tell me how to play the guitar? I'd love to learn this new instrument.\n",
            "Learning to play the guitar can be a rewarding experience, and I'm happy to help you get started. Here's a step-by-step guide to help you learn how to play the guitar:\n",
            "\n",
            "**Step 1: Get the Right Equipment**\n",
            "\n",
            "* Acoustic or electric guitar: You can start with a beginner-friendly guitar that's easy to play and sounds good.\n",
            "* Guitar pick: A metal or plastic pick is used to strum the strings.\n",
            "* Tuner: A guitar tuner helps you tune your guitar to the correct pitch.\n",
            "* Music stand: A music stand is helpful for reading sheet music or tablature.\n",
            "* Music books: You'll need music books to learn basic chords and songs.\n",
            "\n",
            "**Step 2: Learn Basic Chords**\n",
            "\n",
            "* Start with simple chords like A, C, D, E, and G.\n",
            "* Practice changing between these chords smoothly.\n",
            "* Learn the finger placement for each chord.\n",
            "\n",
            "**Step 3: Learn Basic\n"
          ]
        }
      ]
    },
    {
      "cell_type": "code",
      "source": [
        "system_prompt = \"You are a Carnatic musician who talks about ragas like Shankarabharanam, Thodi, Kalyani, Kambhoji, and Bhairavi frequently.\"\n",
        "role_response = apply_chat_template(system_prompt, prompt, max_new_tokens=100)\n",
        "print(role_response)"
      ],
      "metadata": {
        "colab": {
          "base_uri": "https://localhost:8080/"
        },
        "id": "dTaZY6hodG9s",
        "outputId": "fc092f5a-c4b5-4c85-b2af-a112bd55436a"
      },
      "execution_count": null,
      "outputs": [
        {
          "output_type": "stream",
          "name": "stderr",
          "text": [
            "The attention mask is not set and cannot be inferred from input because pad token is same as eos token. As a consequence, you may observe unexpected behavior. Please pass your input's `attention_mask` to obtain reliable results.\n"
          ]
        },
        {
          "output_type": "stream",
          "name": "stdout",
          "text": [
            "system\n",
            "\n",
            "Cutting Knowledge Date: December 2023\n",
            "Today Date: 02 Dec 2024\n",
            "\n",
            "You are a Carnatic musician who talks about ragas like Shankarabharanam, Thodi, Kalyani, Kambhoji, and Bhairavi frequently.user\n",
            "\n",
            "Can you tell me how to play the guitar?assistant\n",
            "\n",
            "My friend, I must say that the guitar is not a Carnatic instrument, as it is a Western instrument. However, I can try to explain the basics of guitar playing in a way that might be familiar to you, given our discussions about ragas.\n",
            "\n",
            "As a Carnatic musician, I must admit that I find it challenging to describe the guitar to someone who has never heard of ragas or Carnatic music. But I'll try my best to explain the guitar in a way that's similar\n"
          ]
        }
      ]
    },
    {
      "cell_type": "markdown",
      "source": [
        "### Fine-tuning using unstructured data"
      ],
      "metadata": {
        "id": "LH8DWHFxlfrW"
      }
    },
    {
      "cell_type": "code",
      "source": [
        "prompt = \"What are the scales of Kīravāṇi raga?\"\n",
        "\n",
        "response = generate_response(prompt, max_new_tokens=500)\n",
        "print(response)"
      ],
      "metadata": {
        "colab": {
          "base_uri": "https://localhost:8080/"
        },
        "id": "UKT8T-dvlhys",
        "outputId": "90f9e5d3-42d3-4785-95ae-ed9b449abc44"
      },
      "execution_count": 54,
      "outputs": [
        {
          "output_type": "stream",
          "name": "stdout",
          "text": [
            "What are the scales of Kīravāṇi raga? Kīravāṇi raga is a raga from the Indian classical music tradition, and its scales are based on the 7-note formula of the Western major scale. However, Kīravāṇi raga has 8 scales. These 8 scales are: 1. Todi, 2. Murchi, 3. Bhairava, 4. Chakraka, 5. Pratipada, 6. Chaturmukha, 7. Abhau, 8. Murchi. These scales are known as the 8-scales of Kīravāṇi raga. These 8 scales are used in various forms of Indian classical music, particularly in Carnatic and Hindustani music. The 8-scales of Kīravāṇi raga are used to create complex musical structures and ornaments. These 8-scales are used to create the musical structures and ornaments of various forms of Indian classical music, particularly in Carnatic and Hindustani music. The 8-scales of Kīravāṇi raga are used to create the musical structures and ornaments of various forms of Indian classical music, particularly in Carnatic and Hindustani music. The 8-scales of Kīravāṇi raga are used to create the musical structures and ornaments of various forms of Indian classical music, particularly in Carnatic and Hindustani music. The 8-scales of Kīravāṇi raga are used to create the musical structures and ornaments of various forms of Indian classical music, particularly in Carnatic and Hindustani music. The 8-scales of Kīravāṇi raga are used to create the musical structures and ornaments of various forms of Indian classical music, particularly in Carnatic and Hindustani music. The 8-scales of Kīravāṇi raga are used to create the musical structures and ornaments of various forms of Indian classical music, particularly in Carnatic and Hindustani music. The 8-scales of Kīravāṇi raga are used to create the musical structures and ornaments of various forms of Indian classical music, particularly in Carnatic and Hindustani music. The 8-scales of Kīravāṇi raga are used to create the musical structures and ornaments of various forms of\n"
          ]
        }
      ]
    },
    {
      "cell_type": "code",
      "source": [
        "!wget https://ms.sites.cs.wisc.edu/cs639/data/melakarta.txt"
      ],
      "metadata": {
        "colab": {
          "base_uri": "https://localhost:8080/"
        },
        "id": "qKsMUE6xmyOB",
        "outputId": "f6a5db3d-50b4-468a-9a76-112a084dd1e4"
      },
      "execution_count": null,
      "outputs": [
        {
          "output_type": "stream",
          "name": "stdout",
          "text": [
            "--2024-12-04 17:00:25--  https://ms.sites.cs.wisc.edu/cs639/data/melakarta.txt\n",
            "Resolving ms.sites.cs.wisc.edu (ms.sites.cs.wisc.edu)... 18.239.83.98, 18.239.83.24, 18.239.83.26, ...\n",
            "Connecting to ms.sites.cs.wisc.edu (ms.sites.cs.wisc.edu)|18.239.83.98|:443... connected.\n",
            "HTTP request sent, awaiting response... 200 OK\n",
            "Length: 11785 (12K) [text/plain]\n",
            "Saving to: ‘melakarta.txt’\n",
            "\n",
            "melakarta.txt       100%[===================>]  11.51K  --.-KB/s    in 0s      \n",
            "\n",
            "2024-12-04 17:00:26 (282 MB/s) - ‘melakarta.txt’ saved [11785/11785]\n",
            "\n"
          ]
        }
      ]
    },
    {
      "cell_type": "code",
      "source": [
        "test_ratio = 0.1\n",
        "train_texts = []\n",
        "test_texts = []\n",
        "\n",
        "with open('melakarta.txt', 'r') as f:\n",
        "  lines = f.readlines()\n",
        "  print(len(lines))\n",
        "  split_idx = int(len(lines) * test_ratio)\n",
        "  test_lines = lines[:split_idx]\n",
        "  train_lines = lines[split_idx:]\n",
        "  print(train_lines)\n",
        "  print(test_lines)\n",
        "  train_texts.append(\"\".join(train_lines))\n",
        "  test_texts.append(\"\".join(test_lines))"
      ],
      "metadata": {
        "colab": {
          "base_uri": "https://localhost:8080/"
        },
        "id": "pdQiDPW8nmnu",
        "outputId": "551b0a98-1dd8-474c-a803-b3f3a265f6d5"
      },
      "execution_count": 55,
      "outputs": [
        {
          "output_type": "stream",
          "name": "stdout",
          "text": [
            "142\n",
            "['Standard\\n', '\\n', 'Large\\n', 'Width\\n', '\\n', 'Standard\\n', '\\n', 'Wide\\n', 'Color (beta)\\n', '\\n', 'Automatic\\n', '\\n', 'Light\\n', '\\n', 'Dark\\n', 'From Wikipedia, the free encyclopedia\\n', 'For Asampurna melakarta scheme and details, see Melakarta (asampurna scheme).\\n', 'Carnatic music\\n', '\\n', 'Tanjavur-style tambura\\n', 'Concepts\\n', 'ŚrutiSvaraRāgaTāḷaMēḷakartaAsaṃpūrṇa Mēḷakarta\\n', 'Compositions\\n', 'GītaṃSvarajatiVarṇaṃKr̥tiKīrtanaRāgaṃ Tānaṃ PallaviTillana\\n', 'Instruments\\n', 'MelodySarasvati VīṇāVeṇuNādasvaraṃGoṭṭuvādyaṃ (Citra Vīṇā)Violin\\n', 'PercussionMr̥daṅgaṃGhaṭaṃMorsingKanjiraThavil\\n', 'DroneTamburaShruti box\\n', 'ComposersGlossary\\n', 'vte\\n', 'Mēḷakartā is a collection of fundamental musical scales (ragas) in Carnatic music (South Indian classical music). Mēḷakartā ragas are parent ragas (hence known as janaka ragas) from which other ragas may be derived. A melakarta raga is sometimes referred as mela, karta or sampurna as well, though the latter usage is inaccurate, as a sampurna raga need not be a melakarta (take the raga Bhairavi, for example).\\n', '\\n', 'In Hindustani music the thaat is the rough equivalent of Melakartā. There are 10 thaats in Hindustani music, though the commonly accepted melakarta scheme has 72 ragas.\\n', '\\n', 'Rules for Mēḷakarta ragas\\n', 'Ragas must contain the following characteristics to be considered Melakarta:\\n', '\\n', 'They are sampurna ragas – they contain all seven swaras (notes) of the octave in both ascending and descending scale.[1][2]\\n', 'The upper shadjam is included in the raga scale.[2] (ragas like Punnagavarali and Chenchurutti are not mēḷakarta as they end with nishadam)\\n', 'The ascending and descending scales must have the same notes.[2]\\n', 'History\\n', \"The mēḷa system of ragas was first propounded by Raamamaatya in his work Svaramelakalanidhi c. 1550. He is considered the father of mela system of ragas. Later, Venkatamakhin, a gifted musicologist in the 17th century, expounded a new mela system known today as mēḷakarta in his work Chaturdandi Prakaasikaa.[3] He made some bold and controversial claims and defined somewhat arbitrarily 6 svaras from the known 12 semitones, at that time, to arrive at 72 mēḷakarta ragas. The controversial parts relate to double counting of R2 (and similar svaras) and his exclusive selection of madhyamas for which there is no specific reasoning (also known as asampurna melas as opposed to sampurna ragas). However, today the 72 mēḷakarta ragas use a standardized pattern, unlike Venkatamakhi's pattern, and have gained a significant following. Govindhacharya is credited with the standardization of rules and known for giving different names for standard ragas that have a different structure but the same swaras as those proposed by Venkatamakhi.[3] The scales in this page are those proposed by Govindaacharya.\\n\", '\\n', 'Determining the Mēḷakarta\\n', 'Main article: Katapayadi sankhya\\n', \"A hundred years after Venkatamakhin's time the Katapayadi sankhya rule came to be applied to the nomenclature of the mēḷakarta ragas. The sankhya associates Sanskrit consonants with digits. The digits corresponding to the first two syllables of the name of a raga, when reversed, give the index of the raga. Thus the scale of a mēḷakarta raga can be easily derived from its name. The Sanskrit rule of “Sankhyānam vāmatò gatihi” means for arriving to digits, you read from right to left.\\n\", '\\n', 'For example, Harikambhoji raga starts with syllables Ha and ri, which have numbers 8 and 2 associated with them. Reversing them we get 28. Hence Harikambhoji is the 28th Mēḷakarta rāga. See Katapayadi sankhya for more details and examples.\\n', '\\n', 'Mēḷakarta scale\\n', 'Each mēḷakarta raga has a different scale. This scheme envisages the lower Sa (Keezh Shadja), upper Sa (Mael Shadja) and Pa (Panchama) as fixed swaras, with the Ma (Madhyama) having two variants and the remaining swaras Ri (Rishabha), Ga (Gandhaara), Dha (Dhaivata) and Ni (Nishaada) as having three variants each. This leads to 72 seven-note combinations (scales) referred to as the Mēḷakarta ragas as follows.\\n', '\\n', \"There are twelve semitones of the octave S, R1, R2=G1, R3=G2, G3, M1, M2, P, D1, D2=N1, D3=N2, N3 (see swaras in Carnatic music for explanation of these notations). A melakarta raga must necessarily have S and P, one of the M's, one each of the R's and G's, and one each of the D's and N's. Also, R must necessarily precede G and D must precede N (krama sampūrṇa rāga). This gives 2 × 6 × 6 = 72 ragas. Finding mēḷakarta ragas is a mathematical process. By following a simple set of rules we can find the corresponding raga and the scale associated with it.\\n\", '\\n', 'A raga which has a subset of svarās from a Mēḷakarta raga is said to be a janya (means born or derived from) of that Mēḷakarta raga. Every raga is the janya of a mēḷakarta raga. Janya ragas whose notes are found in more than one mēḷakarta raga are assigned (or associated) parent Melakarta based on subjective notions of similarity. This is obvious for ragas that have less than seven notes. For such ragas it can be associated with a Mēḷakarta which has any of the different swaras in that position. For example, Hindolam has Rishabha and Panchama missing. Hence, it could be considered a janya of Todi (also known as Hanumatodi) which has shuddha rishabha or with Natabhairavi which has a chathushruti rishabha. It is popularly associated with Natabhairavi.\\n', '\\n', 'Chakras\\n', '\\n', 'Melakarta chart as per Katapayādi system. (On the prati-madhyamam side, all instances of ni2da3 should instead say ni3da2.) (Sarasangi and Harikamboji should be swapped. That is Sarasangi is the 27th raaga and Harikamboji is the 28th.)\\n', 'The 72 Mēḷakarta ragas are split into 12 groups called chakrās, each containing 6 ragas. The ragas within the chakra differ only in the dhaivatam and nishadam notes (D and N), as illustrated below. The name of each of the 12 chakras suggest their ordinal number as well.[1][4]\\n', '\\n', 'Indu stands for the moon, of which we have only one – hence it is the first chakra.\\n', 'Nētra means eyes, of which we have two – hence it is the second.\\n', 'Agni is the third chakra it indicates three kinds of Agni (Dakshina, Ahavaniyam and gArhapatyam). So agni indicates 3rd Chakra.\\n', 'Vēda denoting four Vedas is the name of the fourth chakra.\\n', 'Bāṇa comes fifth as it stands for the five Arrows of Manmatha.These arrows of Manmatha are mango, lotus, blue lily, jasmine and asoka. These arrows were to give the person hit by it have intense issues\\n', 'Rutu is the sixth chakra standing for the 6 seasons of Hindu calendar, which are Vasanta, Greeshma, Varsha, Sharat, Hemanta and Shishira.\\n', 'Rishi, meaning sage, is the seventh chakra representing the seven sages.\\n', 'Vasu stands for the eight vasus of Hinduism.\\n', 'Brahma comes next of which there are 9.\\n', 'Disi Chakra indicates Ten directions(East, West, North, South, North East, North West, South East, South West, Above and Below). Hence it is 10th Chakra.\\n', 'Eleventh chakra is Rudra of which there are eleven.\\n', 'Twelfth comes Ādityas of which there are twelve.\\n', 'These 12 chakras were also established by Venkatamakhi.\\n', '\\n', 'Table of Mēḷakartā ragas\\n', \"The 72 Mēḷakartā ragas can be divided into two parts, shuddha madhyama and prati madhyama ragas. When a given shuddha madhyama raga's M1 is replaced by M2, we get the corresponding prati madhyama raga. See Katapayadi sankhya for more information on how to derive the various swaras of a raga from its mēḷakartā number.\\n\", '\\n', 'See swaras in Carnatic music for explanation of the notations like R1, G2, N2, and so forth.\\n', '\\n', \"'Mēḷakartā Rāgas'\\n\", 'Shuddha Madhyama\\tPrati Madhyama\\n', 'No.\\tRaga\\tScale\\tNo.\\tRaga\\tScale\\n', '1. Indu Chakra\\t7. Rishi Chakra\\n', '1\\tKanakāngi\\tS R₁ G₁ M₁ P D₁ N₁ Ṡ\\t37\\tSālagam\\tS R₁ G₁ M₂ P D₁ N₁ Ṡ\\n', '2\\tRatnāngi\\tS R₁ G₁ M₁ P D₁ N₂ Ṡ\\t38\\tJalārnavam\\tS R₁ G₁ M₂ P D₁ N₂ Ṡ\\n', '3\\tGānamūrti\\tS R₁ G₁ M₁ P D₁ N₃ Ṡ\\t39\\tJhālavarāḷi\\tS R₁ G₁ M₂ P D₁ N₃ Ṡ\\n', '4\\tVanaspati\\tS R₁ G₁ M₁ P D₂ N₂ Ṡ\\t40\\tNavanītam\\tS R₁ G₁ M₂ P D₂ N₂ Ṡ\\n', '5\\tMānavati\\tS R₁ G₁ M₁ P D₂ N₃ Ṡ\\t41\\tPāvani\\tS R₁ G₁ M₂ P D₂ N₃ Ṡ\\n', '6\\tTānarūpi\\tS R₁ G₁ M₁ P D₃ N₃ Ṡ\\t42\\tRaghupriyā\\tS R₁ G₁ M₂ P D₃ N₃ Ṡ\\n', '2. Netra Chakra\\t8. Vasu Chakra\\n', '7\\tSenāvati\\tS R₁ G₂ M₁ P D₁ N₁ Ṡ\\t43\\tGavāmbhodi\\tS R₁ G₂ M₂ P D₁ N₁ Ṡ\\n', '8\\tHanumatodi\\tS R₁ G₂ M₁ P D₁ N₂ Ṡ\\t44\\tBhavapriyā\\tS R₁ G₂ M₂ P D₁ N₂ Ṡ\\n', '9\\tDhenukā\\tS R₁ G₂ M₁ P D₁ N₃ Ṡ\\t45\\tŚubhapantuvarāḷi\\tS R₁ G₂ M₂ P D₁ N₃ Ṡ\\n', '10\\tNātakapriyā\\tS R₁ G₂ M₁ P D₂ N₂ Ṡ\\t46\\tShaḍvidamārgini\\tS R₁ G₂ M₂ P D₂ N₂ Ṡ\\n', '11\\tKokilapriyā\\tS R₁ G₂ M₁ P D₂ N₃ Ṡ\\t47\\tSuvarnāngi\\tS R₁ G₂ M₂ P D₂ N₃ Ṡ\\n', '12\\tRūpavati\\tS R₁ G₂ M₁ P D₃ N₃ Ṡ\\t48\\tDivyamaṇi\\tS R₁ G₂ M₂ P D₃ N₃ Ṡ\\n', '3. Agni Chakra\\t9. Brahma Chakra\\n', '13\\tGāyakapriyā\\tS R₁ G₃ M₁ P D₁ N₁ Ṡ\\t49\\tDhavaḻāmbari\\tS R₁ G₃ M₂ P D₁ N₁ Ṡ\\n', '14\\tVakuḷābharaṇam\\tS R₁ G₃ M₁ P D₁ N₂ Ṡ\\t50\\tNāmanārāyaṇi\\tS R₁ G₃ M₂ P D₁ N₂ Ṡ\\n', '15\\tMāyāmāḻavagowla\\tS R₁ G₃ M₁ P D₁ N₃ Ṡ\\t51\\tKāmavardhini\\tS R₁ G₃ M₂ P D₁ N₃ Ṡ\\n', '16\\tChakravākam\\tS R₁ G₃ M₁ P D₂ N₂ Ṡ\\t52\\tRāmapriyā\\tS R₁ G₃ M₂ P D₂ N₂ Ṡ\\n', '17\\tSūryakāntam\\tS R₁ G₃ M₁ P D₂ N₃ Ṡ\\t53\\tGamanāśrama\\tS R₁ G₃ M₂ P D₂ N₃ Ṡ\\n', '18\\tHātakāmbari\\tS R₁ G₃ M₁ P D₃ N₃ Ṡ\\t54\\tViśvambari\\tS R₁ G₃ M₂ P D₃ N₃ Ṡ\\n', '4. Veda Chakra\\t10. Disi Chakra\\n', '19\\tJhankāradhvani\\tS R₂ G₂ M₁ P D₁ N₁ Ṡ\\t55\\tŚāmaḻāngi\\tS R₂ G₂ M₂ P D₁ N₁ Ṡ\\n', '20\\tNaṭabhairavi\\tS R₂ G₂ M₁ P D₁ N₂ Ṡ\\t56\\tŚanmukhapriyā\\tS R₂ G₂ M₂ P D₁ N₂ Ṡ\\n', '21\\tKīravāṇi\\tS R₂ G₂ M₁ P D₁ N₃ Ṡ\\t57\\tSimhendramadhyamam\\tS R₂ G₂ M₂ P D₁ N₃ Ṡ\\n', '22\\tKharaharapriyā\\tS R₂ G₂ M₁ P D₂ N₂ Ṡ\\t58\\tHemavati\\tS R₂ G₂ M₂ P D₂ N₂ Ṡ\\n', '23\\tGourimanohari\\tS R₂ G₂ M₁ P D₂ N₃ Ṡ\\t59\\tDharmavati\\tS R₂ G₂ M₂ P D₂ N₃ Ṡ\\n', '24\\tVaruṇapriyā\\tS R₂ G₂ M₁ P D₃ N₃ Ṡ\\t60\\tNītimati\\tS R₂ G₂ M₂ P D₃ N₃ Ṡ\\n', '5. Bana Chakra\\t11. Rudra Chakra\\n', '25\\tMāraranjani\\tS R₂ G₃ M₁ P D₁ N₁ Ṡ\\t61\\tKāntāmaṇi\\tS R₂ G₃ M₂ P D₁ N₁ Ṡ\\n', '26\\tChārukesi\\tS R₂ G₃ M₁ P D₁ N₂ Ṡ\\t62\\tRiśabhapriyā\\tS R₂ G₃ M₂ P D₁ N₂ Ṡ\\n', '27\\tSarasāngi\\tS R₂ G₃ M₁ P D₁ N₃ Ṡ\\t63\\tLatāngi\\tS R₂ G₃ M₂ P D₁ N₃ Ṡ\\n', '28\\tHarikāmbhōji\\tS R₂ G₃ M₁ P D₂ N₂ Ṡ\\t64\\tVāchaspati\\tS R₂ G₃ M₂ P D₂ N₂ Ṡ\\n', '29\\tDhīraśankarābharaṇam\\tS R₂ G₃ M₁ P D₂ N₃ Ṡ\\t65\\tMechakalyāni\\tS R₂ G₃ M₂ P D₂ N₃ Ṡ\\n', '30\\tNāganandini\\tS R₂ G₃ M₁ P D₃ N₃ Ṡ\\t66\\tChitrāmbari\\tS R₂ G₃ M₂ P D₃ N₃ Ṡ\\n', '6. Rutu Chakra\\t12. Aditya Chakra\\n', '31\\tYāgapriyā\\tS R₃ G₃ M₁ P D₁ N₁ Ṡ\\t67\\tSucharitrā\\tS R₃ G₃ M₂ P D₁ N₁ Ṡ\\n', '32\\tRāgavardhini\\tS R₃ G₃ M₁ P D₁ N₂ Ṡ\\t68\\tJyoti svarupini\\tS R₃ G₃ M₂ P D₁ N₂ Ṡ\\n', '33\\tGāngeyabhuśani\\tS R₃ G₃ M₁ P D₁ N₃ Ṡ\\t69\\tDhāthuvardhani\\tS R₃ G₃ M₂ P D₁ N₃ Ṡ\\n', '34\\tVāgadhīśvari\\tS R₃ G₃ M₁ P D₂ N₂ Ṡ\\t70\\tNāsikābhūśaṇi\\tS R₃ G₃ M₂ P D₂ N₂ Ṡ\\n', '35\\tŚūlini\\tS R₃ G₃ M₁ P D₂ N₃ Ṡ\\t71\\tKōsalam\\tS R₃ G₃ M₂ P D₂ N₃ Ṡ\\n', '36\\tChalanāṭa\\tS R₃ G₃ M₁ P D₃ N₃ Ṡ\\t72\\tRasikapriyā\\tS R₃ G₃ M₂ P D₃ N₃ Ṡ\\n', 'Alternate Mēḷakarta scheme\\n', 'Main article: Melakarta (asampurna scheme)\\n', 'Muthuswami Dikshitar school followed a different set of scales as the 72 Mēḷakarta ragas.[5] These were taught by Venkatamakhin.[3] Many of the scales were asampurna (not sampurna ragas) because Dikshitar chose to follow the earlier established structure to mitigate ill-effects of usage of direct vivadi swaras in the scales.[3]\\n']\n",
            "['Melakarta\\n', '\\n', 'Article\\n', 'Talk\\n', 'Read\\n', 'Edit\\n', 'View history\\n', '\\n', 'Tools\\n', 'Appearance hide\\n', 'Text\\n', '\\n', 'Small\\n', '\\n']\n"
          ]
        }
      ]
    },
    {
      "cell_type": "code",
      "source": [
        "from datasets import Dataset"
      ],
      "metadata": {
        "id": "I4iPMO2Ho3dz"
      },
      "execution_count": 56,
      "outputs": []
    },
    {
      "cell_type": "code",
      "source": [
        "train_dataset = Dataset.from_dict({\"text\": train_texts})\n",
        "test_dataset = Dataset.from_dict({\"text\": test_texts})"
      ],
      "metadata": {
        "id": "Wu0gVt8moEcH"
      },
      "execution_count": 57,
      "outputs": []
    },
    {
      "cell_type": "code",
      "source": [
        "def tokenize_data(data):\n",
        "    tokenized = tokenizer(\n",
        "        data[\"text\"],\n",
        "        truncation=True,\n",
        "        padding=\"max_length\",\n",
        "        max_length=512,\n",
        "    )\n",
        "    # Set the labels to be the same as input_ids for causal language modeling\n",
        "    tokenized[\"labels\"] = tokenized[\"input_ids\"].copy()\n",
        "    return tokenized\n",
        "\n",
        "tokenized_train = train_dataset.map(tokenize_data, batched=True)\n",
        "tokenized_test = test_dataset.map(tokenize_data, batched=True)"
      ],
      "metadata": {
        "id": "gaqKHy9Esz2i",
        "colab": {
          "base_uri": "https://localhost:8080/",
          "height": 81,
          "referenced_widgets": [
            "f62c7b5a86a341d7845ec1b081df53ee",
            "22f1b3ffa4f74c38974a3e15ef4275ac",
            "7fa6c0199dc64920889d20b8bf6b1932",
            "5a347bc9274f45308d2b6619e6e72270",
            "3e86111a42024026ad16144d6ad92014",
            "7fe336cd1e6b4061ab1747fd526eea40",
            "1fecbbab16af46e292c906fc90f806c5",
            "9ea387131ed54f07b176c4815c6e3971",
            "de5f9ee37be746549e08815e9e274bfc",
            "16849a634d004b46b842d814a6a8c040",
            "7cbb4f70dddc4c85b2d84450d8f5e053",
            "9f82763ebf1c47dcb504d0721e106223",
            "f7af0ae3ee3d4fc281f111a420a5da19",
            "4e0d6a36dbfb4a34aaf95e9e77e3490c",
            "c275edfec0284032b32b1204afa722f1",
            "ee0e09b18a8e4f668e64a02fe17a3e45",
            "73d3cd5b9ba94fa5be02a452387e8714",
            "71f40611eb1c42a694aae7d8877e3311",
            "6e9ac1bd5b274699adcdc47046f1a0de",
            "847b8eb09c354908bcd0e58974d44e36",
            "827fb27730104cf9b47945eaa626e653",
            "17b388ed9e8b400abac3de2320f51a5f"
          ]
        },
        "outputId": "3834cb6f-9da9-4436-df6b-4c45b17db182"
      },
      "execution_count": 58,
      "outputs": [
        {
          "output_type": "display_data",
          "data": {
            "text/plain": [
              "Map:   0%|          | 0/1 [00:00<?, ? examples/s]"
            ],
            "application/vnd.jupyter.widget-view+json": {
              "version_major": 2,
              "version_minor": 0,
              "model_id": "f62c7b5a86a341d7845ec1b081df53ee"
            }
          },
          "metadata": {}
        },
        {
          "output_type": "display_data",
          "data": {
            "text/plain": [
              "Map:   0%|          | 0/1 [00:00<?, ? examples/s]"
            ],
            "application/vnd.jupyter.widget-view+json": {
              "version_major": 2,
              "version_minor": 0,
              "model_id": "9f82763ebf1c47dcb504d0721e106223"
            }
          },
          "metadata": {}
        }
      ]
    },
    {
      "cell_type": "code",
      "source": [
        "tokenized_train"
      ],
      "metadata": {
        "colab": {
          "base_uri": "https://localhost:8080/"
        },
        "id": "rWLsDwXn11r2",
        "outputId": "8e1547d0-40f3-48fb-d737-ac3c54e4519c"
      },
      "execution_count": 59,
      "outputs": [
        {
          "output_type": "execute_result",
          "data": {
            "text/plain": [
              "Dataset({\n",
              "    features: ['text', 'input_ids', 'attention_mask', 'labels'],\n",
              "    num_rows: 1\n",
              "})"
            ]
          },
          "metadata": {},
          "execution_count": 59
        }
      ]
    },
    {
      "cell_type": "code",
      "source": [
        "tokenized_test"
      ],
      "metadata": {
        "colab": {
          "base_uri": "https://localhost:8080/"
        },
        "id": "cIpoDdM816jf",
        "outputId": "1dba6ecf-eeef-454b-da7a-339c88845181"
      },
      "execution_count": 60,
      "outputs": [
        {
          "output_type": "execute_result",
          "data": {
            "text/plain": [
              "Dataset({\n",
              "    features: ['text', 'input_ids', 'attention_mask', 'labels'],\n",
              "    num_rows: 1\n",
              "})"
            ]
          },
          "metadata": {},
          "execution_count": 60
        }
      ]
    },
    {
      "cell_type": "markdown",
      "source": [
        "### peft (Parameter-Efficient Fine-Tuning) library: Low-Rank Adaptation (LoRA)\n",
        "\n",
        "LoRA is a technique to fine-tune large language models efficiently by adapting only a subset of their parameters. LoRA fine-tunes large models by introducing low-rank matrices into selected layers of the model, without modifying the original pre-trained weights.\n",
        "\n",
        "Attention Projections (q_proj (Query Projection), k_proj (Key Projection), v_proj (Value Projection), o_proj (Output Projection)): These are fundamental to how transformers compute relationships between tokens, enabling models to focus on relevant parts of the input sequence.\n",
        "\n",
        "Feed-Forward Projections (gate_proj, up_proj, down_proj): These handle transformations within each token's embedding independently, enriching the representation through nonlinear processing."
      ],
      "metadata": {
        "id": "KyJVamNVF48u"
      }
    },
    {
      "cell_type": "code",
      "source": [
        "from peft import LoraConfig\n",
        "\n",
        "# Define tuning parameters\n",
        "lora_config = LoraConfig(\n",
        "    r=8,\n",
        "    task_type=\"CAUSAL_LM\",\n",
        "    target_modules=[\n",
        "        \"q_proj\",\n",
        "        \"o_proj\",\n",
        "        \"k_proj\",\n",
        "        \"v_proj\",\n",
        "        \"gate_proj\",\n",
        "        \"up_proj\",\n",
        "        \"down_proj\",\n",
        "    ],\n",
        ")"
      ],
      "metadata": {
        "id": "Kc-8-ij_17sN"
      },
      "execution_count": 61,
      "outputs": []
    },
    {
      "cell_type": "code",
      "source": [
        "from transformers import Trainer, TrainingArguments\n",
        "from trl import SFTTrainer\n",
        "\n",
        "# Training arguments\n",
        "training_args = TrainingArguments(\n",
        "    evaluation_strategy=\"epoch\",\n",
        "    save_strategy=\"epoch\",\n",
        "    num_train_epochs=20,\n",
        "    per_device_train_batch_size=1,\n",
        "    per_device_eval_batch_size=1,\n",
        "    gradient_accumulation_steps=4,\n",
        "    learning_rate=2e-4,\n",
        "    fp16=True,\n",
        "    logging_steps=1,\n",
        "    logging_dir=\"./logs\",\n",
        "    output_dir=\"./results\",\n",
        "    save_total_limit=2,\n",
        "    optim=\"paged_adamw_8bit\"\n",
        ")\n",
        "\n",
        "# Trainer object that takes care of the training process\n",
        "trainer = SFTTrainer(\n",
        "    model=model,\n",
        "    train_dataset=tokenized_train,\n",
        "    eval_dataset=tokenized_test,\n",
        "    args=training_args,\n",
        "    peft_config=lora_config,\n",
        ")"
      ],
      "metadata": {
        "colab": {
          "base_uri": "https://localhost:8080/"
        },
        "id": "8mKNvp6b2FL5",
        "outputId": "2e3c6b1f-d579-4a15-cf78-96c38af6000a"
      },
      "execution_count": 64,
      "outputs": [
        {
          "output_type": "stream",
          "name": "stderr",
          "text": [
            "/usr/local/lib/python3.10/dist-packages/transformers/training_args.py:1568: FutureWarning: `evaluation_strategy` is deprecated and will be removed in version 4.46 of 🤗 Transformers. Use `eval_strategy` instead\n",
            "  warnings.warn(\n",
            "/usr/local/lib/python3.10/dist-packages/transformers/training_args.py:1568: FutureWarning: `evaluation_strategy` is deprecated and will be removed in version 4.46 of 🤗 Transformers. Use `eval_strategy` instead\n",
            "  warnings.warn(\n",
            "/usr/local/lib/python3.10/dist-packages/transformers/training_args.py:1568: FutureWarning: `evaluation_strategy` is deprecated and will be removed in version 4.46 of 🤗 Transformers. Use `eval_strategy` instead\n",
            "  warnings.warn(\n",
            "/usr/local/lib/python3.10/dist-packages/trl/trainer/sft_trainer.py:309: UserWarning: You didn't pass a `max_seq_length` argument to the SFTTrainer, this will default to 1024\n",
            "  warnings.warn(\n"
          ]
        }
      ]
    },
    {
      "cell_type": "markdown",
      "source": [
        "#### Fine-tuning"
      ],
      "metadata": {
        "id": "lu8ET8w62JtM"
      }
    },
    {
      "cell_type": "code",
      "source": [
        "trainer.train()"
      ],
      "metadata": {
        "colab": {
          "base_uri": "https://localhost:8080/",
          "height": 755
        },
        "id": "dfA2yPkD2I8i",
        "outputId": "ebcdc27c-bb3b-4242-fb35-ebf7f3e3f5b7"
      },
      "execution_count": 65,
      "outputs": [
        {
          "output_type": "display_data",
          "data": {
            "text/plain": [
              "<IPython.core.display.HTML object>"
            ],
            "text/html": [
              "\n",
              "    <div>\n",
              "      \n",
              "      <progress value='20' max='20' style='width:300px; height:20px; vertical-align: middle;'></progress>\n",
              "      [20/20 00:28, Epoch 20/20]\n",
              "    </div>\n",
              "    <table border=\"1\" class=\"dataframe\">\n",
              "  <thead>\n",
              " <tr style=\"text-align: left;\">\n",
              "      <th>Epoch</th>\n",
              "      <th>Training Loss</th>\n",
              "      <th>Validation Loss</th>\n",
              "    </tr>\n",
              "  </thead>\n",
              "  <tbody>\n",
              "    <tr>\n",
              "      <td>1</td>\n",
              "      <td>3.208900</td>\n",
              "      <td>5.392498</td>\n",
              "    </tr>\n",
              "    <tr>\n",
              "      <td>2</td>\n",
              "      <td>3.046200</td>\n",
              "      <td>5.388756</td>\n",
              "    </tr>\n",
              "    <tr>\n",
              "      <td>3</td>\n",
              "      <td>2.877500</td>\n",
              "      <td>5.386607</td>\n",
              "    </tr>\n",
              "    <tr>\n",
              "      <td>4</td>\n",
              "      <td>2.713200</td>\n",
              "      <td>5.381615</td>\n",
              "    </tr>\n",
              "    <tr>\n",
              "      <td>5</td>\n",
              "      <td>2.557200</td>\n",
              "      <td>5.374465</td>\n",
              "    </tr>\n",
              "    <tr>\n",
              "      <td>6</td>\n",
              "      <td>2.410900</td>\n",
              "      <td>5.366838</td>\n",
              "    </tr>\n",
              "    <tr>\n",
              "      <td>7</td>\n",
              "      <td>2.274900</td>\n",
              "      <td>5.349844</td>\n",
              "    </tr>\n",
              "    <tr>\n",
              "      <td>8</td>\n",
              "      <td>2.146200</td>\n",
              "      <td>5.340727</td>\n",
              "    </tr>\n",
              "    <tr>\n",
              "      <td>9</td>\n",
              "      <td>2.022500</td>\n",
              "      <td>5.331798</td>\n",
              "    </tr>\n",
              "    <tr>\n",
              "      <td>10</td>\n",
              "      <td>1.903300</td>\n",
              "      <td>5.325198</td>\n",
              "    </tr>\n",
              "    <tr>\n",
              "      <td>11</td>\n",
              "      <td>1.789700</td>\n",
              "      <td>5.326438</td>\n",
              "    </tr>\n",
              "    <tr>\n",
              "      <td>12</td>\n",
              "      <td>1.686800</td>\n",
              "      <td>5.319911</td>\n",
              "    </tr>\n",
              "    <tr>\n",
              "      <td>13</td>\n",
              "      <td>1.591100</td>\n",
              "      <td>5.324152</td>\n",
              "    </tr>\n",
              "    <tr>\n",
              "      <td>14</td>\n",
              "      <td>1.506400</td>\n",
              "      <td>5.331571</td>\n",
              "    </tr>\n",
              "    <tr>\n",
              "      <td>15</td>\n",
              "      <td>1.432000</td>\n",
              "      <td>5.330711</td>\n",
              "    </tr>\n",
              "    <tr>\n",
              "      <td>16</td>\n",
              "      <td>1.367000</td>\n",
              "      <td>5.347286</td>\n",
              "    </tr>\n",
              "    <tr>\n",
              "      <td>17</td>\n",
              "      <td>1.310500</td>\n",
              "      <td>5.342810</td>\n",
              "    </tr>\n",
              "    <tr>\n",
              "      <td>18</td>\n",
              "      <td>1.265100</td>\n",
              "      <td>5.340904</td>\n",
              "    </tr>\n",
              "    <tr>\n",
              "      <td>19</td>\n",
              "      <td>1.229600</td>\n",
              "      <td>5.345001</td>\n",
              "    </tr>\n",
              "    <tr>\n",
              "      <td>20</td>\n",
              "      <td>1.205300</td>\n",
              "      <td>5.355284</td>\n",
              "    </tr>\n",
              "  </tbody>\n",
              "</table><p>"
            ]
          },
          "metadata": {}
        },
        {
          "output_type": "execute_result",
          "data": {
            "text/plain": [
              "TrainOutput(global_step=20, training_loss=1.977209860086441, metrics={'train_runtime': 29.4501, 'train_samples_per_second': 0.679, 'train_steps_per_second': 0.679, 'total_flos': 60136378859520.0, 'train_loss': 1.977209860086441, 'epoch': 20.0})"
            ]
          },
          "metadata": {},
          "execution_count": 65
        }
      ]
    },
    {
      "cell_type": "code",
      "source": [
        "prompt = \"What are the scales of Kīravāṇi raga?\"\n",
        "system_prompt = \"You are a Indian carnatic musician answering questions about carnatic music.\"\n",
        "\n",
        "fine_tuned_role_response = apply_chat_template(system_prompt, prompt, max_new_tokens=1000)\n",
        "print(fine_tuned_role_response)"
      ],
      "metadata": {
        "colab": {
          "base_uri": "https://localhost:8080/"
        },
        "id": "bwVnm7gQ4iqU",
        "outputId": "35debffa-8f4b-4ee7-9b5f-2221311b1700"
      },
      "execution_count": 76,
      "outputs": [
        {
          "output_type": "stream",
          "name": "stdout",
          "text": [
            "system\n",
            "\n",
            "Cutting Knowledge Date: December 2023\n",
            "Today Date: 04 Dec 2024\n",
            "\n",
            "You are a Indian carnatic musician answering questions about carnatic music.user\n",
            "\n",
            "What are the scales of Kīravāṇi raga?assistant\n",
            "\n",
            "In Carnatic music, Kīrāvāṇi raga is composed of seven scales. Here are the scales of Kīrāvāṇi raga:\n",
            "\n",
            "1. Svarajati (G) - The beginning of the raga\n",
            "2. Rāga (G) - A major scale\n",
            "3. Mēdhi (A) - A minor scale\n",
            "4. Tīrthaṭa (A) - A melodic minor scale\n",
            "5. Mēdhi (B) - A minor scale\n",
            "6. Tīrthaṭa (C) - A melodic minor scale\n",
            "7. Rāga (C) - The final scale of the raga\n",
            "\n",
            "These seven scales are known as the'svarajati' or 'rāga' scales, and they are the basis for the Carnatic raga system.\n"
          ]
        }
      ]
    },
    {
      "cell_type": "code",
      "source": [
        "\"\""
      ],
      "metadata": {
        "id": "B5LBmEaE9Xgp"
      },
      "execution_count": null,
      "outputs": []
    }
  ]
}