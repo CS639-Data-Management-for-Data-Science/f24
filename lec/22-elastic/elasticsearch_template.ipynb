{
 "cells": [
  {
   "cell_type": "markdown",
   "id": "b9bff378-38b4-47fe-857d-1e2f1b52f3a1",
   "metadata": {},
   "source": [
    "# Elasticsearch 3"
   ]
  },
  {
   "cell_type": "code",
   "execution_count": null,
   "id": "f124a0ca-ea67-44c9-a651-189f2e838c50",
   "metadata": {},
   "outputs": [],
   "source": [
    "import os\n",
    "from elasticsearch import Elasticsearch, helpers, NotFoundError\n",
    "import json\n",
    "from datetime import datetime"
   ]
  },
  {
   "cell_type": "code",
   "execution_count": null,
   "id": "012cc7c4-d944-44d6-8e59-58fc25b4577b",
   "metadata": {},
   "outputs": [],
   "source": [
    "elastic_user = \"elastic\"\n",
    "elastic_pwd = \"EBYMFova\""
   ]
  },
  {
   "cell_type": "code",
   "execution_count": null,
   "id": "112640aa-1a76-40e0-961e-dc53ae61cf14",
   "metadata": {},
   "outputs": [],
   "source": [
    "client = Elasticsearch(\"http://localhost:9200\", \\\n",
    "                       basic_auth=(elastic_user, elastic_pwd))  "
   ]
  },
  {
   "cell_type": "markdown",
   "id": "e3a23a9d-ef5a-4aae-ac56-f2ade0597ec6",
   "metadata": {},
   "source": [
    "<b>p4 autograder:</b> We'll get autograded updated to handle both the previous and the current version."
   ]
  },
  {
   "cell_type": "code",
   "execution_count": null,
   "id": "d59cbd16-772c-498a-a267-c780427cad7e",
   "metadata": {},
   "outputs": [],
   "source": [
    "client.info()"
   ]
  },
  {
   "cell_type": "markdown",
   "id": "5e570d38-5db8-498f-b05c-4918f947b8c4",
   "metadata": {},
   "source": [
    "### New York City Restaurants JSON dataset"
   ]
  },
  {
   "cell_type": "code",
   "execution_count": null,
   "id": "01c4af69-0f2b-454b-8020-e7fbd847e0c1",
   "metadata": {},
   "outputs": [],
   "source": [
    "nyc_index = \"nyc_restaurants\""
   ]
  },
  {
   "cell_type": "code",
   "execution_count": null,
   "id": "6d86a187-8148-4623-807d-9b430bbeaa11",
   "metadata": {},
   "outputs": [],
   "source": [
    "json_data_dir = \"data/json\"\n",
    "json_files = [f for f in os.listdir(json_data_dir) if \".json\" in f]\n",
    "json_files"
   ]
  },
  {
   "cell_type": "markdown",
   "id": "7edcefa5-47b8-4199-943e-6c055db65c06",
   "metadata": {},
   "source": [
    "### Bulk loading JSON using `helpers.bulk` function (not a method! my apologies)\n",
    "\n",
    "```\n",
    "operations = [\n",
    "    {\"index\": \"my_index\", \"_source\": {\"field1\": \"value1\", \"field2\": \"value2\"}},\n",
    "    {\"index\": \"my_index\", \"_source\": {\"field1\": \"value3\", \"field2\": \"value4\"}},\n",
    "    ...\n",
    "]\n",
    "response = helpers.bulk(client, operations)\n",
    "```\n",
    "documentation: https://elasticsearch-py.readthedocs.io/en/latest/helpers.html"
   ]
  },
  {
   "cell_type": "code",
   "execution_count": null,
   "id": "776a3027-09df-449e-b283-3ccca6e46350",
   "metadata": {},
   "outputs": [],
   "source": [
    "try:\n",
    "    client.indices.delete(index=nyc_index)\n",
    "except NotFoundError as e:\n",
    "    print(\"Index doesn't exist!\")"
   ]
  },
  {
   "cell_type": "code",
   "execution_count": null,
   "id": "6575c2fd-ac5e-4463-bd86-b1213a9dbf54",
   "metadata": {},
   "outputs": [],
   "source": [
    "client.indices.create(index=nyc_index)"
   ]
  },
  {
   "cell_type": "code",
   "execution_count": null,
   "id": "c047484d-4845-4fe5-9784-45e23f047824",
   "metadata": {},
   "outputs": [],
   "source": [
    "with open(os.path.join(json_data_dir, \"New_York_City_Restaurant_Inspection_Results_v2.json\"), 'r') as file:\n",
    "    data = json.load(file)\n",
    "\n",
    "restaurants = data[\"restaurants\"]\n",
    "operations = [\n",
    "    {\"_index\": nyc_index, \"_source\": restaurant}\n",
    "    for restaurant in restaurants\n",
    "]\n",
    "\n",
    "helpers.bulk(client, operations)"
   ]
  },
  {
   "cell_type": "code",
   "execution_count": null,
   "id": "bd6019f3-300d-4e71-add0-a6cdd82fe874",
   "metadata": {},
   "outputs": [],
   "source": [
    "# mapping"
   ]
  },
  {
   "cell_type": "code",
   "execution_count": null,
   "id": "681d6bef-e147-4b4e-9b42-ca047e98d35e",
   "metadata": {},
   "outputs": [],
   "source": [
    "# match all documents\n",
    "\n",
    "resp = client.search(index=nyc_index, body=query)\n",
    "# for hit in resp['hits']['hits']:\n",
    "#     print(hit['_source']['DBA'])"
   ]
  },
  {
   "cell_type": "markdown",
   "id": "e70c7520-7e48-4750-8b58-87b3721d7b44",
   "metadata": {},
   "source": [
    "### Full Query DSL (Domain Specific Language)"
   ]
  },
  {
   "cell_type": "markdown",
   "id": "f439b45d-1d0f-4dc5-b129-fe7a45e27fd8",
   "metadata": {},
   "source": [
    "### `search` method\n",
    "\n",
    "- Allows you to execute a search query and get back search hits that match the query. You can provide search queries using the q query string parameter or request body.\n",
    "- documentation: https://www.elastic.co/guide/en/elasticsearch/reference/current/search-search.html"
   ]
  },
  {
   "cell_type": "markdown",
   "id": "21fd74af-2475-44f7-8fa5-be4c83cd7db9",
   "metadata": {},
   "source": [
    "### Controlling size of the `hits` and the `_source` fields"
   ]
  },
  {
   "cell_type": "markdown",
   "id": "2829be55-afd9-417b-ace7-3186308de54a",
   "metadata": {},
   "source": [
    "#### (Simple search) Q1: Find all restaurants in Manhattan that were subject to inspection."
   ]
  },
  {
   "cell_type": "code",
   "execution_count": null,
   "id": "78defd0f-4d16-4552-b677-b256d453f949",
   "metadata": {},
   "outputs": [],
   "source": [
    "response = client.search(\n",
    "    index=nyc_index,\n",
    "    body={\n",
    "        \"query\": {\n",
    "            \"match\": {\n",
    "                \"BORO\": \"Manhattan\"\n",
    "            }\n",
    "        }\n",
    "    }\n",
    ")\n",
    "\n",
    "print(response['hits']['total']['value'])\n",
    "\n",
    "for hit in response['hits']['hits']:\n",
    "    # print(hit['_source']['DBA'], hit['_source']['BORO'], \\\n",
    "    #      hit['_source']['BUILDING'], hit['_source']['STREET'])\n",
    "    print(hit['_source'])"
   ]
  },
  {
   "cell_type": "markdown",
   "id": "6d3b3068-ccf7-4ce4-975a-eb2964b2acb7",
   "metadata": {},
   "source": [
    "#### (Simple search) Q2: Find all inspected \"Pizza\" restaurants."
   ]
  },
  {
   "cell_type": "code",
   "execution_count": null,
   "id": "b6bfd7e4-8cc0-41d2-8d1b-7dfe0a11ebf6",
   "metadata": {},
   "outputs": [],
   "source": [
    "response = client.search(\n",
    "    index=nyc_index,\n",
    "    body={\n",
    "        \"query\": {\n",
    "            \"match\": {\n",
    "                \"DBA\": \"Pizza\"\n",
    "            }\n",
    "        }\n",
    "    }\n",
    ")\n",
    "\n",
    "for hit in response['hits']['hits']:\n",
    "    print(hit['_source']['DBA'])"
   ]
  },
  {
   "cell_type": "markdown",
   "id": "a9ef23c7-0885-4232-8182-1b92b8e34a47",
   "metadata": {},
   "source": [
    "#### (Fuzzy search) Q3: Find all inspected restaurants whose names are similar to \"Mamma Mia\"."
   ]
  },
  {
   "cell_type": "code",
   "execution_count": null,
   "id": "c2c2583c-4fb8-4def-a2da-99d53e2b9618",
   "metadata": {},
   "outputs": [],
   "source": [
    "response = client.search(\n",
    "    index=nyc_index,\n",
    "    body={\n",
    "        \"query\": {\n",
    "            \"match\": {\n",
    "                \"DBA\": {\n",
    "                    \"query\": \"Mamma Mia\",\n",
    "                    \"fuzziness\": \"AUTO\"\n",
    "                }\n",
    "            }\n",
    "        }\n",
    "    }\n",
    ")\n",
    "\n",
    "for hit in response['hits']['hits']:\n",
    "    print(hit['_source']['DBA'])"
   ]
  },
  {
   "cell_type": "markdown",
   "id": "96922b79-7afe-4ae1-a487-25702233165d",
   "metadata": {},
   "source": [
    "#### (Phrase match search) Q4: Find all inspected restaurants whose violations that have the phrase \"food worker\"."
   ]
  },
  {
   "cell_type": "code",
   "execution_count": null,
   "id": "868a85f6-4d55-43d7-8b38-d5369053ffd3",
   "metadata": {},
   "outputs": [],
   "source": [
    "response = client.search(\n",
    "    index=nyc_index,\n",
    "    body={\n",
    "        \"query\": {\n",
    "            \"match_phrase\": {\n",
    "                \"VIOLATION DESCRIPTION\": \"food worker\"\n",
    "            }\n",
    "        }\n",
    "    }\n",
    ")\n",
    "\n",
    "for hit in response['hits']['hits']:\n",
    "    print(hit['_source']['DBA'], \\\n",
    "         hit['_source']['VIOLATION DESCRIPTION'])"
   ]
  },
  {
   "cell_type": "markdown",
   "id": "8774442d-7fbc-4c0b-ae7a-7224f343145b",
   "metadata": {},
   "source": [
    "#### (Multi field match search) Q5: Find all restaurants that have \"Pizza\" or \"Pasta\" in either their name or their \"CUISINE DESCRIPTION\"."
   ]
  },
  {
   "cell_type": "code",
   "execution_count": null,
   "id": "31789ae5-74e9-41e8-a540-299280664985",
   "metadata": {},
   "outputs": [],
   "source": [
    "response = client.search(\n",
    "    index=nyc_index,\n",
    "    body={\n",
    "        \"query\": {\n",
    "            \"multi_match\": {\n",
    "                \"query\": \"Pizza Pasta\",\n",
    "                \"fields\": [\"DBA\", \"CUISINE DESCRIPTION\"],\n",
    "                \"type\": \"most_fields\" \n",
    "            }\n",
    "        }\n",
    "    }\n",
    ")\n",
    "\n",
    "for hit in response['hits']['hits']:\n",
    "    print(f\"{hit['_source']['DBA']}: {hit['_source']['CUISINE DESCRIPTION']}\")"
   ]
  },
  {
   "cell_type": "markdown",
   "id": "3ef6741c-453c-4c4b-bf42-9bcee5e1f854",
   "metadata": {},
   "source": [
    "### NEW QUESTIONS"
   ]
  },
  {
   "cell_type": "markdown",
   "id": "cc8a0c01-fb1b-4f6b-8c15-a010562451c8",
   "metadata": {},
   "source": [
    "#### Q6: Find all inspected restaurants that have Italian or Mexican in their \"CUISINE DESCRIPTION\"."
   ]
  },
  {
   "cell_type": "markdown",
   "id": "d35fa7a0-fbfa-4b9d-98ad-1138b9afe6d9",
   "metadata": {},
   "source": [
    "Using `multi_match`."
   ]
  },
  {
   "cell_type": "code",
   "execution_count": null,
   "id": "d04313de-4e93-48df-a576-570e81f6c855",
   "metadata": {},
   "outputs": [],
   "source": [
    "query = {\n",
    "    \n",
    "}\n",
    "\n",
    "response = client.search(index=nyc_index, body=query)\n",
    "print(response['hits']['total']['value'])\n",
    "for hit in response['hits']['hits']:\n",
    "    print(hit['_source']['DBA'], hit['_source']['CUISINE DESCRIPTION'])"
   ]
  },
  {
   "cell_type": "markdown",
   "id": "e71af6aa-3b43-4fd2-939b-028795ceebb4",
   "metadata": {},
   "source": [
    "Using `simple_query_string`."
   ]
  },
  {
   "cell_type": "code",
   "execution_count": null,
   "id": "b989e917-a669-4182-b6d1-cac8c63410f2",
   "metadata": {},
   "outputs": [],
   "source": [
    "query = {\n",
    "    \n",
    "}\n",
    "response = client.search(index=nyc_index, body=query)\n",
    "print(response['hits']['total']['value'])\n",
    "\n",
    "for hit in response['hits']['hits']:\n",
    "    print(hit['_source']['DBA'], \":\", hit['_source']['CUISINE DESCRIPTION'])\n"
   ]
  },
  {
   "cell_type": "markdown",
   "id": "b26bd7b9-0d19-4d9e-b942-558d7816287d",
   "metadata": {},
   "source": [
    "### Boosting\n",
    "\n",
    "- Boosting is the process by which you can modify the relevance of a document.\n",
    "- There are two different types of boosting: boost at indexing or boost while querying.\n",
    "- Reading: https://weng.gitbooks.io/elasticsearch-in-action/content/chapter6_searching_with_relevancy/63boosting.html "
   ]
  },
  {
   "cell_type": "markdown",
   "id": "fed2ffc1-a90a-4041-abc7-17dbd1b4766f",
   "metadata": {},
   "source": [
    "#### Q7: Find all inspected restaurants that have Italian or Mexican in their \"CUISINE DESCRIPTION\" with higher scoring for Mexican (10.0)."
   ]
  },
  {
   "cell_type": "code",
   "execution_count": null,
   "id": "3b1b51d1-8f65-462d-a633-08302fd71b38",
   "metadata": {},
   "outputs": [],
   "source": [
    "query = {\n",
    "    \n",
    "}\n",
    "response = client.search(index=nyc_index, body=query)\n",
    "print(response['hits']['total']['value'])\n",
    "\n",
    "for hit in response['hits']['hits']:\n",
    "    print(hit['_source']['DBA'], \":\", hit['_source']['CUISINE DESCRIPTION'])\n"
   ]
  },
  {
   "cell_type": "markdown",
   "id": "a7a85ff1-def8-4a76-803a-e7376a4c2a5b",
   "metadata": {},
   "source": [
    "### Why does Italian still get ranked higher than Mexican?\n",
    "\n",
    "1. Term Frequency: If the term \"Italian\" appears more frequently across documents, Elasticsearch’s default ranking algorithm (BM25) may still give it higher weight despite the boost.\n",
    "\n",
    "2. Document Length: If documents mentioning \"Mexican\" are much longer, Elasticsearch may consider the match to be less significant, while shorter documents mentioning \"Italian\" may rank higher.\n",
    "\n",
    "3. Field Analysis: The field `VIOLATION DESCRIPTION` might be tokenized in a way that affects how terms are matched and scored. For example, stemming or normalization could influence relevance.\n",
    "\n",
    "4. Scoring Nuances: Elasticsearch's scoring formula (BM25) factors in other elements like field length, inverse document frequency (IDF), and term frequency (TF), which could make \"Italian\" rank higher if it fits better with these parameters in the indexed documents.\n",
    "\n",
    "### How can we re-write the query to make sure `Mexican` gets boosted?\n",
    "\n",
    "### Disjunction max query\n",
    "\n",
    "- Returns documents matching one or more wrapped queries, called query clauses or clauses.\n",
    "- If a returned document matches multiple query clauses, the dis_max query assigns the document the highest relevance score from any matching clause, plus a tie breaking increment for any additional matching subqueries.\n",
    "- documentation: https://www.elastic.co/guide/en/elasticsearch/reference/current/query-dsl-dis-max-query.html "
   ]
  },
  {
   "cell_type": "code",
   "execution_count": null,
   "id": "50419f52-545f-4589-8776-26fab4b9b635",
   "metadata": {},
   "outputs": [],
   "source": [
    "query = {\n",
    "    \n",
    "}\n",
    "\n",
    "response = client.search(index=nyc_index, body=query)\n",
    "print(response['hits']['total']['value'])\n",
    "for hit in response['hits']['hits']:\n",
    "    print(hit['_source']['DBA'], \":\", hit['_source']['CUISINE DESCRIPTION'])\n"
   ]
  },
  {
   "cell_type": "markdown",
   "id": "8072b6a1-9be4-4b8b-b396-a1c9d43a154a",
   "metadata": {},
   "source": [
    "### Highlighting \n",
    "\n",
    "- During the search process, elasticsearch extracts the text from the fields you want to highlight.\n",
    "- It then marks the matching terms in the retrieved documents, usually by wrapping them in HTML tags (like `<em>` or `<strong>`), making them visually distinct."
   ]
  },
  {
   "cell_type": "markdown",
   "id": "d090439b-e7cd-4952-9e74-5a59a5e54e73",
   "metadata": {},
   "source": [
    "#### Q8: Find all inspected restaurants that have Mexican in \"CUISINE DESCRIPTION\" and highlight the \"CUISINE DESCRIPTION\" field in the results."
   ]
  },
  {
   "cell_type": "code",
   "execution_count": null,
   "id": "1e29a210-c799-475d-830a-cdf00f99fc7a",
   "metadata": {},
   "outputs": [],
   "source": [
    "query = {\n",
    "    \n",
    "}\n",
    "\n",
    "response = client.search(index=nyc_index, body=query)\n",
    "print(response)"
   ]
  },
  {
   "cell_type": "code",
   "execution_count": null,
   "id": "4eb0367d-704d-44fb-af8a-a4a115306c47",
   "metadata": {},
   "outputs": [],
   "source": [
    "query = {\n",
    "    \n",
    "}\n",
    "\n",
    "response = client.search(index=nyc_index, body=query)\n",
    "print(response)"
   ]
  },
  {
   "cell_type": "markdown",
   "id": "291eb8ad-5035-47e6-99e3-ba99b490c78f",
   "metadata": {},
   "source": [
    "### Benefits of Highlighting\n",
    "- Improved User Experience: Highlighting helps users quickly identify relevant sections of text that match their search terms, making it easier to evaluate the results.\n",
    "- Enhanced Readability: By drawing attention to specific keywords or phrases, you improve the overall readability of search results.\n",
    "- Customization: You can customize how highlighting appears (e.g., using different tags or styles) to fit the design of your application."
   ]
  },
  {
   "cell_type": "markdown",
   "id": "04ba3d35-9cc5-4424-a8b4-3a87117e5bd8",
   "metadata": {},
   "source": [
    "### Boolean operators\n",
    "\n",
    "- `must` operator: AND\n",
    "- `should` operator: OR\n",
    "- `must_not` operator: NOT"
   ]
  },
  {
   "cell_type": "markdown",
   "id": "2b55395c-0e30-4cf4-82dc-8d0a4b103d98",
   "metadata": {},
   "source": [
    "#### Q9: Find all Italian restaurants that were inspected in Manhattan."
   ]
  },
  {
   "cell_type": "code",
   "execution_count": null,
   "id": "9806ab69-c546-4373-aaad-f047d0f103f5",
   "metadata": {},
   "outputs": [],
   "source": [
    "query = {\n",
    "    \n",
    "}\n",
    "\n",
    "response = client.search(index=nyc_index, body=query)\n",
    "print(response['hits']['total']['value'])\n",
    "for hit in response['hits']['hits']:\n",
    "    print(hit['_source'])"
   ]
  },
  {
   "cell_type": "markdown",
   "id": "03928196-f960-499f-8864-d458fbd8cffb",
   "metadata": {},
   "source": [
    "#### Q10: Find all inspected restaurants that have Italian or Mexican in their \"CUISINE DESCRIPTION\"."
   ]
  },
  {
   "cell_type": "code",
   "execution_count": null,
   "id": "e8ad9bfd-3928-4144-8cbe-05c3017b53c9",
   "metadata": {},
   "outputs": [],
   "source": [
    "query = {\n",
    "    \n",
    "}\n",
    "\n",
    "response = client.search(index=nyc_index, body=query)\n",
    "print(response['hits']['total']['value'])\n",
    "for hit in response['hits']['hits']:\n",
    "    print(hit['_source'])"
   ]
  },
  {
   "cell_type": "markdown",
   "id": "6520691f-14fa-4829-b384-f9df5e717b26",
   "metadata": {},
   "source": [
    "#### Q11: Find all inspected restaurants that are not in Bronx."
   ]
  },
  {
   "cell_type": "code",
   "execution_count": null,
   "id": "c01a99b0-a8cd-4885-8f51-fe1759aedd36",
   "metadata": {},
   "outputs": [],
   "source": [
    "query = {\n",
    "    \n",
    "}\n",
    "\n",
    "response = client.search(index=nyc_index, body=query)\n",
    "print(response['hits']['total']['value'])\n",
    "for hit in response['hits']['hits']:\n",
    "    print(hit['_source'])"
   ]
  },
  {
   "cell_type": "code",
   "execution_count": null,
   "id": "31cc4bcd-17f6-4705-9b8c-acbb0772b944",
   "metadata": {},
   "outputs": [],
   "source": [
    "query = {\n",
    "    \n",
    "}\n",
    "\n",
    "response = client.search(index=nyc_index, body=query)\n",
    "print(response['hits']['total']['value'])"
   ]
  },
  {
   "cell_type": "code",
   "execution_count": null,
   "id": "c6fcb035-74e5-4deb-a1a2-9edc5c28f31a",
   "metadata": {},
   "outputs": [],
   "source": [
    "2285 + 261"
   ]
  },
  {
   "cell_type": "markdown",
   "id": "86ad06d8-4a60-404c-b497-604f25ac260f",
   "metadata": {},
   "source": [
    "### Aggregations"
   ]
  },
  {
   "cell_type": "markdown",
   "id": "93e59bce-807f-4d3b-b6d4-3ed4e74e5264",
   "metadata": {},
   "source": [
    "#### Q12: How many restaurants are listed in the dataset?"
   ]
  },
  {
   "cell_type": "code",
   "execution_count": null,
   "id": "bf961bca-90ff-4e24-b4e0-a7c6c59aea55",
   "metadata": {},
   "outputs": [],
   "source": [
    "query = {\n",
    "    \n",
    "}\n",
    "\n",
    "response = client.search(index=nyc_index, body=query)\n",
    "total_count = response['aggregations']['total_restaurants']['value']\n",
    "print(f\"Total number of restaurants: {total_count}\")"
   ]
  },
  {
   "cell_type": "markdown",
   "id": "dad6e0ac-f328-41d0-866e-fac0e7e40175",
   "metadata": {},
   "source": [
    "#### Q13: Find the total score of all restaurant inspections in the dataset."
   ]
  },
  {
   "cell_type": "code",
   "execution_count": null,
   "id": "3bced691-43da-4f79-95be-21e82d84f55f",
   "metadata": {},
   "outputs": [],
   "source": [
    "query = {\n",
    "    \n",
    "}\n",
    "\n",
    "response = client.search(index=nyc_index, body=query)\n",
    "print(response['aggregations']['total_score']['value'])"
   ]
  },
  {
   "cell_type": "markdown",
   "id": "e3848eaa-833f-49ff-a63c-13342d47e385",
   "metadata": {},
   "source": [
    "#### Q14: What is the average score of restaurant inspections?"
   ]
  },
  {
   "cell_type": "code",
   "execution_count": null,
   "id": "e18f051f-95c9-47a7-9e24-f034a0eaff6d",
   "metadata": {},
   "outputs": [],
   "source": [
    "query = {\n",
    "    \n",
    "}\n",
    "\n",
    "response = client.search(index=nyc_index, body=query)\n",
    "print(response['aggregations']['average_score']['value'])"
   ]
  },
  {
   "cell_type": "markdown",
   "id": "90ea4fbd-d702-4457-b8e1-d5b14e8ff18a",
   "metadata": {},
   "source": [
    "#### Q15: What is the minimum score of restaurant inspections?"
   ]
  },
  {
   "cell_type": "code",
   "execution_count": null,
   "id": "34341e1f-18a1-421b-bd14-f1ae01604dc3",
   "metadata": {},
   "outputs": [],
   "source": [
    "query = {\n",
    "    \n",
    "}\n",
    "\n",
    "response = client.search(index=nyc_index, body=query)\n",
    "print(response['aggregations']['min_score']['value'])"
   ]
  },
  {
   "cell_type": "markdown",
   "id": "8756b2e9-535e-411d-b83b-3c1f6b813bea",
   "metadata": {},
   "source": [
    "#### Q16: What is the minimum score of restaurant inspections?"
   ]
  },
  {
   "cell_type": "code",
   "execution_count": null,
   "id": "3ced9a3e-76aa-4ddd-9bfe-0ce015064092",
   "metadata": {},
   "outputs": [],
   "source": [
    "query = {\n",
    "   \n",
    "}\n",
    "\n",
    "response = client.search(index=nyc_index, body=query)\n",
    "print(response['aggregations']['min_score']['value'])"
   ]
  },
  {
   "cell_type": "markdown",
   "id": "a55c9333-3cd0-4f8b-90a5-09476f60dc69",
   "metadata": {},
   "source": [
    "#### Q17: What are the top 20 most common cuisine types among the inspected restaurants?"
   ]
  },
  {
   "cell_type": "code",
   "execution_count": null,
   "id": "973a82e6-2a2d-42a1-9621-c357318eb773",
   "metadata": {},
   "outputs": [],
   "source": [
    "query = {\n",
    "    \n",
    "}\n",
    "\n",
    "response = client.search(index=nyc_index, body=query)\n",
    "for bucket in response['aggregations']['cuisine_count']['buckets']:\n",
    "    print(bucket['key'], \":\", bucket['doc_count'])"
   ]
  },
  {
   "cell_type": "markdown",
   "id": "91ad5d94-2677-45ad-9871-c48f58b299e2",
   "metadata": {},
   "source": [
    "#### Q18: How many restaurants fall into each inspection score range (intervals of 5)?"
   ]
  },
  {
   "cell_type": "code",
   "execution_count": null,
   "id": "80f633f2-9274-4d20-a61a-38500cbab8a4",
   "metadata": {},
   "outputs": [],
   "source": [
    "query = {\n",
    "    \n",
    "}\n",
    "\n",
    "response = client.search(index=nyc_index, body=query)\n",
    "for bucket in response['aggregations']['score_histogram']['buckets']:\n",
    "    print(bucket['key'], \":\", bucket['doc_count'])"
   ]
  },
  {
   "cell_type": "markdown",
   "id": "9cb59ece-1db2-4613-bdf0-b8e85d8e061f",
   "metadata": {},
   "source": [
    "#### How many unique cuisine types have been inspected?"
   ]
  },
  {
   "cell_type": "code",
   "execution_count": null,
   "id": "26087ae2-f1e5-408a-aa16-052297fe21ce",
   "metadata": {},
   "outputs": [],
   "source": [
    "query = {\n",
    "    \n",
    "}\n",
    "\n",
    "response = client.search(index=nyc_index, body=query)\n",
    "print(response['aggregations']['unique_cuisines']['value'])"
   ]
  },
  {
   "cell_type": "markdown",
   "id": "bc6f4541-0287-4ca3-9e63-8b16afe2fe00",
   "metadata": {},
   "source": [
    "### New York Restaurants Wikidump"
   ]
  },
  {
   "cell_type": "code",
   "execution_count": null,
   "id": "00d704f4-b042-4ceb-bd37-27e2c1bdb07d",
   "metadata": {},
   "outputs": [],
   "source": [
    "txt_data_dir = \"data/text\"\n",
    "txt_files = [f for f in os.listdir(txt_data_dir) if \".txt\" in f]\n",
    "txt_files"
   ]
  },
  {
   "cell_type": "code",
   "execution_count": null,
   "id": "ca9c8628-068e-4156-bf1a-65546807c3b6",
   "metadata": {},
   "outputs": [],
   "source": [
    "nyc_wiki_index = \"nyc_restaurants_wiki\""
   ]
  },
  {
   "cell_type": "code",
   "execution_count": null,
   "id": "db0dfca0-7150-4248-8c88-dcc74fdb600f",
   "metadata": {},
   "outputs": [],
   "source": []
  },
  {
   "cell_type": "code",
   "execution_count": null,
   "id": "086b695a-bfee-4909-be7c-e196fb8f1fed",
   "metadata": {},
   "outputs": [],
   "source": [
    "mapping = client.indices.get_mapping(index=nyc_wiki_index)\n",
    "print(json.dumps(dict(mapping), indent=4))"
   ]
  },
  {
   "cell_type": "code",
   "execution_count": null,
   "id": "3c8524bb-f2c6-491f-8841-d91142137438",
   "metadata": {},
   "outputs": [],
   "source": [
    "query = {\n",
    "    \"query\": {\n",
    "        \"match_all\": {}\n",
    "    },\n",
    "    \"size\": 2546  \n",
    "}\n",
    "\n",
    "resp = client.search(index=nyc_wiki_index, body=query)\n",
    "resp"
   ]
  },
  {
   "cell_type": "code",
   "execution_count": null,
   "id": "60cacad4-2f25-400c-892f-b16a55de5524",
   "metadata": {},
   "outputs": [],
   "source": []
  }
 ],
 "metadata": {
  "kernelspec": {
   "display_name": "Python 3 (ipykernel)",
   "language": "python",
   "name": "python3"
  },
  "language_info": {
   "codemirror_mode": {
    "name": "ipython",
    "version": 3
   },
   "file_extension": ".py",
   "mimetype": "text/x-python",
   "name": "python",
   "nbconvert_exporter": "python",
   "pygments_lexer": "ipython3",
   "version": "3.10.12"
  }
 },
 "nbformat": 4,
 "nbformat_minor": 5
}
