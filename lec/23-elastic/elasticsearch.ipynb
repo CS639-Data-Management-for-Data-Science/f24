{
 "cells": [
  {
   "cell_type": "markdown",
   "id": "b9bff378-38b4-47fe-857d-1e2f1b52f3a1",
   "metadata": {},
   "source": [
    "# Elasticsearch 4"
   ]
  },
  {
   "cell_type": "code",
   "execution_count": null,
   "id": "f124a0ca-ea67-44c9-a651-189f2e838c50",
   "metadata": {},
   "outputs": [],
   "source": [
    "import os\n",
    "from elasticsearch import Elasticsearch, helpers, NotFoundError\n",
    "import json\n",
    "from datetime import datetime"
   ]
  },
  {
   "cell_type": "code",
   "execution_count": null,
   "id": "012cc7c4-d944-44d6-8e59-58fc25b4577b",
   "metadata": {},
   "outputs": [],
   "source": [
    "elastic_user = \"elastic\"\n",
    "elastic_pwd = \"EBYMFova\""
   ]
  },
  {
   "cell_type": "code",
   "execution_count": null,
   "id": "112640aa-1a76-40e0-961e-dc53ae61cf14",
   "metadata": {},
   "outputs": [],
   "source": [
    "client = Elasticsearch(\"http://localhost:9200\", \\\n",
    "                       basic_auth=(elastic_user, elastic_pwd))  "
   ]
  },
  {
   "cell_type": "markdown",
   "id": "e3a23a9d-ef5a-4aae-ac56-f2ade0597ec6",
   "metadata": {},
   "source": [
    "<b>p4 autograder:</b> We'll get autograded updated to handle both the previous and the current version."
   ]
  },
  {
   "cell_type": "code",
   "execution_count": null,
   "id": "d59cbd16-772c-498a-a267-c780427cad7e",
   "metadata": {},
   "outputs": [],
   "source": [
    "client.info()"
   ]
  },
  {
   "cell_type": "markdown",
   "id": "5e570d38-5db8-498f-b05c-4918f947b8c4",
   "metadata": {},
   "source": [
    "### New York City Restaurants JSON dataset"
   ]
  },
  {
   "cell_type": "code",
   "execution_count": null,
   "id": "01c4af69-0f2b-454b-8020-e7fbd847e0c1",
   "metadata": {},
   "outputs": [],
   "source": [
    "nyc_index = \"nyc_restaurants\""
   ]
  },
  {
   "cell_type": "code",
   "execution_count": null,
   "id": "6d86a187-8148-4623-807d-9b430bbeaa11",
   "metadata": {},
   "outputs": [],
   "source": [
    "json_data_dir = \"data/json\"\n",
    "json_files = [f for f in os.listdir(json_data_dir) if \".json\" in f]\n",
    "json_files"
   ]
  },
  {
   "cell_type": "code",
   "execution_count": null,
   "id": "776a3027-09df-449e-b283-3ccca6e46350",
   "metadata": {},
   "outputs": [],
   "source": [
    "try:\n",
    "    client.indices.delete(index=nyc_index)\n",
    "except NotFoundError as e:\n",
    "    print(\"Index doesn't exist!\")"
   ]
  },
  {
   "cell_type": "code",
   "execution_count": null,
   "id": "6575c2fd-ac5e-4463-bd86-b1213a9dbf54",
   "metadata": {},
   "outputs": [],
   "source": [
    "client.indices.create(index=nyc_index)"
   ]
  },
  {
   "cell_type": "code",
   "execution_count": null,
   "id": "c047484d-4845-4fe5-9784-45e23f047824",
   "metadata": {},
   "outputs": [],
   "source": [
    "with open(os.path.join(json_data_dir, \"New_York_City_Restaurant_Inspection_Results_v2.json\"), 'r') as file:\n",
    "    data = json.load(file)\n",
    "\n",
    "restaurants = data[\"restaurants\"]\n",
    "operations = [\n",
    "    {\"_index\": nyc_index, \"_source\": restaurant}\n",
    "    for restaurant in restaurants\n",
    "]\n",
    "\n",
    "helpers.bulk(client, operations)"
   ]
  },
  {
   "cell_type": "code",
   "execution_count": null,
   "id": "a5453110-c692-47e0-afb0-0c26d26b8cad",
   "metadata": {},
   "outputs": [],
   "source": [
    "query = {\n",
    "    \"query\": {\n",
    "        \"match_all\": {}\n",
    "    },\n",
    "    \"size\": 3000,\n",
    "    \"_source\": [\"DBA\", \"CUISINE DESCRIPTION\"]\n",
    "}\n",
    "\n",
    "response = client.search(index=nyc_index, body=query)\n",
    "for hit in response['hits']['hits']:\n",
    "    print(hit['_source'])"
   ]
  },
  {
   "cell_type": "markdown",
   "id": "788310e2-a1a4-4a43-afc5-e38080578620",
   "metadata": {},
   "source": [
    "### Operator applied between two words in query is \"or\" by default"
   ]
  },
  {
   "cell_type": "markdown",
   "id": "03928196-f960-499f-8864-d458fbd8cffb",
   "metadata": {},
   "source": [
    "#### Q1: Find all inspected restaurants that have Italian or Mexican in their \"CUISINE DESCRIPTION\"."
   ]
  },
  {
   "cell_type": "code",
   "execution_count": null,
   "id": "e8ad9bfd-3928-4144-8cbe-05c3017b53c9",
   "metadata": {},
   "outputs": [],
   "source": [
    "query = {\n",
    "    \"query\": {\n",
    "        \"multi_match\": {\n",
    "            \"query\": \"Italian Mexican\",\n",
    "            \"fields\": [\"CUISINE DESCRIPTION\"],\n",
    "            \"operator\": \"OR\"\n",
    "        }\n",
    "    },\n",
    "    \"size\": 200\n",
    "}\n",
    "\n",
    "response = client.search(index=nyc_index, body=query)\n",
    "print(response['hits']['total']['value'])\n",
    "for hit in response['hits']['hits']:\n",
    "    print(hit['_source']['DBA'], hit['_source']['CUISINE DESCRIPTION'])"
   ]
  },
  {
   "cell_type": "markdown",
   "id": "b5f52ca4-d91f-42a7-8a77-7c3c1ed0adf2",
   "metadata": {},
   "source": [
    "#### Q2: Find all inspected restaurants that have Latin and American in their \"CUISINE DESCRIPTION\"."
   ]
  },
  {
   "cell_type": "markdown",
   "id": "63dcb74b-c8ad-4e4a-a2b9-916f2bda7bf6",
   "metadata": {},
   "source": [
    "Incorrect solution."
   ]
  },
  {
   "cell_type": "code",
   "execution_count": null,
   "id": "a09789bf-36fe-4edc-8c1b-30fe2a160bbc",
   "metadata": {},
   "outputs": [],
   "source": [
    "query = {\n",
    "    \"query\": {\n",
    "        \"multi_match\": {\n",
    "            \"query\": \"Latin American\",\n",
    "            \"fields\": [\"CUISINE DESCRIPTION\"]\n",
    "        }\n",
    "    },\n",
    "    \"size\": 500\n",
    "}\n",
    "\n",
    "response = client.search(index=nyc_index, body=query)\n",
    "print(response['hits']['total']['value'])\n",
    "for hit in response['hits']['hits']:\n",
    "    print(hit['_source']['DBA'], hit['_source']['CUISINE DESCRIPTION'])"
   ]
  },
  {
   "cell_type": "code",
   "execution_count": null,
   "id": "d2841699-51f2-4522-af2c-d30ea3fa3f32",
   "metadata": {},
   "outputs": [],
   "source": [
    "query = {\n",
    "    \"query\": {\n",
    "        \"multi_match\": {\n",
    "            \"query\": \"Latin American\",\n",
    "            \"fields\": [\"CUISINE DESCRIPTION\"],\n",
    "            \"operator\": \"and\"\n",
    "        }\n",
    "    },\n",
    "    \"size\": 200\n",
    "}\n",
    "\n",
    "response = client.search(index=nyc_index, body=query)\n",
    "print(response['hits']['total']['value'])\n",
    "for hit in response['hits']['hits']:\n",
    "    print(hit['_source']['DBA'], hit['_source']['CUISINE DESCRIPTION'])"
   ]
  },
  {
   "cell_type": "code",
   "execution_count": null,
   "id": "df24943f-bdea-4841-b5a8-1233f919ff97",
   "metadata": {},
   "outputs": [],
   "source": [
    "query = {\n",
    "    \"query\": {\n",
    "        \"match_phrase\": {\n",
    "            \"CUISINE DESCRIPTION\": \"Latin American\"\n",
    "        }\n",
    "    },\n",
    "    \"size\": 200\n",
    "}\n",
    "\n",
    "response = client.search(index=nyc_index, body=query)\n",
    "print(response['hits']['total']['value'])\n",
    "for hit in response['hits']['hits']:\n",
    "    print(hit['_source']['DBA'], hit['_source']['CUISINE DESCRIPTION'])"
   ]
  },
  {
   "cell_type": "markdown",
   "id": "86ad06d8-4a60-404c-b497-604f25ac260f",
   "metadata": {},
   "source": [
    "### Aggregations"
   ]
  },
  {
   "cell_type": "markdown",
   "id": "93e59bce-807f-4d3b-b6d4-3ed4e74e5264",
   "metadata": {},
   "source": [
    "#### Q3: How many restaurants are listed in the dataset?"
   ]
  },
  {
   "cell_type": "code",
   "execution_count": null,
   "id": "bf961bca-90ff-4e24-b4e0-a7c6c59aea55",
   "metadata": {},
   "outputs": [],
   "source": [
    "query = {\n",
    "    \"query\": {\n",
    "        \"match_all\": {} \n",
    "    },\n",
    "    \"size\": 0, \n",
    "    \"aggs\": {\n",
    "        \"total_restaurants\": {\n",
    "            \"value_count\": {\n",
    "                \"field\": \"DBA.keyword\" \n",
    "            }\n",
    "        }\n",
    "    }\n",
    "}\n",
    "\n",
    "response = client.search(index=nyc_index, body=query)\n",
    "total_count = response['aggregations']['total_restaurants']['value']\n",
    "print(total_count)"
   ]
  },
  {
   "cell_type": "markdown",
   "id": "dad6e0ac-f328-41d0-866e-fac0e7e40175",
   "metadata": {},
   "source": [
    "#### Q4: Find the total score of all restaurant inspections in the dataset."
   ]
  },
  {
   "cell_type": "code",
   "execution_count": null,
   "id": "3bced691-43da-4f79-95be-21e82d84f55f",
   "metadata": {},
   "outputs": [],
   "source": [
    "query = {\n",
    "    \"size\": 0,\n",
    "    \"aggs\": {\n",
    "        \"total_score\": {\n",
    "            \"sum\": {\n",
    "                \"field\": \"SCORE\"\n",
    "            }\n",
    "        }\n",
    "    }\n",
    "}\n",
    "\n",
    "response = client.search(index=nyc_index, body=query)\n",
    "print(response['aggregations']['total_score']['value'])"
   ]
  },
  {
   "cell_type": "markdown",
   "id": "e3848eaa-833f-49ff-a63c-13342d47e385",
   "metadata": {},
   "source": [
    "#### Q5: What is the average score of restaurant inspections?"
   ]
  },
  {
   "cell_type": "code",
   "execution_count": null,
   "id": "e18f051f-95c9-47a7-9e24-f034a0eaff6d",
   "metadata": {},
   "outputs": [],
   "source": [
    "query = {\n",
    "    \"size\": 0,\n",
    "    \"aggs\": {\n",
    "        \"average_score\": {\n",
    "            \"avg\": {\n",
    "                \"field\": \"SCORE\"\n",
    "            }\n",
    "        }\n",
    "    }\n",
    "}\n",
    "\n",
    "response = client.search(index=nyc_index, body=query)\n",
    "print(response['aggregations']['average_score']['value'])"
   ]
  },
  {
   "cell_type": "markdown",
   "id": "90ea4fbd-d702-4457-b8e1-d5b14e8ff18a",
   "metadata": {},
   "source": [
    "#### Q6: What is the minimum score of restaurant inspections?"
   ]
  },
  {
   "cell_type": "code",
   "execution_count": null,
   "id": "34341e1f-18a1-421b-bd14-f1ae01604dc3",
   "metadata": {},
   "outputs": [],
   "source": [
    "query = {\n",
    "    \"size\": 0,\n",
    "    \"aggs\": {\n",
    "        \"min_score\": {\n",
    "            \"min\": {\n",
    "                \"field\": \"SCORE\"\n",
    "            }\n",
    "        }\n",
    "    }\n",
    "}\n",
    "\n",
    "response = client.search(index=nyc_index, body=query)\n",
    "print(response['aggregations']['min_score']['value'])"
   ]
  },
  {
   "cell_type": "markdown",
   "id": "8756b2e9-535e-411d-b83b-3c1f6b813bea",
   "metadata": {},
   "source": [
    "#### Q7: What is the minimum score of restaurant inspections?"
   ]
  },
  {
   "cell_type": "code",
   "execution_count": null,
   "id": "3ced9a3e-76aa-4ddd-9bfe-0ce015064092",
   "metadata": {},
   "outputs": [],
   "source": [
    "query = {\n",
    "    \"size\": 0,\n",
    "    \"aggs\": {\n",
    "        \"min_score\": {\n",
    "            \"max\": {\n",
    "                \"field\": \"SCORE\"\n",
    "            }\n",
    "        }\n",
    "    }\n",
    "}\n",
    "\n",
    "response = client.search(index=nyc_index, body=query)\n",
    "print(response['aggregations']['min_score']['value'])"
   ]
  },
  {
   "cell_type": "markdown",
   "id": "a55c9333-3cd0-4f8b-90a5-09476f60dc69",
   "metadata": {},
   "source": [
    "#### Q8: What are the top 20 most common cuisine types among the inspected restaurants?"
   ]
  },
  {
   "cell_type": "code",
   "execution_count": null,
   "id": "973a82e6-2a2d-42a1-9621-c357318eb773",
   "metadata": {},
   "outputs": [],
   "source": [
    "query = {\n",
    "    \"size\": 0,\n",
    "    \"aggs\": {\n",
    "        \"cuisine_count\": {\n",
    "            \"terms\": {\n",
    "                \"field\": \"CUISINE DESCRIPTION.keyword\",\n",
    "                \"size\": 20\n",
    "            }\n",
    "        }\n",
    "    }\n",
    "}\n",
    "\n",
    "response = client.search(index=nyc_index, body=query)\n",
    "for bucket in response['aggregations']['cuisine_count']['buckets']:\n",
    "    print(bucket['key'], \":\", bucket['doc_count'])"
   ]
  },
  {
   "cell_type": "markdown",
   "id": "91ad5d94-2677-45ad-9871-c48f58b299e2",
   "metadata": {},
   "source": [
    "#### Q9: How many restaurants fall into each inspection score range (intervals of 5)?"
   ]
  },
  {
   "cell_type": "code",
   "execution_count": null,
   "id": "80f633f2-9274-4d20-a61a-38500cbab8a4",
   "metadata": {},
   "outputs": [],
   "source": [
    "query = {\n",
    "    \"size\": 0,\n",
    "    \"aggs\": {\n",
    "        \"score_histogram\": {\n",
    "            \"histogram\": {\n",
    "                \"field\": \"SCORE\",\n",
    "                \"interval\": 5\n",
    "            }\n",
    "        }\n",
    "    }\n",
    "}\n",
    "\n",
    "response = client.search(index=nyc_index, body=query)\n",
    "for bucket in response['aggregations']['score_histogram']['buckets']:\n",
    "    print(bucket['key'], \":\", bucket['doc_count'])"
   ]
  },
  {
   "cell_type": "markdown",
   "id": "9cb59ece-1db2-4613-bdf0-b8e85d8e061f",
   "metadata": {},
   "source": [
    "#### Q10: How many unique cuisine types have been inspected?"
   ]
  },
  {
   "cell_type": "code",
   "execution_count": null,
   "id": "26087ae2-f1e5-408a-aa16-052297fe21ce",
   "metadata": {},
   "outputs": [],
   "source": [
    "query = {\n",
    "    \"size\": 0,\n",
    "    \"aggs\": {\n",
    "        \"unique_cuisines\": {\n",
    "            \"cardinality\": {\n",
    "                \"field\": \"CUISINE DESCRIPTION.keyword\"\n",
    "            }\n",
    "        }\n",
    "    }\n",
    "}\n",
    "\n",
    "response = client.search(index=nyc_index, body=query)\n",
    "print(response['aggregations']['unique_cuisines']['value'])"
   ]
  },
  {
   "cell_type": "markdown",
   "id": "bc6f4541-0287-4ca3-9e63-8b16afe2fe00",
   "metadata": {},
   "source": [
    "### New York Restaurants Wikidump"
   ]
  },
  {
   "cell_type": "code",
   "execution_count": null,
   "id": "00d704f4-b042-4ceb-bd37-27e2c1bdb07d",
   "metadata": {},
   "outputs": [],
   "source": [
    "txt_data_dir = \"data/text\"\n",
    "txt_files = [f for f in os.listdir(txt_data_dir) if \".txt\" in f]\n",
    "txt_files"
   ]
  },
  {
   "cell_type": "code",
   "execution_count": null,
   "id": "ca9c8628-068e-4156-bf1a-65546807c3b6",
   "metadata": {},
   "outputs": [],
   "source": [
    "nyc_wiki_index = \"nyc_restaurants_wiki\""
   ]
  },
  {
   "cell_type": "code",
   "execution_count": null,
   "id": "db0dfca0-7150-4248-8c88-dcc74fdb600f",
   "metadata": {},
   "outputs": [],
   "source": [
    "documents = []\n",
    "for txt in txt_files:\n",
    "    with open(os.path.join(txt_data_dir, txt), \"r\") as f:\n",
    "        data = f.read()\n",
    "        document = {\"wiki\": str(data)}\n",
    "        documents.append(document)\n",
    "helpers.bulk(client, documents, index=nyc_wiki_index)"
   ]
  },
  {
   "cell_type": "code",
   "execution_count": null,
   "id": "086b695a-bfee-4909-be7c-e196fb8f1fed",
   "metadata": {},
   "outputs": [],
   "source": [
    "mapping = client.indices.get_mapping(index=nyc_wiki_index)\n",
    "print(json.dumps(dict(mapping), indent=4))"
   ]
  },
  {
   "cell_type": "code",
   "execution_count": null,
   "id": "3c8524bb-f2c6-491f-8841-d91142137438",
   "metadata": {},
   "outputs": [],
   "source": [
    "query = {\n",
    "    \"query\": {\n",
    "        \"match_all\": {}\n",
    "    },\n",
    "    \"size\": 2546  \n",
    "}\n",
    "\n",
    "resp = client.search(index=nyc_wiki_index, body=query)\n",
    "resp"
   ]
  },
  {
   "cell_type": "markdown",
   "id": "aa3838b4-6051-4627-bce9-eeec7fcb34e1",
   "metadata": {},
   "source": [
    "#### Find all wikidump documents that mention \"India\"."
   ]
  },
  {
   "cell_type": "code",
   "execution_count": null,
   "id": "a54b05f5-ed9e-48f2-ab02-0f277f78b17c",
   "metadata": {},
   "outputs": [],
   "source": [
    "query = {\n",
    "    \"query\": {\n",
    "        \"match\": {\n",
    "            \"wiki\": \"India\"\n",
    "            }\n",
    "    },\n",
    "    \"_source\": [\"wiki\"],\n",
    "    \"size\": 1000\n",
    "}\n",
    "\n",
    "response = client.search(index=nyc_wiki_index, body=query)\n",
    "\n",
    "print(response['hits']['total']['value'])\n",
    "\n",
    "for hit in response['hits']['hits']:\n",
    "    print(hit['_source'])\n",
    "    print('__________________')"
   ]
  },
  {
   "cell_type": "markdown",
   "id": "d5038da3-2cc4-4151-823b-118c51f7dfd4",
   "metadata": {},
   "source": [
    "### Nested fields\n",
    "\n",
    "- documentation: https://www.elastic.co/guide/en/elasticsearch/reference/current/query-dsl-nested-query.html"
   ]
  },
  {
   "cell_type": "code",
   "execution_count": null,
   "id": "820a6e95-5b0c-43a2-9cf8-43dc13a74acc",
   "metadata": {},
   "outputs": [],
   "source": [
    "try:\n",
    "    client.indices.delete(index=\"test-index\")\n",
    "except NotFoundError as e:\n",
    "    print(\"Index doesn't exist!\")"
   ]
  },
  {
   "cell_type": "code",
   "execution_count": null,
   "id": "3631f0bd-70a7-4169-b4db-61aacce90557",
   "metadata": {},
   "outputs": [],
   "source": [
    "doc1 = {\n",
    "    \"group\": \"nogroup\",\n",
    "    \"user\": [\n",
    "        {\n",
    "            \"first\": \"Jon\",\n",
    "            \"last\": \"Snow\"\n",
    "        }\n",
    "    ]\n",
    "}\n",
    "\n",
    "doc2 = {\n",
    "    \"group\": \"Starks\",\n",
    "    \"user\": [\n",
    "        {\n",
    "            \"first\": \"Eddard\",\n",
    "            \"last\": \"Stark\"\n",
    "        },\n",
    "        {\n",
    "            \"first\": \"Arya\",\n",
    "            \"last\": \"Stark\"\n",
    "        },\n",
    "        {\n",
    "            \"first\": \"Sansa\",\n",
    "            \"last\": \"Stark\"\n",
    "        }\n",
    "    ]\n",
    "}\n",
    "\n",
    "doc3 = {\n",
    "    \"group\": \"Arryns\",\n",
    "    \"user\": [\n",
    "        {\n",
    "            \"first\": \"Jon\",\n",
    "            \"last\": \"Arryn\"\n",
    "        },\n",
    "        {\n",
    "            \"first\": \"Lysa\",\n",
    "            \"last\": \"Arryn\"\n",
    "        }\n",
    "    ]\n",
    "}\n",
    "\n",
    "resp = client.index(index=\"test-index\", id=1, document=doc1)\n",
    "resp = client.index(index=\"test-index\", id=2, document=doc2)\n",
    "resp = client.index(index=\"test-index\", id=2, document=doc3)\n",
    "print(resp)"
   ]
  },
  {
   "cell_type": "code",
   "execution_count": null,
   "id": "381e1e29-2566-4299-921a-436140c3b07a",
   "metadata": {},
   "outputs": [],
   "source": [
    "query = {\n",
    "    \"query\": {\n",
    "        \"match\": {\n",
    "            \"user.first\": \"Jon\"\n",
    "        }\n",
    "    },\n",
    "    \"size\": 1000\n",
    "}\n",
    "response = client.search(index=\"test-index\", body=query)\n",
    "response"
   ]
  },
  {
   "cell_type": "markdown",
   "id": "ef7afd9b-894a-4377-b86f-257af69c89b7",
   "metadata": {},
   "source": [
    "### Geo queries: `geo_distance`\n",
    "\n",
    "- documentation: https://www.elastic.co/guide/en/elasticsearch/reference/current/geo-queries.html"
   ]
  },
  {
   "cell_type": "code",
   "execution_count": null,
   "id": "7c002cfe-3547-44fc-bff5-6c573f034d48",
   "metadata": {},
   "outputs": [],
   "source": [
    "try:\n",
    "    client.indices.delete(index=\"nyc_restaurants_geo\")\n",
    "except NotFoundError as e:\n",
    "    print(\"Index doesn't exist!\")"
   ]
  },
  {
   "cell_type": "code",
   "execution_count": null,
   "id": "2ea342c1-23dc-48af-8a9e-cd4074c60555",
   "metadata": {},
   "outputs": [],
   "source": [
    "geo_mapping = {\n",
    "    \"mappings\": {\n",
    "        \"properties\": {\n",
    "            \"location\": {\"type\": \"geo_point\"},\n",
    "            \"Latitude\": {\"type\": \"float\"},\n",
    "            \"Longitude\": {\"type\": \"float\"}\n",
    "        }\n",
    "    }\n",
    "}\n",
    "\n",
    "client.indices.create(index=\"nyc_restaurants_geo\", body=geo_mapping)\n",
    "\n",
    "reindex_body = {\n",
    "    \"source\": {\"index\": \"nyc_restaurants\"},\n",
    "    \"dest\": {\"index\": \"nyc_restaurants_geo\"},\n",
    "    \"script\": {\n",
    "        \"source\": \"ctx._source['location'] = [ctx._source['Longitude'], ctx._source['Latitude']]\"\n",
    "    }\n",
    "}\n",
    "client.reindex(body=reindex_body)"
   ]
  },
  {
   "cell_type": "markdown",
   "id": "92abeb78-4c79-4da9-a0a1-8cebe447fdd2",
   "metadata": {},
   "source": [
    "#### Q11: Find all inspected restaurants within 5 km of Central Park (NYC) and plot them."
   ]
  },
  {
   "cell_type": "code",
   "execution_count": null,
   "id": "7df5aa64-79f3-4bcc-9ba6-42ce5e999b0b",
   "metadata": {},
   "outputs": [],
   "source": [
    "query = {\n",
    "    \"query\": {\n",
    "        \"geo_distance\": {\n",
    "            \"distance\": \"5km\",\n",
    "            \"location\": { \n",
    "                \"lat\": 40.7851,\n",
    "                \"lon\": -73.9654\n",
    "            }\n",
    "        }\n",
    "    },\n",
    "    \"_source\": [\"DBA\", \"CUISINE DESCRIPTION\", \"location\"],\n",
    "    \"size\": 600\n",
    "}\n",
    "\n",
    "response = client.search(index=\"nyc_restaurants_geo\", body=query)\n",
    "print(response['hits']['total']['value'])\n",
    "# for hit in response['hits']['hits']:\n",
    "#     print(f\"Restaurant: {hit['_source']['DBA']}, Cuisine: {hit['_source']['CUISINE DESCRIPTION']}, Location: {hit['_source']['location']}\")"
   ]
  },
  {
   "cell_type": "code",
   "execution_count": null,
   "id": "54e648a4-569d-4cd6-bf45-3e58177d752e",
   "metadata": {},
   "outputs": [],
   "source": []
  },
  {
   "cell_type": "code",
   "execution_count": null,
   "id": "d7249708-a96e-43c1-bd41-afdef0105a58",
   "metadata": {},
   "outputs": [],
   "source": []
  }
 ],
 "metadata": {
  "kernelspec": {
   "display_name": "Python 3 (ipykernel)",
   "language": "python",
   "name": "python3"
  },
  "language_info": {
   "codemirror_mode": {
    "name": "ipython",
    "version": 3
   },
   "file_extension": ".py",
   "mimetype": "text/x-python",
   "name": "python",
   "nbconvert_exporter": "python",
   "pygments_lexer": "ipython3",
   "version": "3.10.12"
  }
 },
 "nbformat": 4,
 "nbformat_minor": 5
}
